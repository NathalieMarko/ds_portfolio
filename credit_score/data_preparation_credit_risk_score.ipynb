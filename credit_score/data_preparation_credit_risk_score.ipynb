{
 "cells": [
  {
   "cell_type": "code",
   "execution_count": 1,
   "metadata": {
    "tags": []
   },
   "outputs": [],
   "source": [
    "import polars as pl\n",
    "from pathlib import Path\n",
    "import numpy as np\n",
    "import pandas as pd\n",
    "import gc\n",
    "from sklearn.preprocessing import LabelEncoder\n",
    "import os\n",
    "import joblib"
   ]
  },
  {
   "cell_type": "code",
   "execution_count": 2,
   "metadata": {
    "tags": []
   },
   "outputs": [
    {
     "data": {
      "text/plain": [
       "'/Users/nataliamarko/Documents/Kaggle/home_credit_risk_score'"
      ]
     },
     "execution_count": 2,
     "metadata": {},
     "output_type": "execute_result"
    }
   ],
   "source": [
    "os.getcwd()"
   ]
  },
  {
   "cell_type": "code",
   "execution_count": 3,
   "metadata": {
    "tags": []
   },
   "outputs": [],
   "source": [
    "# Define paths\n",
    "ROOT = Path('/Users/nataliamarko/Documents/Kaggle/home_credit_risk_score')\n",
    "TRAIN_DIR = ROOT / 'train'\n",
    "TEST_DIR = ROOT / 'test'\n",
    "TEMP_DIR = ROOT / 'temp_data'\n",
    "\n",
    "# List of selected files\n",
    "train_selected_files = [\n",
    "    \"train_base.csv\",\n",
    "    \"train_static_cb_0.csv\",\n",
    "    \"train_debitcard_1.csv\",\n",
    "    \"train_deposit_1.csv\",\n",
    "    \"train_credit_bureau_b_1.csv\",\n",
    "    \"train_credit_bureau_b_2.csv\",\n",
    "]\n",
    "\n",
    "test_selected_files = [\n",
    "    \"test_base.csv\",\n",
    "    \"test_static_cb_0.csv\",\n",
    "    \"test_debitcard_1.csv\",\n",
    "    \"test_deposit_1.csv\",\n",
    "    \"test_credit_bureau_b_1.csv\",\n",
    "    \"test_credit_bureau_b_2.csv\",\n",
    "]"
   ]
  },
  {
   "cell_type": "code",
   "execution_count": 4,
   "metadata": {
    "tags": []
   },
   "outputs": [
    {
     "data": {
      "text/plain": [
       "0"
      ]
     },
     "execution_count": 4,
     "metadata": {},
     "output_type": "execute_result"
    }
   ],
   "source": [
    "# Function to read and process files in chunks\n",
    "def read_and_process_file(file_path, chunk_size=10000):\n",
    "    return pl.scan_csv(file_path)\n",
    "\n",
    "# Lazily load base files and add 'dataset' column\n",
    "train_base = read_and_process_file(TRAIN_DIR / \"train_base.csv\").with_columns(\n",
    "    pl.lit(\"train\").alias(\"dataset\")\n",
    ")\n",
    "test_base = read_and_process_file(TEST_DIR / \"test_base.csv\").with_columns(\n",
    "    pl.lit(\"test\").alias(\"dataset\")\n",
    ")\n",
    "\n",
    "# Align columns lazily\n",
    "train_columns = set(train_base.columns)\n",
    "test_columns = set(test_base.columns)\n",
    "all_columns = train_columns | test_columns\n",
    "\n",
    "train_base = train_base.select(\n",
    "    [pl.col(c) if c in train_columns else pl.lit(None).alias(c) for c in all_columns]\n",
    ")\n",
    "test_base = test_base.select(\n",
    "    [pl.col(c) if c in test_columns else pl.lit(None).alias(c) for c in all_columns]\n",
    ")\n",
    "\n",
    "# Combine train and test base files\n",
    "combined_base = pl.concat([train_base, test_base])\n",
    "\n",
    "# Materialize the LazyFrame before writing\n",
    "combined_base = combined_base.collect() \n",
    "\n",
    "joblib.dump(combined_base, TEMP_DIR / 'combined_base.pkl') \n",
    "\n",
    "del train_base, test_base, train_columns, test_columns, all_columns\n",
    "gc.collect()"
   ]
  },
  {
   "cell_type": "code",
   "execution_count": 5,
   "metadata": {
    "tags": []
   },
   "outputs": [
    {
     "name": "stdout",
     "output_type": "stream",
     "text": [
      "Final dataframe saved to /Users/nataliamarko/Documents/Kaggle/home_credit_risk_score/temp_data/final_df.pkl\n"
     ]
    }
   ],
   "source": [
    "# Function to perform full join on 'case_id' and handle duplicate columns\n",
    "def full_join_and_clean(base_df, include_files, directory):\n",
    "    for file in include_files:\n",
    "        df = read_and_process_file(directory / file)  # This remains a LazyFrame\n",
    "        base_df = base_df.join(df, on=\"case_id\", how=\"outer\")  # Join LazyFrames\n",
    "        col_right = [x for x in base_df.columns if x.endswith(\"_right\")]\n",
    "        base_df = base_df.drop(col_right)  # Drop '_right' columns\n",
    "    return base_df  # Return a LazyFrame\n",
    "\n",
    "# Perform the full join and clean the DataFrame, ensuring LazyFrames are used\n",
    "combined_base = joblib.load(TEMP_DIR / 'combined_base.pkl')  # Load the combined base file\n",
    "combined_base = pl.DataFrame(combined_base)  # Convert to Polars DataFrame\n",
    "\n",
    "combined_df = full_join_and_clean(combined_base.lazy(), train_selected_files, TRAIN_DIR)  # Use LazyFrame\n",
    "combined_df = full_join_and_clean(combined_df.lazy(), test_selected_files, TEST_DIR)  # Use LazyFrame\n",
    "\n",
    "# Collect the final result after all joins\n",
    "combined_df = combined_df.collect()\n",
    "\n",
    "# Drop duplicates in the DataFrame while preserving lazy evaluation\n",
    "combined_df = combined_df.unique()\n",
    "\n",
    "# Drop rows by duplicated case_id\n",
    "final_df = combined_df.unique(subset=[\"case_id\"]).sort(\"case_id\")\n",
    "\n",
    "# Save final dataframe\n",
    "final_df_path = TEMP_DIR / 'final_df.pkl'\n",
    "joblib.dump(final_df, final_df_path)\n",
    "print(f\"Final dataframe saved to {final_df_path}\")\n",
    "\n",
    "# Cleanup\n",
    "del combined_df\n",
    "gc.collect()\n"
   ]
  },
  {
   "cell_type": "code",
   "execution_count": 6,
   "metadata": {
    "tags": []
   },
   "outputs": [
    {
     "data": {
      "text/html": [
       "<div><style>\n",
       ".dataframe > thead > tr,\n",
       ".dataframe > tbody > tr {\n",
       "  text-align: right;\n",
       "  white-space: pre-wrap;\n",
       "}\n",
       "</style>\n",
       "<small>shape: (1_526_670, 113)</small><table border=\"1\" class=\"dataframe\"><thead><tr><th>MONTH</th><th>case_id</th><th>dataset</th><th>target</th><th>WEEK_NUM</th><th>date_decision</th><th>assignmentdate_238D</th><th>assignmentdate_4527235D</th><th>assignmentdate_4955616D</th><th>birthdate_574D</th><th>contractssum_5085716L</th><th>dateofbirth_337D</th><th>dateofbirth_342D</th><th>days120_123L</th><th>days180_256L</th><th>days30_165L</th><th>days360_512L</th><th>days90_310L</th><th>description_5085714M</th><th>education_1103M</th><th>education_88M</th><th>firstquarter_103L</th><th>for3years_128L</th><th>for3years_504L</th><th>for3years_584L</th><th>formonth_118L</th><th>formonth_206L</th><th>formonth_535L</th><th>forquarter_1017L</th><th>forquarter_462L</th><th>forquarter_634L</th><th>fortoday_1092L</th><th>forweek_1077L</th><th>forweek_528L</th><th>forweek_601L</th><th>foryear_618L</th><th>foryear_818L</th><th>&hellip;</th><th>credquantity_1099L</th><th>credquantity_984L</th><th>debtpastduevalue_732A</th><th>debtvalue_227A</th><th>dpd_550P</th><th>dpd_733P</th><th>dpdmax_851P</th><th>dpdmaxdatemonth_804T</th><th>dpdmaxdateyear_742T</th><th>installmentamount_644A</th><th>installmentamount_833A</th><th>instlamount_892A</th><th>interesteffectiverate_369L</th><th>interestrateyearly_538L</th><th>lastupdate_260D</th><th>maxdebtpduevalodued_3940955A</th><th>numberofinstls_810L</th><th>overdueamountmax_950A</th><th>overdueamountmaxdatemonth_494T</th><th>overdueamountmaxdateyear_432T</th><th>periodicityofpmts_997L</th><th>periodicityofpmts_997M</th><th>pmtdaysoverdue_1135P</th><th>pmtmethod_731M</th><th>pmtnumpending_403L</th><th>purposeofcred_722M</th><th>residualamount_1093A</th><th>residualamount_127A</th><th>residualamount_3940956A</th><th>subjectrole_326M</th><th>subjectrole_43M</th><th>totalamount_503A</th><th>totalamount_881A</th><th>num_group2</th><th>pmts_date_1107D</th><th>pmts_dpdvalue_108P</th><th>pmts_pmtsoverdue_635A</th></tr><tr><td>i64</td><td>i64</td><td>str</td><td>i64</td><td>i64</td><td>str</td><td>str</td><td>str</td><td>str</td><td>str</td><td>str</td><td>str</td><td>str</td><td>f64</td><td>f64</td><td>f64</td><td>f64</td><td>f64</td><td>str</td><td>str</td><td>str</td><td>f64</td><td>f64</td><td>f64</td><td>f64</td><td>f64</td><td>f64</td><td>f64</td><td>f64</td><td>f64</td><td>f64</td><td>f64</td><td>f64</td><td>f64</td><td>f64</td><td>f64</td><td>f64</td><td>&hellip;</td><td>f64</td><td>f64</td><td>f64</td><td>f64</td><td>f64</td><td>f64</td><td>f64</td><td>f64</td><td>f64</td><td>f64</td><td>f64</td><td>f64</td><td>f64</td><td>f64</td><td>str</td><td>f64</td><td>f64</td><td>f64</td><td>f64</td><td>f64</td><td>str</td><td>str</td><td>f64</td><td>str</td><td>f64</td><td>str</td><td>f64</td><td>f64</td><td>f64</td><td>str</td><td>str</td><td>f64</td><td>f64</td><td>i64</td><td>str</td><td>f64</td><td>f64</td></tr></thead><tbody><tr><td>null</td><td>null</td><td>null</td><td>null</td><td>null</td><td>null</td><td>null</td><td>null</td><td>null</td><td>null</td><td>null</td><td>null</td><td>null</td><td>null</td><td>null</td><td>null</td><td>null</td><td>null</td><td>null</td><td>null</td><td>null</td><td>null</td><td>null</td><td>null</td><td>null</td><td>null</td><td>null</td><td>null</td><td>null</td><td>null</td><td>null</td><td>null</td><td>null</td><td>null</td><td>null</td><td>null</td><td>null</td><td>&hellip;</td><td>null</td><td>null</td><td>null</td><td>null</td><td>null</td><td>null</td><td>null</td><td>null</td><td>null</td><td>null</td><td>null</td><td>null</td><td>null</td><td>null</td><td>null</td><td>null</td><td>null</td><td>null</td><td>null</td><td>null</td><td>null</td><td>null</td><td>null</td><td>null</td><td>null</td><td>null</td><td>null</td><td>null</td><td>null</td><td>null</td><td>null</td><td>null</td><td>null</td><td>null</td><td>null</td><td>null</td><td>null</td></tr><tr><td>201901</td><td>0</td><td>&quot;train&quot;</td><td>0</td><td>0</td><td>&quot;2019-01-03&quot;</td><td>null</td><td>null</td><td>null</td><td>null</td><td>null</td><td>null</td><td>null</td><td>null</td><td>null</td><td>null</td><td>null</td><td>null</td><td>null</td><td>null</td><td>null</td><td>null</td><td>null</td><td>null</td><td>null</td><td>null</td><td>null</td><td>null</td><td>null</td><td>null</td><td>null</td><td>null</td><td>null</td><td>null</td><td>null</td><td>null</td><td>null</td><td>&hellip;</td><td>null</td><td>null</td><td>null</td><td>null</td><td>null</td><td>null</td><td>null</td><td>null</td><td>null</td><td>null</td><td>null</td><td>null</td><td>null</td><td>null</td><td>null</td><td>null</td><td>null</td><td>null</td><td>null</td><td>null</td><td>null</td><td>null</td><td>null</td><td>null</td><td>null</td><td>null</td><td>null</td><td>null</td><td>null</td><td>null</td><td>null</td><td>null</td><td>null</td><td>null</td><td>null</td><td>null</td><td>null</td></tr><tr><td>201901</td><td>1</td><td>&quot;train&quot;</td><td>0</td><td>0</td><td>&quot;2019-01-03&quot;</td><td>null</td><td>null</td><td>null</td><td>null</td><td>null</td><td>null</td><td>null</td><td>null</td><td>null</td><td>null</td><td>null</td><td>null</td><td>null</td><td>null</td><td>null</td><td>null</td><td>null</td><td>null</td><td>null</td><td>null</td><td>null</td><td>null</td><td>null</td><td>null</td><td>null</td><td>null</td><td>null</td><td>null</td><td>null</td><td>null</td><td>null</td><td>&hellip;</td><td>null</td><td>null</td><td>null</td><td>null</td><td>null</td><td>null</td><td>null</td><td>null</td><td>null</td><td>null</td><td>null</td><td>null</td><td>null</td><td>null</td><td>null</td><td>null</td><td>null</td><td>null</td><td>null</td><td>null</td><td>null</td><td>null</td><td>null</td><td>null</td><td>null</td><td>null</td><td>null</td><td>null</td><td>null</td><td>null</td><td>null</td><td>null</td><td>null</td><td>null</td><td>null</td><td>null</td><td>null</td></tr><tr><td>201901</td><td>2</td><td>&quot;train&quot;</td><td>0</td><td>0</td><td>&quot;2019-01-04&quot;</td><td>null</td><td>null</td><td>null</td><td>null</td><td>null</td><td>null</td><td>null</td><td>null</td><td>null</td><td>null</td><td>null</td><td>null</td><td>null</td><td>null</td><td>null</td><td>null</td><td>null</td><td>null</td><td>null</td><td>null</td><td>null</td><td>null</td><td>null</td><td>null</td><td>null</td><td>null</td><td>null</td><td>null</td><td>null</td><td>null</td><td>null</td><td>&hellip;</td><td>null</td><td>null</td><td>null</td><td>null</td><td>null</td><td>null</td><td>null</td><td>null</td><td>null</td><td>null</td><td>null</td><td>null</td><td>null</td><td>null</td><td>null</td><td>null</td><td>null</td><td>null</td><td>null</td><td>null</td><td>null</td><td>null</td><td>null</td><td>null</td><td>null</td><td>null</td><td>null</td><td>null</td><td>null</td><td>null</td><td>null</td><td>null</td><td>null</td><td>null</td><td>null</td><td>null</td><td>null</td></tr><tr><td>201901</td><td>3</td><td>&quot;train&quot;</td><td>0</td><td>0</td><td>&quot;2019-01-03&quot;</td><td>null</td><td>null</td><td>null</td><td>null</td><td>null</td><td>null</td><td>null</td><td>null</td><td>null</td><td>null</td><td>null</td><td>null</td><td>null</td><td>null</td><td>null</td><td>null</td><td>null</td><td>null</td><td>null</td><td>null</td><td>null</td><td>null</td><td>null</td><td>null</td><td>null</td><td>null</td><td>null</td><td>null</td><td>null</td><td>null</td><td>null</td><td>&hellip;</td><td>null</td><td>null</td><td>null</td><td>null</td><td>null</td><td>null</td><td>null</td><td>null</td><td>null</td><td>null</td><td>null</td><td>null</td><td>null</td><td>null</td><td>null</td><td>null</td><td>null</td><td>null</td><td>null</td><td>null</td><td>null</td><td>null</td><td>null</td><td>null</td><td>null</td><td>null</td><td>null</td><td>null</td><td>null</td><td>null</td><td>null</td><td>null</td><td>null</td><td>null</td><td>null</td><td>null</td><td>null</td></tr><tr><td>&hellip;</td><td>&hellip;</td><td>&hellip;</td><td>&hellip;</td><td>&hellip;</td><td>&hellip;</td><td>&hellip;</td><td>&hellip;</td><td>&hellip;</td><td>&hellip;</td><td>&hellip;</td><td>&hellip;</td><td>&hellip;</td><td>&hellip;</td><td>&hellip;</td><td>&hellip;</td><td>&hellip;</td><td>&hellip;</td><td>&hellip;</td><td>&hellip;</td><td>&hellip;</td><td>&hellip;</td><td>&hellip;</td><td>&hellip;</td><td>&hellip;</td><td>&hellip;</td><td>&hellip;</td><td>&hellip;</td><td>&hellip;</td><td>&hellip;</td><td>&hellip;</td><td>&hellip;</td><td>&hellip;</td><td>&hellip;</td><td>&hellip;</td><td>&hellip;</td><td>&hellip;</td><td>&hellip;</td><td>&hellip;</td><td>&hellip;</td><td>&hellip;</td><td>&hellip;</td><td>&hellip;</td><td>&hellip;</td><td>&hellip;</td><td>&hellip;</td><td>&hellip;</td><td>&hellip;</td><td>&hellip;</td><td>&hellip;</td><td>&hellip;</td><td>&hellip;</td><td>&hellip;</td><td>&hellip;</td><td>&hellip;</td><td>&hellip;</td><td>&hellip;</td><td>&hellip;</td><td>&hellip;</td><td>&hellip;</td><td>&hellip;</td><td>&hellip;</td><td>&hellip;</td><td>&hellip;</td><td>&hellip;</td><td>&hellip;</td><td>&hellip;</td><td>&hellip;</td><td>&hellip;</td><td>&hellip;</td><td>&hellip;</td><td>&hellip;</td><td>&hellip;</td><td>&hellip;</td><td>&hellip;</td></tr><tr><td>202010</td><td>2703450</td><td>&quot;train&quot;</td><td>0</td><td>91</td><td>&quot;2020-10-05&quot;</td><td>null</td><td>null</td><td>&quot;2018-01-11&quot;</td><td>null</td><td>&quot;52863.59&quot;</td><td>&quot;1960-01-01&quot;</td><td>null</td><td>0.0</td><td>0.0</td><td>0.0</td><td>0.0</td><td>0.0</td><td>&quot;2fc785b2&quot;</td><td>&quot;a55475b1&quot;</td><td>&quot;a55475b1&quot;</td><td>0.0</td><td>null</td><td>null</td><td>null</td><td>null</td><td>null</td><td>null</td><td>null</td><td>null</td><td>null</td><td>null</td><td>null</td><td>null</td><td>null</td><td>null</td><td>null</td><td>&hellip;</td><td>null</td><td>null</td><td>null</td><td>null</td><td>null</td><td>null</td><td>null</td><td>null</td><td>null</td><td>null</td><td>null</td><td>null</td><td>null</td><td>null</td><td>null</td><td>null</td><td>null</td><td>null</td><td>null</td><td>null</td><td>null</td><td>null</td><td>null</td><td>null</td><td>null</td><td>null</td><td>null</td><td>null</td><td>null</td><td>null</td><td>null</td><td>null</td><td>null</td><td>null</td><td>null</td><td>null</td><td>null</td></tr><tr><td>202010</td><td>2703451</td><td>&quot;train&quot;</td><td>0</td><td>91</td><td>&quot;2020-10-05&quot;</td><td>null</td><td>null</td><td>&quot;2005-06-15&quot;</td><td>null</td><td>&quot;324608.52&quot;</td><td>&quot;1950-11-01&quot;</td><td>null</td><td>0.0</td><td>0.0</td><td>0.0</td><td>0.0</td><td>0.0</td><td>&quot;2fc785b2&quot;</td><td>&quot;a55475b1&quot;</td><td>&quot;a55475b1&quot;</td><td>1.0</td><td>null</td><td>null</td><td>null</td><td>null</td><td>null</td><td>null</td><td>null</td><td>null</td><td>null</td><td>null</td><td>null</td><td>null</td><td>null</td><td>null</td><td>null</td><td>&hellip;</td><td>null</td><td>null</td><td>null</td><td>null</td><td>null</td><td>null</td><td>null</td><td>null</td><td>null</td><td>null</td><td>null</td><td>null</td><td>null</td><td>null</td><td>null</td><td>null</td><td>null</td><td>null</td><td>null</td><td>null</td><td>null</td><td>null</td><td>null</td><td>null</td><td>null</td><td>null</td><td>null</td><td>null</td><td>null</td><td>null</td><td>null</td><td>null</td><td>null</td><td>null</td><td>null</td><td>null</td><td>null</td></tr><tr><td>202010</td><td>2703452</td><td>&quot;train&quot;</td><td>0</td><td>91</td><td>&quot;2020-10-05&quot;</td><td>null</td><td>null</td><td>null</td><td>null</td><td>&quot;102738.76&quot;</td><td>&quot;1977-08-01&quot;</td><td>null</td><td>2.0</td><td>2.0</td><td>0.0</td><td>3.0</td><td>2.0</td><td>&quot;2fc785b2&quot;</td><td>&quot;a55475b1&quot;</td><td>&quot;a55475b1&quot;</td><td>0.0</td><td>null</td><td>null</td><td>null</td><td>null</td><td>null</td><td>null</td><td>null</td><td>null</td><td>null</td><td>null</td><td>null</td><td>null</td><td>null</td><td>null</td><td>null</td><td>&hellip;</td><td>null</td><td>null</td><td>null</td><td>null</td><td>null</td><td>null</td><td>null</td><td>null</td><td>null</td><td>null</td><td>null</td><td>null</td><td>null</td><td>null</td><td>null</td><td>null</td><td>null</td><td>null</td><td>null</td><td>null</td><td>null</td><td>null</td><td>null</td><td>null</td><td>null</td><td>null</td><td>null</td><td>null</td><td>null</td><td>null</td><td>null</td><td>null</td><td>null</td><td>null</td><td>null</td><td>null</td><td>null</td></tr><tr><td>202010</td><td>2703453</td><td>&quot;train&quot;</td><td>0</td><td>91</td><td>&quot;2020-10-05&quot;</td><td>null</td><td>null</td><td>&quot;2008-02-15&quot;</td><td>null</td><td>&quot;212683.29&quot;</td><td>&quot;1950-02-01&quot;</td><td>null</td><td>2.0</td><td>2.0</td><td>1.0</td><td>4.0</td><td>1.0</td><td>&quot;2fc785b2&quot;</td><td>&quot;6b2ae0fa&quot;</td><td>&quot;a55475b1&quot;</td><td>1.0</td><td>null</td><td>null</td><td>null</td><td>null</td><td>null</td><td>null</td><td>null</td><td>null</td><td>null</td><td>null</td><td>null</td><td>null</td><td>null</td><td>null</td><td>null</td><td>&hellip;</td><td>null</td><td>null</td><td>null</td><td>null</td><td>null</td><td>null</td><td>null</td><td>null</td><td>null</td><td>null</td><td>null</td><td>null</td><td>null</td><td>null</td><td>null</td><td>null</td><td>null</td><td>null</td><td>null</td><td>null</td><td>null</td><td>null</td><td>null</td><td>null</td><td>null</td><td>null</td><td>null</td><td>null</td><td>null</td><td>null</td><td>null</td><td>null</td><td>null</td><td>null</td><td>null</td><td>null</td><td>null</td></tr><tr><td>202010</td><td>2703454</td><td>&quot;train&quot;</td><td>0</td><td>91</td><td>&quot;2020-10-05&quot;</td><td>null</td><td>null</td><td>&quot;2000-08-22&quot;</td><td>null</td><td>&quot;42757.89&quot;</td><td>&quot;1948-04-01&quot;</td><td>null</td><td>1.0</td><td>1.0</td><td>0.0</td><td>1.0</td><td>0.0</td><td>&quot;2fc785b2&quot;</td><td>&quot;a55475b1&quot;</td><td>&quot;a55475b1&quot;</td><td>0.0</td><td>null</td><td>null</td><td>null</td><td>null</td><td>null</td><td>null</td><td>null</td><td>null</td><td>null</td><td>null</td><td>null</td><td>null</td><td>null</td><td>null</td><td>null</td><td>&hellip;</td><td>null</td><td>null</td><td>null</td><td>null</td><td>null</td><td>null</td><td>null</td><td>null</td><td>null</td><td>null</td><td>null</td><td>null</td><td>null</td><td>null</td><td>null</td><td>null</td><td>null</td><td>null</td><td>null</td><td>null</td><td>null</td><td>null</td><td>null</td><td>null</td><td>null</td><td>null</td><td>null</td><td>null</td><td>null</td><td>null</td><td>null</td><td>null</td><td>null</td><td>null</td><td>null</td><td>null</td><td>null</td></tr></tbody></table></div>"
      ],
      "text/plain": [
       "shape: (1_526_670, 113)\n",
       "┌────────┬─────────┬─────────┬────────┬───┬────────────┬──────────────┬──────────────┬─────────────┐\n",
       "│ MONTH  ┆ case_id ┆ dataset ┆ target ┆ … ┆ num_group2 ┆ pmts_date_11 ┆ pmts_dpdvalu ┆ pmts_pmtsov │\n",
       "│ ---    ┆ ---     ┆ ---     ┆ ---    ┆   ┆ ---        ┆ 07D          ┆ e_108P       ┆ erdue_635A  │\n",
       "│ i64    ┆ i64     ┆ str     ┆ i64    ┆   ┆ i64        ┆ ---          ┆ ---          ┆ ---         │\n",
       "│        ┆         ┆         ┆        ┆   ┆            ┆ str          ┆ f64          ┆ f64         │\n",
       "╞════════╪═════════╪═════════╪════════╪═══╪════════════╪══════════════╪══════════════╪═════════════╡\n",
       "│ null   ┆ null    ┆ null    ┆ null   ┆ … ┆ null       ┆ null         ┆ null         ┆ null        │\n",
       "│ 201901 ┆ 0       ┆ train   ┆ 0      ┆ … ┆ null       ┆ null         ┆ null         ┆ null        │\n",
       "│ 201901 ┆ 1       ┆ train   ┆ 0      ┆ … ┆ null       ┆ null         ┆ null         ┆ null        │\n",
       "│ 201901 ┆ 2       ┆ train   ┆ 0      ┆ … ┆ null       ┆ null         ┆ null         ┆ null        │\n",
       "│ 201901 ┆ 3       ┆ train   ┆ 0      ┆ … ┆ null       ┆ null         ┆ null         ┆ null        │\n",
       "│ …      ┆ …       ┆ …       ┆ …      ┆ … ┆ …          ┆ …            ┆ …            ┆ …           │\n",
       "│ 202010 ┆ 2703450 ┆ train   ┆ 0      ┆ … ┆ null       ┆ null         ┆ null         ┆ null        │\n",
       "│ 202010 ┆ 2703451 ┆ train   ┆ 0      ┆ … ┆ null       ┆ null         ┆ null         ┆ null        │\n",
       "│ 202010 ┆ 2703452 ┆ train   ┆ 0      ┆ … ┆ null       ┆ null         ┆ null         ┆ null        │\n",
       "│ 202010 ┆ 2703453 ┆ train   ┆ 0      ┆ … ┆ null       ┆ null         ┆ null         ┆ null        │\n",
       "│ 202010 ┆ 2703454 ┆ train   ┆ 0      ┆ … ┆ null       ┆ null         ┆ null         ┆ null        │\n",
       "└────────┴─────────┴─────────┴────────┴───┴────────────┴──────────────┴──────────────┴─────────────┘"
      ]
     },
     "execution_count": 6,
     "metadata": {},
     "output_type": "execute_result"
    }
   ],
   "source": [
    "final_df"
   ]
  },
  {
   "cell_type": "code",
   "execution_count": 7,
   "metadata": {
    "tags": []
   },
   "outputs": [
    {
     "name": "stdout",
     "output_type": "stream",
     "text": [
      "shape: (2, 2)\n",
      "┌─────────┬─────────┐\n",
      "│ dataset ┆ count   │\n",
      "│ ---     ┆ ---     │\n",
      "│ str     ┆ u32     │\n",
      "╞═════════╪═════════╡\n",
      "│ test    ┆ 10      │\n",
      "│ train   ┆ 1526659 │\n",
      "└─────────┴─────────┘\n"
     ]
    },
    {
     "data": {
      "text/plain": [
       "0"
      ]
     },
     "execution_count": 7,
     "metadata": {},
     "output_type": "execute_result"
    }
   ],
   "source": [
    "# Filter out null values from the 'dataset' column\n",
    "final_df = final_df.filter(pl.col('dataset').is_not_null())\n",
    "\n",
    "# Drop duplicates in the DataFrame\n",
    "final_df = final_df.unique()\n",
    "\n",
    "# Count unique values in the 'dataset' column\n",
    "unique_value_counts = final_df['dataset'].value_counts()\n",
    "print(unique_value_counts)\n",
    "\n",
    "# Select categorical columns including 'case_id' and 'dataset'\n",
    "categorical_columns = [pl.col('case_id'), pl.col('dataset')] + \\\n",
    "                      [pl.col(x) for x in final_df.columns if final_df[x].dtype == pl.Utf8 and x not in ['case_id', 'dataset']]\n",
    "df_categ = final_df.select(categorical_columns)\n",
    "\n",
    "# Select numeric columns including 'case_id' and 'dataset', excluding 'target'\n",
    "numeric_columns = [pl.col('case_id'), pl.col('dataset')] + \\\n",
    "                  [pl.col(x) for x in final_df.columns if final_df[x].dtype in [pl.Int64, pl.Float64, pl.Float32, pl.Int32] and x not in ['case_id', 'dataset']]\n",
    "df_numeric = final_df.select(numeric_columns)\n",
    "\n",
    "# Cleanup to free memory\n",
    "del final_df\n",
    "gc.collect()"
   ]
  },
  {
   "cell_type": "code",
   "execution_count": 8,
   "metadata": {
    "tags": []
   },
   "outputs": [
    {
     "data": {
      "text/plain": [
       "0"
      ]
     },
     "execution_count": 8,
     "metadata": {},
     "output_type": "execute_result"
    }
   ],
   "source": [
    "# Convert to pandas for correlation calculation\n",
    "df_numeric_pd = df_numeric.to_pandas()\n",
    "corr_matrix = df_numeric_pd.drop(columns=['case_id', 'dataset', 'target']).corr()\n",
    "\n",
    "# Finding columns to drop based on correlation threshold\n",
    "threshold = 0.9\n",
    "upper = corr_matrix.where(np.triu(np.ones(corr_matrix.shape), k=1).astype(bool))\n",
    "\n",
    "# Drop the highly correlated columns from the original DataFrame\n",
    "df_reduced = df_numeric.drop([column for column in upper.columns if any(upper[column] > threshold)])\n",
    "\n",
    "# Cleanup to free memory\n",
    "del df_numeric, df_numeric_pd, corr_matrix, upper\n",
    "gc.collect()\n",
    "\n",
    "# Fill missing values in numeric DataFrame with -1\n",
    "df_num_reduced = df_reduced.fill_null(-1)\n",
    "\n",
    "# Cleanup to free memory\n",
    "del df_reduced\n",
    "gc.collect()"
   ]
  },
  {
   "cell_type": "code",
   "execution_count": 9,
   "metadata": {
    "tags": []
   },
   "outputs": [
    {
     "data": {
      "text/html": [
       "<div><style>\n",
       ".dataframe > thead > tr,\n",
       ".dataframe > tbody > tr {\n",
       "  text-align: right;\n",
       "  white-space: pre-wrap;\n",
       "}\n",
       "</style>\n",
       "<small>shape: (1_526_669, 53)</small><table border=\"1\" class=\"dataframe\"><thead><tr><th>case_id</th><th>dataset</th><th>MONTH</th><th>target</th><th>WEEK_NUM</th><th>days120_123L</th><th>days30_165L</th><th>days360_512L</th><th>firstquarter_103L</th><th>for3years_128L</th><th>for3years_504L</th><th>for3years_584L</th><th>formonth_118L</th><th>formonth_206L</th><th>formonth_535L</th><th>forquarter_1017L</th><th>forquarter_462L</th><th>forquarter_634L</th><th>fortoday_1092L</th><th>forweek_1077L</th><th>forweek_528L</th><th>forweek_601L</th><th>foryear_618L</th><th>foryear_818L</th><th>foryear_850L</th><th>fourthquarter_440L</th><th>pmtaverage_3A</th><th>pmtcount_693L</th><th>pmtssum_45A</th><th>riskassesment_940T</th><th>secondquarter_766L</th><th>thirdquarter_1082L</th><th>num_group1</th><th>amount_416A</th><th>amount_1115A</th><th>credlmt_1052A</th><th>credlmt_228A</th><th>credquantity_1099L</th><th>credquantity_984L</th><th>debtpastduevalue_732A</th><th>dpd_733P</th><th>dpdmax_851P</th><th>dpdmaxdatemonth_804T</th><th>dpdmaxdateyear_742T</th><th>installmentamount_833A</th><th>interesteffectiverate_369L</th><th>interestrateyearly_538L</th><th>maxdebtpduevalodued_3940955A</th><th>numberofinstls_810L</th><th>overdueamountmaxdatemonth_494T</th><th>overdueamountmaxdateyear_432T</th><th>num_group2</th><th>pmts_pmtsoverdue_635A</th></tr><tr><td>i64</td><td>str</td><td>i64</td><td>i64</td><td>i64</td><td>f64</td><td>f64</td><td>f64</td><td>f64</td><td>f64</td><td>f64</td><td>f64</td><td>f64</td><td>f64</td><td>f64</td><td>f64</td><td>f64</td><td>f64</td><td>f64</td><td>f64</td><td>f64</td><td>f64</td><td>f64</td><td>f64</td><td>f64</td><td>f64</td><td>f64</td><td>f64</td><td>f64</td><td>f64</td><td>f64</td><td>f64</td><td>i64</td><td>f64</td><td>f64</td><td>f64</td><td>f64</td><td>f64</td><td>f64</td><td>f64</td><td>f64</td><td>f64</td><td>f64</td><td>f64</td><td>f64</td><td>f64</td><td>f64</td><td>f64</td><td>f64</td><td>f64</td><td>f64</td><td>i64</td><td>f64</td></tr></thead><tbody><tr><td>1551538</td><td>&quot;train&quot;</td><td>201909</td><td>0</td><td>38</td><td>6.0</td><td>1.0</td><td>17.0</td><td>6.0</td><td>-1.0</td><td>-1.0</td><td>-1.0</td><td>-1.0</td><td>-1.0</td><td>-1.0</td><td>-1.0</td><td>-1.0</td><td>-1.0</td><td>-1.0</td><td>-1.0</td><td>-1.0</td><td>-1.0</td><td>-1.0</td><td>-1.0</td><td>-1.0</td><td>12.0</td><td>-1.0</td><td>-1.0</td><td>0.0</td><td>-1.0</td><td>5.0</td><td>15.0</td><td>-1</td><td>-1.0</td><td>-1.0</td><td>-1.0</td><td>-1.0</td><td>-1.0</td><td>-1.0</td><td>-1.0</td><td>-1.0</td><td>-1.0</td><td>-1.0</td><td>-1.0</td><td>-1.0</td><td>-1.0</td><td>-1.0</td><td>-1.0</td><td>-1.0</td><td>-1.0</td><td>-1.0</td><td>-1</td><td>-1.0</td></tr><tr><td>1706485</td><td>&quot;train&quot;</td><td>201912</td><td>0</td><td>51</td><td>2.0</td><td>0.0</td><td>6.0</td><td>9.0</td><td>-1.0</td><td>-1.0</td><td>-1.0</td><td>-1.0</td><td>-1.0</td><td>-1.0</td><td>-1.0</td><td>-1.0</td><td>-1.0</td><td>-1.0</td><td>-1.0</td><td>-1.0</td><td>-1.0</td><td>-1.0</td><td>-1.0</td><td>-1.0</td><td>8.0</td><td>-1.0</td><td>-1.0</td><td>-1.0</td><td>-1.0</td><td>3.0</td><td>3.0</td><td>-1</td><td>-1.0</td><td>-1.0</td><td>-1.0</td><td>-1.0</td><td>-1.0</td><td>-1.0</td><td>-1.0</td><td>-1.0</td><td>-1.0</td><td>-1.0</td><td>-1.0</td><td>-1.0</td><td>-1.0</td><td>-1.0</td><td>-1.0</td><td>-1.0</td><td>-1.0</td><td>-1.0</td><td>-1</td><td>-1.0</td></tr><tr><td>1903472</td><td>&quot;train&quot;</td><td>202008</td><td>0</td><td>86</td><td>0.0</td><td>0.0</td><td>0.0</td><td>0.0</td><td>0.0</td><td>1.0</td><td>0.0</td><td>0.0</td><td>0.0</td><td>0.0</td><td>0.0</td><td>0.0</td><td>0.0</td><td>0.0</td><td>0.0</td><td>0.0</td><td>0.0</td><td>0.0</td><td>0.0</td><td>1.0</td><td>1.0</td><td>-1.0</td><td>-1.0</td><td>-1.0</td><td>1.7540249</td><td>0.0</td><td>2.0</td><td>-1</td><td>-1.0</td><td>-1.0</td><td>0.0</td><td>-1.0</td><td>1.0</td><td>3.0</td><td>0.0</td><td>0.0</td><td>0.0</td><td>10.0</td><td>2017.0</td><td>0.0</td><td>-1.0</td><td>-1.0</td><td>0.0</td><td>-1.0</td><td>10.0</td><td>2017.0</td><td>35</td><td>0.0</td></tr><tr><td>885626</td><td>&quot;train&quot;</td><td>201912</td><td>0</td><td>47</td><td>-1.0</td><td>-1.0</td><td>-1.0</td><td>-1.0</td><td>-1.0</td><td>-1.0</td><td>-1.0</td><td>-1.0</td><td>-1.0</td><td>-1.0</td><td>-1.0</td><td>-1.0</td><td>-1.0</td><td>-1.0</td><td>-1.0</td><td>-1.0</td><td>-1.0</td><td>-1.0</td><td>-1.0</td><td>-1.0</td><td>-1.0</td><td>-1.0</td><td>-1.0</td><td>-1.0</td><td>-1.0</td><td>-1.0</td><td>-1.0</td><td>-1</td><td>-1.0</td><td>-1.0</td><td>-1.0</td><td>-1.0</td><td>-1.0</td><td>-1.0</td><td>-1.0</td><td>-1.0</td><td>-1.0</td><td>-1.0</td><td>-1.0</td><td>-1.0</td><td>-1.0</td><td>-1.0</td><td>-1.0</td><td>-1.0</td><td>-1.0</td><td>-1.0</td><td>-1</td><td>-1.0</td></tr><tr><td>599904</td><td>&quot;train&quot;</td><td>201901</td><td>0</td><td>0</td><td>-1.0</td><td>-1.0</td><td>-1.0</td><td>-1.0</td><td>-1.0</td><td>-1.0</td><td>-1.0</td><td>-1.0</td><td>-1.0</td><td>-1.0</td><td>-1.0</td><td>-1.0</td><td>-1.0</td><td>-1.0</td><td>-1.0</td><td>-1.0</td><td>-1.0</td><td>-1.0</td><td>-1.0</td><td>-1.0</td><td>-1.0</td><td>-1.0</td><td>-1.0</td><td>-1.0</td><td>-1.0</td><td>-1.0</td><td>-1.0</td><td>0</td><td>404.03</td><td>-1.0</td><td>-1.0</td><td>-1.0</td><td>-1.0</td><td>-1.0</td><td>-1.0</td><td>-1.0</td><td>-1.0</td><td>-1.0</td><td>-1.0</td><td>-1.0</td><td>-1.0</td><td>-1.0</td><td>-1.0</td><td>-1.0</td><td>-1.0</td><td>-1.0</td><td>-1</td><td>-1.0</td></tr><tr><td>&hellip;</td><td>&hellip;</td><td>&hellip;</td><td>&hellip;</td><td>&hellip;</td><td>&hellip;</td><td>&hellip;</td><td>&hellip;</td><td>&hellip;</td><td>&hellip;</td><td>&hellip;</td><td>&hellip;</td><td>&hellip;</td><td>&hellip;</td><td>&hellip;</td><td>&hellip;</td><td>&hellip;</td><td>&hellip;</td><td>&hellip;</td><td>&hellip;</td><td>&hellip;</td><td>&hellip;</td><td>&hellip;</td><td>&hellip;</td><td>&hellip;</td><td>&hellip;</td><td>&hellip;</td><td>&hellip;</td><td>&hellip;</td><td>&hellip;</td><td>&hellip;</td><td>&hellip;</td><td>&hellip;</td><td>&hellip;</td><td>&hellip;</td><td>&hellip;</td><td>&hellip;</td><td>&hellip;</td><td>&hellip;</td><td>&hellip;</td><td>&hellip;</td><td>&hellip;</td><td>&hellip;</td><td>&hellip;</td><td>&hellip;</td><td>&hellip;</td><td>&hellip;</td><td>&hellip;</td><td>&hellip;</td><td>&hellip;</td><td>&hellip;</td><td>&hellip;</td><td>&hellip;</td></tr><tr><td>225394</td><td>&quot;train&quot;</td><td>202005</td><td>0</td><td>72</td><td>0.0</td><td>0.0</td><td>1.0</td><td>2.0</td><td>-1.0</td><td>-1.0</td><td>-1.0</td><td>-1.0</td><td>-1.0</td><td>-1.0</td><td>-1.0</td><td>-1.0</td><td>-1.0</td><td>-1.0</td><td>-1.0</td><td>-1.0</td><td>-1.0</td><td>-1.0</td><td>-1.0</td><td>-1.0</td><td>0.0</td><td>-1.0</td><td>-1.0</td><td>-1.0</td><td>-1.0</td><td>1.0</td><td>1.0</td><td>1</td><td>0.0</td><td>-1.0</td><td>-1.0</td><td>-1.0</td><td>-1.0</td><td>-1.0</td><td>-1.0</td><td>-1.0</td><td>-1.0</td><td>-1.0</td><td>-1.0</td><td>-1.0</td><td>-1.0</td><td>-1.0</td><td>-1.0</td><td>-1.0</td><td>-1.0</td><td>-1.0</td><td>-1</td><td>-1.0</td></tr><tr><td>814180</td><td>&quot;train&quot;</td><td>201909</td><td>0</td><td>38</td><td>-1.0</td><td>-1.0</td><td>-1.0</td><td>-1.0</td><td>-1.0</td><td>-1.0</td><td>-1.0</td><td>-1.0</td><td>-1.0</td><td>-1.0</td><td>-1.0</td><td>-1.0</td><td>-1.0</td><td>-1.0</td><td>-1.0</td><td>-1.0</td><td>-1.0</td><td>-1.0</td><td>-1.0</td><td>-1.0</td><td>-1.0</td><td>-1.0</td><td>-1.0</td><td>5109.8003</td><td>-1.0</td><td>-1.0</td><td>-1.0</td><td>-1</td><td>-1.0</td><td>-1.0</td><td>-1.0</td><td>-1.0</td><td>-1.0</td><td>-1.0</td><td>-1.0</td><td>-1.0</td><td>-1.0</td><td>-1.0</td><td>-1.0</td><td>-1.0</td><td>-1.0</td><td>-1.0</td><td>-1.0</td><td>-1.0</td><td>-1.0</td><td>-1.0</td><td>-1</td><td>-1.0</td></tr><tr><td>1536178</td><td>&quot;train&quot;</td><td>201909</td><td>0</td><td>36</td><td>2.0</td><td>1.0</td><td>23.0</td><td>14.0</td><td>-1.0</td><td>-1.0</td><td>-1.0</td><td>-1.0</td><td>-1.0</td><td>-1.0</td><td>-1.0</td><td>-1.0</td><td>-1.0</td><td>-1.0</td><td>-1.0</td><td>-1.0</td><td>-1.0</td><td>-1.0</td><td>-1.0</td><td>-1.0</td><td>15.0</td><td>-1.0</td><td>-1.0</td><td>8945.2</td><td>-1.0</td><td>5.0</td><td>3.0</td><td>-1</td><td>-1.0</td><td>-1.0</td><td>-1.0</td><td>-1.0</td><td>-1.0</td><td>-1.0</td><td>-1.0</td><td>-1.0</td><td>-1.0</td><td>-1.0</td><td>-1.0</td><td>-1.0</td><td>-1.0</td><td>-1.0</td><td>-1.0</td><td>-1.0</td><td>-1.0</td><td>-1.0</td><td>-1</td><td>-1.0</td></tr><tr><td>1358905</td><td>&quot;train&quot;</td><td>201905</td><td>0</td><td>17</td><td>3.0</td><td>1.0</td><td>6.0</td><td>4.0</td><td>-1.0</td><td>-1.0</td><td>-1.0</td><td>-1.0</td><td>-1.0</td><td>-1.0</td><td>-1.0</td><td>-1.0</td><td>-1.0</td><td>-1.0</td><td>-1.0</td><td>-1.0</td><td>-1.0</td><td>-1.0</td><td>-1.0</td><td>-1.0</td><td>4.0</td><td>-1.0</td><td>-1.0</td><td>8644.188</td><td>-1.0</td><td>5.0</td><td>10.0</td><td>1</td><td>2103.1382</td><td>-1.0</td><td>-1.0</td><td>-1.0</td><td>-1.0</td><td>-1.0</td><td>-1.0</td><td>-1.0</td><td>-1.0</td><td>-1.0</td><td>-1.0</td><td>-1.0</td><td>-1.0</td><td>-1.0</td><td>-1.0</td><td>-1.0</td><td>-1.0</td><td>-1.0</td><td>-1</td><td>-1.0</td></tr><tr><td>662954</td><td>&quot;train&quot;</td><td>201904</td><td>0</td><td>12</td><td>-1.0</td><td>-1.0</td><td>-1.0</td><td>-1.0</td><td>-1.0</td><td>-1.0</td><td>-1.0</td><td>-1.0</td><td>-1.0</td><td>-1.0</td><td>-1.0</td><td>-1.0</td><td>-1.0</td><td>-1.0</td><td>-1.0</td><td>-1.0</td><td>-1.0</td><td>-1.0</td><td>-1.0</td><td>-1.0</td><td>-1.0</td><td>-1.0</td><td>-1.0</td><td>3590.556</td><td>-1.0</td><td>-1.0</td><td>-1.0</td><td>-1</td><td>-1.0</td><td>-1.0</td><td>-1.0</td><td>-1.0</td><td>-1.0</td><td>-1.0</td><td>-1.0</td><td>-1.0</td><td>-1.0</td><td>-1.0</td><td>-1.0</td><td>-1.0</td><td>-1.0</td><td>-1.0</td><td>-1.0</td><td>-1.0</td><td>-1.0</td><td>-1.0</td><td>-1</td><td>-1.0</td></tr></tbody></table></div>"
      ],
      "text/plain": [
       "shape: (1_526_669, 53)\n",
       "┌─────────┬─────────┬────────┬────────┬───┬──────────────┬──────────────┬────────────┬─────────────┐\n",
       "│ case_id ┆ dataset ┆ MONTH  ┆ target ┆ … ┆ overdueamoun ┆ overdueamoun ┆ num_group2 ┆ pmts_pmtsov │\n",
       "│ ---     ┆ ---     ┆ ---    ┆ ---    ┆   ┆ tmaxdatemont ┆ tmaxdateyear ┆ ---        ┆ erdue_635A  │\n",
       "│ i64     ┆ str     ┆ i64    ┆ i64    ┆   ┆ h_494T       ┆ _432T        ┆ i64        ┆ ---         │\n",
       "│         ┆         ┆        ┆        ┆   ┆ ---          ┆ ---          ┆            ┆ f64         │\n",
       "│         ┆         ┆        ┆        ┆   ┆ f64          ┆ f64          ┆            ┆             │\n",
       "╞═════════╪═════════╪════════╪════════╪═══╪══════════════╪══════════════╪════════════╪═════════════╡\n",
       "│ 1551538 ┆ train   ┆ 201909 ┆ 0      ┆ … ┆ -1.0         ┆ -1.0         ┆ -1         ┆ -1.0        │\n",
       "│ 1706485 ┆ train   ┆ 201912 ┆ 0      ┆ … ┆ -1.0         ┆ -1.0         ┆ -1         ┆ -1.0        │\n",
       "│ 1903472 ┆ train   ┆ 202008 ┆ 0      ┆ … ┆ 10.0         ┆ 2017.0       ┆ 35         ┆ 0.0         │\n",
       "│ 885626  ┆ train   ┆ 201912 ┆ 0      ┆ … ┆ -1.0         ┆ -1.0         ┆ -1         ┆ -1.0        │\n",
       "│ 599904  ┆ train   ┆ 201901 ┆ 0      ┆ … ┆ -1.0         ┆ -1.0         ┆ -1         ┆ -1.0        │\n",
       "│ …       ┆ …       ┆ …      ┆ …      ┆ … ┆ …            ┆ …            ┆ …          ┆ …           │\n",
       "│ 225394  ┆ train   ┆ 202005 ┆ 0      ┆ … ┆ -1.0         ┆ -1.0         ┆ -1         ┆ -1.0        │\n",
       "│ 814180  ┆ train   ┆ 201909 ┆ 0      ┆ … ┆ -1.0         ┆ -1.0         ┆ -1         ┆ -1.0        │\n",
       "│ 1536178 ┆ train   ┆ 201909 ┆ 0      ┆ … ┆ -1.0         ┆ -1.0         ┆ -1         ┆ -1.0        │\n",
       "│ 1358905 ┆ train   ┆ 201905 ┆ 0      ┆ … ┆ -1.0         ┆ -1.0         ┆ -1         ┆ -1.0        │\n",
       "│ 662954  ┆ train   ┆ 201904 ┆ 0      ┆ … ┆ -1.0         ┆ -1.0         ┆ -1         ┆ -1.0        │\n",
       "└─────────┴─────────┴────────┴────────┴───┴──────────────┴──────────────┴────────────┴─────────────┘"
      ]
     },
     "execution_count": 9,
     "metadata": {},
     "output_type": "execute_result"
    }
   ],
   "source": [
    "df_num_reduced"
   ]
  },
  {
   "cell_type": "code",
   "execution_count": 10,
   "metadata": {
    "tags": []
   },
   "outputs": [
    {
     "name": "stdout",
     "output_type": "stream",
     "text": [
      "Skipping conversion for education_1103M as it contains non-numeric data.\n",
      "Skipping conversion for education_88M as it contains non-numeric data.\n",
      "Skipping conversion for maritalst_385M as it contains non-numeric data.\n",
      "Skipping conversion for maritalst_893M as it contains non-numeric data.\n",
      "Skipping conversion for requesttype_4525192L as it contains non-numeric data.\n",
      "Skipping conversion for riskassesment_302T as it contains non-numeric data.\n",
      "Skipping conversion for classificationofcontr_1114M as it contains non-numeric data.\n",
      "Skipping conversion for contractst_516M as it contains non-numeric data.\n",
      "Skipping conversion for contracttype_653M as it contains non-numeric data.\n",
      "Skipping conversion for credor_3940957M as it contains non-numeric data.\n",
      "Skipping conversion for periodicityofpmts_997L as it contains non-numeric data.\n",
      "Skipping conversion for periodicityofpmts_997M as it contains non-numeric data.\n",
      "Skipping conversion for pmtmethod_731M as it contains non-numeric data.\n",
      "Skipping conversion for purposeofcred_722M as it contains non-numeric data.\n",
      "Skipping conversion for subjectrole_326M as it contains non-numeric data.\n",
      "Skipping conversion for subjectrole_43M as it contains non-numeric data.\n",
      "shape: (1_526_669, 47)\n",
      "┌─────────┬─────────┬────────────┬────────────┬───┬────────────┬───────────┬───────────┬───────────┐\n",
      "│ case_id ┆ dataset ┆ assignment ┆ assignment ┆ … ┆ month_deci ┆ week_num_ ┆ day_of_we ┆ days_from │\n",
      "│ ---     ┆ ---     ┆ date_238D  ┆ date_45272 ┆   ┆ sion       ┆ decision  ┆ ek_decisi ┆ _decision │\n",
      "│ i64     ┆ str     ┆ ---        ┆ 35D        ┆   ┆ ---        ┆ ---       ┆ on        ┆ ---       │\n",
      "│         ┆         ┆ str        ┆ ---        ┆   ┆ i8         ┆ i8        ┆ ---       ┆ i64       │\n",
      "│         ┆         ┆            ┆ str        ┆   ┆            ┆           ┆ i8        ┆           │\n",
      "╞═════════╪═════════╪════════════╪════════════╪═══╪════════════╪═══════════╪═══════════╪═══════════╡\n",
      "│ 1551538 ┆ train   ┆ null       ┆ null       ┆ … ┆ 9          ┆ 39        ┆ 2         ┆ 1700      │\n",
      "│ 1706485 ┆ train   ┆ null       ┆ null       ┆ … ┆ 12         ┆ 52        ┆ 2         ┆ 1609      │\n",
      "│ 1903472 ┆ train   ┆ null       ┆ null       ┆ … ┆ 8          ┆ 35        ┆ 2         ┆ 1364      │\n",
      "│ 885626  ┆ train   ┆ null       ┆ null       ┆ … ┆ 12         ┆ 49        ┆ 1         ┆ 1631      │\n",
      "│ 599904  ┆ train   ┆ null       ┆ null       ┆ … ┆ 1          ┆ 1         ┆ 3         ┆ 1965      │\n",
      "│ …       ┆ …       ┆ …          ┆ …          ┆ … ┆ …          ┆ …         ┆ …         ┆ …         │\n",
      "│ 225394  ┆ train   ┆ null       ┆ null       ┆ … ┆ 5          ┆ 21        ┆ 6         ┆ 1458      │\n",
      "│ 814180  ┆ train   ┆ null       ┆ null       ┆ … ┆ 9          ┆ 39        ┆ 5         ┆ 1697      │\n",
      "│ 1536178 ┆ train   ┆ null       ┆ null       ┆ … ┆ 9          ┆ 37        ┆ 6         ┆ 1710      │\n",
      "│ 1358905 ┆ train   ┆ null       ┆ null       ┆ … ┆ 5          ┆ 18        ┆ 6         ┆ 1843      │\n",
      "│ 662954  ┆ train   ┆ null       ┆ null       ┆ … ┆ 4          ┆ 14        ┆ 1         ┆ 1876      │\n",
      "└─────────┴─────────┴────────────┴────────────┴───┴────────────┴───────────┴───────────┴───────────┘\n"
     ]
    }
   ],
   "source": [
    "\n",
    "from datetime import datetime\n",
    "\n",
    "# Helper function to check if a string can be converted to a float\n",
    "def is_convertible_to_float(value):\n",
    "    try:\n",
    "        float(value)\n",
    "        return True\n",
    "    except ValueError:\n",
    "        return False\n",
    "\n",
    "# Handle categorical columns without attempting to convert dates or other non-numeric strings\n",
    "def cast_column_to_int(df, column_name):\n",
    "    if df[column_name].dtype == pl.Utf8:\n",
    "        if \"date\" not in column_name and \"description\" not in column_name:\n",
    "            if df[column_name].map_elements(is_convertible_to_float, return_dtype=pl.Boolean).all():\n",
    "                transformed_column = (\n",
    "                    df[column_name]\n",
    "                    .str.strip_chars()\n",
    "                    .cast(pl.Float64)\n",
    "                    .cast(pl.Int64)\n",
    "                    .fill_null(-100)\n",
    "                    .alias(column_name)\n",
    "                )\n",
    "                return df.with_columns(transformed_column)\n",
    "            else:\n",
    "                print(f\"Skipping conversion for {column_name} as it contains non-numeric data.\")\n",
    "    return df\n",
    "\n",
    "# Ensure 'date_decision' is present in `df_categ`\n",
    "if 'date_decision' in df_categ.columns:\n",
    "    if df_categ['date_decision'].dtype == pl.Utf8:\n",
    "        df_categ = df_categ.with_columns(\n",
    "            pl.col('date_decision').str.strptime(pl.Datetime, \"%Y-%m-%d\").alias('date_decision')\n",
    "        )\n",
    "\n",
    "    today = pl.lit(datetime.now().date())\n",
    "\n",
    "    df_categ = df_categ.with_columns([\n",
    "        pl.col('date_decision').dt.month().fill_null(-100).alias('month_decision'),\n",
    "        pl.col('date_decision').dt.week().fill_null(-100).alias('week_num_decision'),\n",
    "        pl.col('date_decision').dt.weekday().fill_null(-100).alias('day_of_week_decision')\n",
    "    ])\n",
    "\n",
    "    df_categ = df_categ.with_columns(\n",
    "        (today - pl.col('date_decision').dt.date()).dt.total_days().fill_null(-100).alias('days_from_decision')\n",
    "    )\n",
    "\n",
    "    df_categ = df_categ.drop(['date_decision'])\n",
    "\n",
    "# Exclude 'dataset' from the transformation process\n",
    "for column in df_categ.columns:\n",
    "    if column != 'dataset':\n",
    "        df_categ = cast_column_to_int(df_categ, column)\n",
    "\n",
    "gc.collect()\n",
    "print(df_categ)\n"
   ]
  },
  {
   "cell_type": "code",
   "execution_count": 11,
   "metadata": {
    "tags": []
   },
   "outputs": [
    {
     "name": "stdout",
     "output_type": "stream",
     "text": [
      "Count: 2 unique values in 'dataset' first 5 of them are ['test', 'train']\n",
      "Count: 3 unique values in 'description_5085714M' first 5 of them are ['2fc785b2', 'Unknown', 'a55475b1']\n",
      "Count: 6 unique values in 'education_1103M' first 5 of them are ['39a0853f', '6b2ae0fa', '717ddd49', 'Unknown', 'a55475b1']\n",
      "Count: 6 unique values in 'education_88M' first 5 of them are ['6b2ae0fa', '717ddd49', 'Unknown', 'a34a13c8', 'a55475b1']\n",
      "Count: 7 unique values in 'maritalst_385M' first 5 of them are ['3439d993', '38c061ee', 'Unknown', 'a55475b1', 'a7fcb6e5']\n",
      "Count: 7 unique values in 'maritalst_893M' first 5 of them are ['1a19667c', '46b968c3', '977b2a70', 'Unknown', 'a55475b1']\n",
      "Count: 4 unique values in 'requesttype_4525192L' first 5 of them are ['DEDUCTION_6', 'PENSION_6', 'SOCIAL_6', 'Unknown']\n",
      "Count: 17 unique values in 'riskassesment_302T' first 5 of them are ['1% - 1%', '11% - 15%', '15% - 19%', '2% - 2%', '2% - 3%']\n",
      "Count: 11 unique values in 'classificationofcontr_1114M' first 5 of them are ['00135d9c', '01f63ac8', '07b11743', '1cf4e481', '436d55c2']\n",
      "Count: 16 unique values in 'contractst_516M' first 5 of them are ['04bf6e27', '0d5020fc', '0dc85f9d', '54132f86', '7241344e']\n",
      "Count: 19 unique values in 'contracttype_653M' first 5 of them are ['07162370', '1bc8994b', '1c9c5356', '249fb461', '37b13a3f']\n",
      "Count: 117 unique values in 'credor_3940957M' first 5 of them are ['00a59564', '01fe039f', '09d57391', '0aebc0bb', '0b8b3443']\n",
      "Count: 6 unique values in 'periodicityofpmts_997L' first 5 of them are ['Unknown', 'В день истечения срока кредитного договора', 'Взносы с нерегулярной периодичностью', 'Ежеквартальные платежи - 90 дней', 'Ежемесячные платежи - 30 дней']\n",
      "Count: 11 unique values in 'periodicityofpmts_997M' first 5 of them are ['0a59e5b4', '3ecc50a0', '842dca9f', '9c7cbdb6', 'Unknown']\n",
      "Count: 11 unique values in 'pmtmethod_731M' first 5 of them are ['10984579', '5f8f7038', 'Unknown', 'a55475b1', 'a7c1fc40']\n",
      "Count: 16 unique values in 'purposeofcred_722M' first 5 of them are ['164ee705', '28bfa260', '449bfa19', '5065c2b8', '60c73645']\n",
      "Count: 7 unique values in 'subjectrole_326M' first 5 of them are ['15f04f45', 'P28_48_88', 'Unknown', 'a55475b1', 'ab3c25cf']\n",
      "Count: 7 unique values in 'subjectrole_43M' first 5 of them are ['15f04f45', '71ddaa88', 'Unknown', 'a55475b1', 'ab3c25cf']\n"
     ]
    },
    {
     "data": {
      "text/plain": [
       "0"
      ]
     },
     "execution_count": 11,
     "metadata": {},
     "output_type": "execute_result"
    }
   ],
   "source": [
    "# Loop through each column to identify date columns and process them\n",
    "for col in df_categ.columns:\n",
    "    if 'date' in col.lower() and df_categ[col].dtype == pl.Utf8:\n",
    "        df_categ = df_categ.with_columns(\n",
    "            pl.col(col).str.strptime(pl.Datetime, \"%Y-%m-%d\").alias(col)\n",
    "        )\n",
    "        df_categ = df_categ.with_columns(\n",
    "            (today - pl.col(col).dt.date()).dt.total_days().fill_null(-100).alias(f'days_from_{col}')\n",
    "        )\n",
    "        df_categ = df_categ.drop(col)\n",
    "\n",
    "# Fill missing values in categorical DataFrame with 'Unknown'\n",
    "df_categ = df_categ.fill_null('Unknown')\n",
    "\n",
    "# Calculate unique values for categorical columns and print the first five unique values for each\n",
    "unique_counts = {}\n",
    "for col in df_categ.columns:\n",
    "    if df_categ[col].dtype == pl.Utf8:\n",
    "        unique_count = df_categ[col].n_unique()\n",
    "        unique_counts[col] = unique_count\n",
    "        first_five_unique = df_categ[col].unique().sort()\n",
    "        print(f\"Count: {unique_counts[col]} unique values in '{col}' first 5 of them are {list(first_five_unique[:5])}\")\n",
    "gc.collect()\n",
    "\n",
    "# Join the numeric and categorical DataFrames\n",
    "final_df = df_num_reduced.join(\n",
    "    df_categ,\n",
    "    on=['case_id', 'dataset'],\n",
    "    how='outer'         \n",
    ")\n",
    "\n",
    "# Cleanup\n",
    "del df_categ, df_num_reduced\n",
    "gc.collect()\n",
    "\n",
    "# Handle potential duplicate 'case_id' and 'dataset' columns from the join\n",
    "final_joined_df = final_df.with_columns([\n",
    "    pl.coalesce(pl.col('case_id'), pl.col('case_id_right')).alias('case_id'),\n",
    "    pl.coalesce(pl.col('dataset'), pl.col('dataset_right')).alias('dataset')]).drop(['case_id_right', 'dataset_right'])\n",
    "\n",
    "# Save final DataFrame to temp file\n",
    "joblib.dump(final_df, TEMP_DIR / 'final_df.pkl')\n",
    "\n",
    "# Final cleanup\n",
    "del final_joined_df\n",
    "gc.collect()"
   ]
  },
  {
   "cell_type": "code",
   "execution_count": 23,
   "metadata": {
    "tags": []
   },
   "outputs": [
    {
     "data": {
      "text/html": [
       "<div><style>\n",
       ".dataframe > thead > tr,\n",
       ".dataframe > tbody > tr {\n",
       "  text-align: right;\n",
       "  white-space: pre-wrap;\n",
       "}\n",
       "</style>\n",
       "<small>shape: (1_526_669, 100)</small><table border=\"1\" class=\"dataframe\"><thead><tr><th>case_id</th><th>dataset</th><th>MONTH</th><th>target</th><th>WEEK_NUM</th><th>days120_123L</th><th>days30_165L</th><th>days360_512L</th><th>firstquarter_103L</th><th>for3years_128L</th><th>for3years_504L</th><th>for3years_584L</th><th>formonth_118L</th><th>formonth_206L</th><th>formonth_535L</th><th>forquarter_1017L</th><th>forquarter_462L</th><th>forquarter_634L</th><th>fortoday_1092L</th><th>forweek_1077L</th><th>forweek_528L</th><th>forweek_601L</th><th>foryear_618L</th><th>foryear_818L</th><th>foryear_850L</th><th>fourthquarter_440L</th><th>pmtaverage_3A</th><th>pmtcount_693L</th><th>pmtssum_45A</th><th>riskassesment_940T</th><th>secondquarter_766L</th><th>thirdquarter_1082L</th><th>num_group1</th><th>amount_416A</th><th>amount_1115A</th><th>credlmt_1052A</th><th>credlmt_228A</th><th>&hellip;</th><th>pmtcount_4527229L</th><th>pmtcount_4955617L</th><th>requesttype_4525192L</th><th>riskassesment_302T</th><th>last180dayaveragebalance_704A</th><th>last180dayturnover_1134A</th><th>last30dayturnover_651A</th><th>classificationofcontr_1114M</th><th>contractst_516M</th><th>contracttype_653M</th><th>credor_3940957M</th><th>periodicityofpmts_997L</th><th>periodicityofpmts_997M</th><th>pmtmethod_731M</th><th>purposeofcred_722M</th><th>subjectrole_326M</th><th>subjectrole_43M</th><th>month_decision</th><th>week_num_decision</th><th>day_of_week_decision</th><th>days_from_decision</th><th>days_from_assignmentdate_238D</th><th>days_from_assignmentdate_4527235D</th><th>days_from_assignmentdate_4955616D</th><th>days_from_birthdate_574D</th><th>days_from_dateofbirth_337D</th><th>days_from_dateofbirth_342D</th><th>days_from_responsedate_1012D</th><th>days_from_responsedate_4527233D</th><th>days_from_responsedate_4917613D</th><th>days_from_openingdate_857D</th><th>days_from_contractenddate_991D</th><th>days_from_openingdate_313D</th><th>days_from_contractdate_551D</th><th>days_from_contractmaturitydate_151D</th><th>days_from_lastupdate_260D</th><th>days_from_pmts_date_1107D</th></tr><tr><td>i64</td><td>str</td><td>i64</td><td>i64</td><td>i64</td><td>f64</td><td>f64</td><td>f64</td><td>f64</td><td>f64</td><td>f64</td><td>f64</td><td>f64</td><td>f64</td><td>f64</td><td>f64</td><td>f64</td><td>f64</td><td>f64</td><td>f64</td><td>f64</td><td>f64</td><td>f64</td><td>f64</td><td>f64</td><td>f64</td><td>f64</td><td>f64</td><td>f64</td><td>f64</td><td>f64</td><td>f64</td><td>i64</td><td>f64</td><td>f64</td><td>f64</td><td>f64</td><td>&hellip;</td><td>i64</td><td>i64</td><td>str</td><td>str</td><td>i64</td><td>i64</td><td>i64</td><td>str</td><td>str</td><td>str</td><td>str</td><td>str</td><td>str</td><td>str</td><td>str</td><td>str</td><td>str</td><td>i8</td><td>i8</td><td>i8</td><td>i64</td><td>i64</td><td>i64</td><td>i64</td><td>i64</td><td>i64</td><td>i64</td><td>i64</td><td>i64</td><td>i64</td><td>i64</td><td>i64</td><td>i64</td><td>i64</td><td>i64</td><td>i64</td><td>i64</td></tr></thead><tbody><tr><td>1551538</td><td>&quot;train&quot;</td><td>201909</td><td>0</td><td>38</td><td>6.0</td><td>1.0</td><td>17.0</td><td>6.0</td><td>-1.0</td><td>-1.0</td><td>-1.0</td><td>-1.0</td><td>-1.0</td><td>-1.0</td><td>-1.0</td><td>-1.0</td><td>-1.0</td><td>-1.0</td><td>-1.0</td><td>-1.0</td><td>-1.0</td><td>-1.0</td><td>-1.0</td><td>-1.0</td><td>12.0</td><td>-1.0</td><td>-1.0</td><td>0.0</td><td>-1.0</td><td>5.0</td><td>15.0</td><td>-1</td><td>-1.0</td><td>-1.0</td><td>-1.0</td><td>-1.0</td><td>&hellip;</td><td>-100</td><td>-100</td><td>&quot;DEDUCTION_6&quot;</td><td>&quot;Unknown&quot;</td><td>-100</td><td>-100</td><td>-100</td><td>&quot;Unknown&quot;</td><td>&quot;Unknown&quot;</td><td>&quot;Unknown&quot;</td><td>&quot;Unknown&quot;</td><td>&quot;Unknown&quot;</td><td>&quot;Unknown&quot;</td><td>&quot;Unknown&quot;</td><td>&quot;Unknown&quot;</td><td>&quot;Unknown&quot;</td><td>&quot;Unknown&quot;</td><td>9</td><td>39</td><td>2</td><td>1700</td><td>-100</td><td>-100</td><td>-100</td><td>-100</td><td>12193</td><td>-100</td><td>1686</td><td>1686</td><td>-100</td><td>-100</td><td>-100</td><td>-100</td><td>-100</td><td>-100</td><td>-100</td><td>-100</td></tr><tr><td>1706485</td><td>&quot;train&quot;</td><td>201912</td><td>0</td><td>51</td><td>2.0</td><td>0.0</td><td>6.0</td><td>9.0</td><td>-1.0</td><td>-1.0</td><td>-1.0</td><td>-1.0</td><td>-1.0</td><td>-1.0</td><td>-1.0</td><td>-1.0</td><td>-1.0</td><td>-1.0</td><td>-1.0</td><td>-1.0</td><td>-1.0</td><td>-1.0</td><td>-1.0</td><td>-1.0</td><td>8.0</td><td>-1.0</td><td>-1.0</td><td>-1.0</td><td>-1.0</td><td>3.0</td><td>3.0</td><td>-1</td><td>-1.0</td><td>-1.0</td><td>-1.0</td><td>-1.0</td><td>&hellip;</td><td>-100</td><td>-100</td><td>&quot;DEDUCTION_6&quot;</td><td>&quot;Unknown&quot;</td><td>-100</td><td>-100</td><td>-100</td><td>&quot;Unknown&quot;</td><td>&quot;Unknown&quot;</td><td>&quot;Unknown&quot;</td><td>&quot;Unknown&quot;</td><td>&quot;Unknown&quot;</td><td>&quot;Unknown&quot;</td><td>&quot;Unknown&quot;</td><td>&quot;Unknown&quot;</td><td>&quot;Unknown&quot;</td><td>&quot;Unknown&quot;</td><td>12</td><td>52</td><td>2</td><td>1609</td><td>-100</td><td>-100</td><td>-100</td><td>-100</td><td>15115</td><td>-100</td><td>-100</td><td>1595</td><td>-100</td><td>-100</td><td>-100</td><td>-100</td><td>-100</td><td>-100</td><td>-100</td><td>-100</td></tr><tr><td>1903472</td><td>&quot;train&quot;</td><td>202008</td><td>0</td><td>86</td><td>0.0</td><td>0.0</td><td>0.0</td><td>0.0</td><td>0.0</td><td>1.0</td><td>0.0</td><td>0.0</td><td>0.0</td><td>0.0</td><td>0.0</td><td>0.0</td><td>0.0</td><td>0.0</td><td>0.0</td><td>0.0</td><td>0.0</td><td>0.0</td><td>0.0</td><td>1.0</td><td>1.0</td><td>-1.0</td><td>-1.0</td><td>-1.0</td><td>1.7540249</td><td>0.0</td><td>2.0</td><td>-1</td><td>-1.0</td><td>-1.0</td><td>0.0</td><td>-1.0</td><td>&hellip;</td><td>-100</td><td>-100</td><td>&quot;Unknown&quot;</td><td>&quot;1% - 1%&quot;</td><td>-100</td><td>-100</td><td>-100</td><td>&quot;ea6782cc&quot;</td><td>&quot;7241344e&quot;</td><td>&quot;1c9c5356&quot;</td><td>&quot;b619fa46&quot;</td><td>&quot;Unknown&quot;</td><td>&quot;a55475b1&quot;</td><td>&quot;a55475b1&quot;</td><td>&quot;60c73645&quot;</td><td>&quot;ab3c25cf&quot;</td><td>&quot;daf49a8a&quot;</td><td>8</td><td>35</td><td>2</td><td>1364</td><td>-100</td><td>-100</td><td>-100</td><td>-100</td><td>19194</td><td>19194</td><td>-100</td><td>-100</td><td>1350</td><td>-100</td><td>-100</td><td>-100</td><td>2441</td><td>980</td><td>1358</td><td>1374</td></tr><tr><td>885626</td><td>&quot;train&quot;</td><td>201912</td><td>0</td><td>47</td><td>-1.0</td><td>-1.0</td><td>-1.0</td><td>-1.0</td><td>-1.0</td><td>-1.0</td><td>-1.0</td><td>-1.0</td><td>-1.0</td><td>-1.0</td><td>-1.0</td><td>-1.0</td><td>-1.0</td><td>-1.0</td><td>-1.0</td><td>-1.0</td><td>-1.0</td><td>-1.0</td><td>-1.0</td><td>-1.0</td><td>-1.0</td><td>-1.0</td><td>-1.0</td><td>-1.0</td><td>-1.0</td><td>-1.0</td><td>-1.0</td><td>-1</td><td>-1.0</td><td>-1.0</td><td>-1.0</td><td>-1.0</td><td>&hellip;</td><td>-100</td><td>-100</td><td>&quot;DEDUCTION_6&quot;</td><td>&quot;Unknown&quot;</td><td>-100</td><td>-100</td><td>-100</td><td>&quot;Unknown&quot;</td><td>&quot;Unknown&quot;</td><td>&quot;Unknown&quot;</td><td>&quot;Unknown&quot;</td><td>&quot;Unknown&quot;</td><td>&quot;Unknown&quot;</td><td>&quot;Unknown&quot;</td><td>&quot;Unknown&quot;</td><td>&quot;Unknown&quot;</td><td>&quot;Unknown&quot;</td><td>12</td><td>49</td><td>1</td><td>1631</td><td>-100</td><td>-100</td><td>-100</td><td>-100</td><td>-100</td><td>-100</td><td>-100</td><td>1617</td><td>-100</td><td>-100</td><td>-100</td><td>-100</td><td>-100</td><td>-100</td><td>-100</td><td>-100</td></tr><tr><td>599904</td><td>&quot;train&quot;</td><td>201901</td><td>0</td><td>0</td><td>-1.0</td><td>-1.0</td><td>-1.0</td><td>-1.0</td><td>-1.0</td><td>-1.0</td><td>-1.0</td><td>-1.0</td><td>-1.0</td><td>-1.0</td><td>-1.0</td><td>-1.0</td><td>-1.0</td><td>-1.0</td><td>-1.0</td><td>-1.0</td><td>-1.0</td><td>-1.0</td><td>-1.0</td><td>-1.0</td><td>-1.0</td><td>-1.0</td><td>-1.0</td><td>-1.0</td><td>-1.0</td><td>-1.0</td><td>-1.0</td><td>0</td><td>404.03</td><td>-1.0</td><td>-1.0</td><td>-1.0</td><td>&hellip;</td><td>-100</td><td>-100</td><td>&quot;Unknown&quot;</td><td>&quot;Unknown&quot;</td><td>-100</td><td>-100</td><td>-100</td><td>&quot;Unknown&quot;</td><td>&quot;Unknown&quot;</td><td>&quot;Unknown&quot;</td><td>&quot;Unknown&quot;</td><td>&quot;Unknown&quot;</td><td>&quot;Unknown&quot;</td><td>&quot;Unknown&quot;</td><td>&quot;Unknown&quot;</td><td>&quot;Unknown&quot;</td><td>&quot;Unknown&quot;</td><td>1</td><td>1</td><td>3</td><td>1965</td><td>-100</td><td>-100</td><td>-100</td><td>-100</td><td>-100</td><td>-100</td><td>-100</td><td>-100</td><td>-100</td><td>3016</td><td>2286</td><td>3016</td><td>-100</td><td>-100</td><td>-100</td><td>-100</td></tr><tr><td>&hellip;</td><td>&hellip;</td><td>&hellip;</td><td>&hellip;</td><td>&hellip;</td><td>&hellip;</td><td>&hellip;</td><td>&hellip;</td><td>&hellip;</td><td>&hellip;</td><td>&hellip;</td><td>&hellip;</td><td>&hellip;</td><td>&hellip;</td><td>&hellip;</td><td>&hellip;</td><td>&hellip;</td><td>&hellip;</td><td>&hellip;</td><td>&hellip;</td><td>&hellip;</td><td>&hellip;</td><td>&hellip;</td><td>&hellip;</td><td>&hellip;</td><td>&hellip;</td><td>&hellip;</td><td>&hellip;</td><td>&hellip;</td><td>&hellip;</td><td>&hellip;</td><td>&hellip;</td><td>&hellip;</td><td>&hellip;</td><td>&hellip;</td><td>&hellip;</td><td>&hellip;</td><td>&hellip;</td><td>&hellip;</td><td>&hellip;</td><td>&hellip;</td><td>&hellip;</td><td>&hellip;</td><td>&hellip;</td><td>&hellip;</td><td>&hellip;</td><td>&hellip;</td><td>&hellip;</td><td>&hellip;</td><td>&hellip;</td><td>&hellip;</td><td>&hellip;</td><td>&hellip;</td><td>&hellip;</td><td>&hellip;</td><td>&hellip;</td><td>&hellip;</td><td>&hellip;</td><td>&hellip;</td><td>&hellip;</td><td>&hellip;</td><td>&hellip;</td><td>&hellip;</td><td>&hellip;</td><td>&hellip;</td><td>&hellip;</td><td>&hellip;</td><td>&hellip;</td><td>&hellip;</td><td>&hellip;</td><td>&hellip;</td><td>&hellip;</td><td>&hellip;</td><td>&hellip;</td><td>&hellip;</td></tr><tr><td>225394</td><td>&quot;train&quot;</td><td>202005</td><td>0</td><td>72</td><td>0.0</td><td>0.0</td><td>1.0</td><td>2.0</td><td>-1.0</td><td>-1.0</td><td>-1.0</td><td>-1.0</td><td>-1.0</td><td>-1.0</td><td>-1.0</td><td>-1.0</td><td>-1.0</td><td>-1.0</td><td>-1.0</td><td>-1.0</td><td>-1.0</td><td>-1.0</td><td>-1.0</td><td>-1.0</td><td>0.0</td><td>-1.0</td><td>-1.0</td><td>-1.0</td><td>-1.0</td><td>1.0</td><td>1.0</td><td>1</td><td>0.0</td><td>-1.0</td><td>-1.0</td><td>-1.0</td><td>&hellip;</td><td>-100</td><td>13</td><td>&quot;Unknown&quot;</td><td>&quot;Unknown&quot;</td><td>-100</td><td>-100</td><td>-100</td><td>&quot;Unknown&quot;</td><td>&quot;Unknown&quot;</td><td>&quot;Unknown&quot;</td><td>&quot;Unknown&quot;</td><td>&quot;Unknown&quot;</td><td>&quot;Unknown&quot;</td><td>&quot;Unknown&quot;</td><td>&quot;Unknown&quot;</td><td>&quot;Unknown&quot;</td><td>&quot;Unknown&quot;</td><td>5</td><td>21</td><td>6</td><td>1458</td><td>-100</td><td>-100</td><td>6522</td><td>-100</td><td>27717</td><td>-100</td><td>-100</td><td>-100</td><td>1444</td><td>3615</td><td>-100</td><td>3947</td><td>-100</td><td>-100</td><td>-100</td><td>-100</td></tr><tr><td>814180</td><td>&quot;train&quot;</td><td>201909</td><td>0</td><td>38</td><td>-1.0</td><td>-1.0</td><td>-1.0</td><td>-1.0</td><td>-1.0</td><td>-1.0</td><td>-1.0</td><td>-1.0</td><td>-1.0</td><td>-1.0</td><td>-1.0</td><td>-1.0</td><td>-1.0</td><td>-1.0</td><td>-1.0</td><td>-1.0</td><td>-1.0</td><td>-1.0</td><td>-1.0</td><td>-1.0</td><td>-1.0</td><td>-1.0</td><td>-1.0</td><td>5109.8003</td><td>-1.0</td><td>-1.0</td><td>-1.0</td><td>-1</td><td>-1.0</td><td>-1.0</td><td>-1.0</td><td>-1.0</td><td>&hellip;</td><td>-100</td><td>-100</td><td>&quot;DEDUCTION_6&quot;</td><td>&quot;Unknown&quot;</td><td>-100</td><td>-100</td><td>-100</td><td>&quot;Unknown&quot;</td><td>&quot;Unknown&quot;</td><td>&quot;Unknown&quot;</td><td>&quot;Unknown&quot;</td><td>&quot;Unknown&quot;</td><td>&quot;Unknown&quot;</td><td>&quot;Unknown&quot;</td><td>&quot;Unknown&quot;</td><td>&quot;Unknown&quot;</td><td>&quot;Unknown&quot;</td><td>9</td><td>39</td><td>5</td><td>1697</td><td>-100</td><td>-100</td><td>-100</td><td>-100</td><td>-100</td><td>-100</td><td>1683</td><td>1683</td><td>-100</td><td>-100</td><td>-100</td><td>-100</td><td>-100</td><td>-100</td><td>-100</td><td>-100</td></tr><tr><td>1536178</td><td>&quot;train&quot;</td><td>201909</td><td>0</td><td>36</td><td>2.0</td><td>1.0</td><td>23.0</td><td>14.0</td><td>-1.0</td><td>-1.0</td><td>-1.0</td><td>-1.0</td><td>-1.0</td><td>-1.0</td><td>-1.0</td><td>-1.0</td><td>-1.0</td><td>-1.0</td><td>-1.0</td><td>-1.0</td><td>-1.0</td><td>-1.0</td><td>-1.0</td><td>-1.0</td><td>15.0</td><td>-1.0</td><td>-1.0</td><td>8945.2</td><td>-1.0</td><td>5.0</td><td>3.0</td><td>-1</td><td>-1.0</td><td>-1.0</td><td>-1.0</td><td>-1.0</td><td>&hellip;</td><td>-100</td><td>-100</td><td>&quot;DEDUCTION_6&quot;</td><td>&quot;Unknown&quot;</td><td>-100</td><td>-100</td><td>-100</td><td>&quot;Unknown&quot;</td><td>&quot;Unknown&quot;</td><td>&quot;Unknown&quot;</td><td>&quot;Unknown&quot;</td><td>&quot;Unknown&quot;</td><td>&quot;Unknown&quot;</td><td>&quot;Unknown&quot;</td><td>&quot;Unknown&quot;</td><td>&quot;Unknown&quot;</td><td>&quot;Unknown&quot;</td><td>9</td><td>37</td><td>6</td><td>1710</td><td>-100</td><td>-100</td><td>-100</td><td>-100</td><td>14476</td><td>-100</td><td>1696</td><td>1696</td><td>-100</td><td>-100</td><td>-100</td><td>-100</td><td>-100</td><td>-100</td><td>-100</td><td>-100</td></tr><tr><td>1358905</td><td>&quot;train&quot;</td><td>201905</td><td>0</td><td>17</td><td>3.0</td><td>1.0</td><td>6.0</td><td>4.0</td><td>-1.0</td><td>-1.0</td><td>-1.0</td><td>-1.0</td><td>-1.0</td><td>-1.0</td><td>-1.0</td><td>-1.0</td><td>-1.0</td><td>-1.0</td><td>-1.0</td><td>-1.0</td><td>-1.0</td><td>-1.0</td><td>-1.0</td><td>-1.0</td><td>4.0</td><td>-1.0</td><td>-1.0</td><td>8644.188</td><td>-1.0</td><td>5.0</td><td>10.0</td><td>1</td><td>2103.1382</td><td>-1.0</td><td>-1.0</td><td>-1.0</td><td>&hellip;</td><td>-100</td><td>-100</td><td>&quot;Unknown&quot;</td><td>&quot;Unknown&quot;</td><td>-100</td><td>-100</td><td>-100</td><td>&quot;Unknown&quot;</td><td>&quot;Unknown&quot;</td><td>&quot;Unknown&quot;</td><td>&quot;Unknown&quot;</td><td>&quot;Unknown&quot;</td><td>&quot;Unknown&quot;</td><td>&quot;Unknown&quot;</td><td>&quot;Unknown&quot;</td><td>&quot;Unknown&quot;</td><td>&quot;Unknown&quot;</td><td>5</td><td>18</td><td>6</td><td>1843</td><td>-100</td><td>-100</td><td>-100</td><td>17155</td><td>17155</td><td>-100</td><td>1829</td><td>-100</td><td>-100</td><td>2945</td><td>-100</td><td>2511</td><td>-100</td><td>-100</td><td>-100</td><td>-100</td></tr><tr><td>662954</td><td>&quot;train&quot;</td><td>201904</td><td>0</td><td>12</td><td>-1.0</td><td>-1.0</td><td>-1.0</td><td>-1.0</td><td>-1.0</td><td>-1.0</td><td>-1.0</td><td>-1.0</td><td>-1.0</td><td>-1.0</td><td>-1.0</td><td>-1.0</td><td>-1.0</td><td>-1.0</td><td>-1.0</td><td>-1.0</td><td>-1.0</td><td>-1.0</td><td>-1.0</td><td>-1.0</td><td>-1.0</td><td>-1.0</td><td>-1.0</td><td>3590.556</td><td>-1.0</td><td>-1.0</td><td>-1.0</td><td>-1</td><td>-1.0</td><td>-1.0</td><td>-1.0</td><td>-1.0</td><td>&hellip;</td><td>-100</td><td>-100</td><td>&quot;Unknown&quot;</td><td>&quot;Unknown&quot;</td><td>-100</td><td>-100</td><td>-100</td><td>&quot;Unknown&quot;</td><td>&quot;Unknown&quot;</td><td>&quot;Unknown&quot;</td><td>&quot;Unknown&quot;</td><td>&quot;Unknown&quot;</td><td>&quot;Unknown&quot;</td><td>&quot;Unknown&quot;</td><td>&quot;Unknown&quot;</td><td>&quot;Unknown&quot;</td><td>&quot;Unknown&quot;</td><td>4</td><td>14</td><td>1</td><td>1876</td><td>-100</td><td>-100</td><td>-100</td><td>9605</td><td>-100</td><td>-100</td><td>1862</td><td>-100</td><td>-100</td><td>-100</td><td>-100</td><td>-100</td><td>-100</td><td>-100</td><td>-100</td><td>-100</td></tr></tbody></table></div>"
      ],
      "text/plain": [
       "shape: (1_526_669, 100)\n",
       "┌─────────┬─────────┬────────┬────────┬───┬──────────────┬─────────────┬─────────────┬─────────────┐\n",
       "│ case_id ┆ dataset ┆ MONTH  ┆ target ┆ … ┆ days_from_co ┆ days_from_c ┆ days_from_l ┆ days_from_p │\n",
       "│ ---     ┆ ---     ┆ ---    ┆ ---    ┆   ┆ ntractdate_5 ┆ ontractmatu ┆ astupdate_2 ┆ mts_date_11 │\n",
       "│ i64     ┆ str     ┆ i64    ┆ i64    ┆   ┆ 51D          ┆ ritydate…   ┆ 60D         ┆ 07D         │\n",
       "│         ┆         ┆        ┆        ┆   ┆ ---          ┆ ---         ┆ ---         ┆ ---         │\n",
       "│         ┆         ┆        ┆        ┆   ┆ i64          ┆ i64         ┆ i64         ┆ i64         │\n",
       "╞═════════╪═════════╪════════╪════════╪═══╪══════════════╪═════════════╪═════════════╪═════════════╡\n",
       "│ 1551538 ┆ train   ┆ 201909 ┆ 0      ┆ … ┆ -100         ┆ -100        ┆ -100        ┆ -100        │\n",
       "│ 1706485 ┆ train   ┆ 201912 ┆ 0      ┆ … ┆ -100         ┆ -100        ┆ -100        ┆ -100        │\n",
       "│ 1903472 ┆ train   ┆ 202008 ┆ 0      ┆ … ┆ 2441         ┆ 980         ┆ 1358        ┆ 1374        │\n",
       "│ 885626  ┆ train   ┆ 201912 ┆ 0      ┆ … ┆ -100         ┆ -100        ┆ -100        ┆ -100        │\n",
       "│ 599904  ┆ train   ┆ 201901 ┆ 0      ┆ … ┆ -100         ┆ -100        ┆ -100        ┆ -100        │\n",
       "│ …       ┆ …       ┆ …      ┆ …      ┆ … ┆ …            ┆ …           ┆ …           ┆ …           │\n",
       "│ 225394  ┆ train   ┆ 202005 ┆ 0      ┆ … ┆ -100         ┆ -100        ┆ -100        ┆ -100        │\n",
       "│ 814180  ┆ train   ┆ 201909 ┆ 0      ┆ … ┆ -100         ┆ -100        ┆ -100        ┆ -100        │\n",
       "│ 1536178 ┆ train   ┆ 201909 ┆ 0      ┆ … ┆ -100         ┆ -100        ┆ -100        ┆ -100        │\n",
       "│ 1358905 ┆ train   ┆ 201905 ┆ 0      ┆ … ┆ -100         ┆ -100        ┆ -100        ┆ -100        │\n",
       "│ 662954  ┆ train   ┆ 201904 ┆ 0      ┆ … ┆ -100         ┆ -100        ┆ -100        ┆ -100        │\n",
       "└─────────┴─────────┴────────┴────────┴───┴──────────────┴─────────────┴─────────────┴─────────────┘"
      ]
     },
     "execution_count": 23,
     "metadata": {},
     "output_type": "execute_result"
    }
   ],
   "source": [
    "final_df"
   ]
  },
  {
   "cell_type": "code",
   "execution_count": 25,
   "metadata": {
    "tags": []
   },
   "outputs": [
    {
     "data": {
      "text/plain": [
       "0"
      ]
     },
     "execution_count": 25,
     "metadata": {},
     "output_type": "execute_result"
    }
   ],
   "source": [
    "df_combined = final_df.to_pandas()\n",
    "df_categ_pd = df_combined.select_dtypes(include='object')\n",
    "df_numeric_pd = df_combined.select_dtypes(include=[np.number])\n",
    "\n",
    "# Cleanup\n",
    "del df_combined\n",
    "gc.collect()"
   ]
  },
  {
   "cell_type": "code",
   "execution_count": 29,
   "metadata": {
    "tags": []
   },
   "outputs": [
    {
     "name": "stdout",
     "output_type": "stream",
     "text": [
      "Combined numeric and categorical dataframe is saved to /Users/nataliamarko/Documents/Kaggle/home_credit_risk_score/temp_data\n"
     ]
    },
    {
     "data": {
      "text/plain": [
       "205"
      ]
     },
     "execution_count": 29,
     "metadata": {},
     "output_type": "execute_result"
    }
   ],
   "source": [
    "# Handle categorical columns\n",
    "label_encoder = LabelEncoder()\n",
    "\n",
    "for col in df_categ_pd.columns:\n",
    "    if col == 'dataset':\n",
    "        continue  # Skip 'dataset' column\n",
    "\n",
    "    unique_count = df_categ_pd[col].nunique()\n",
    "    if unique_count <= 3:\n",
    "        df_categ_pd = pd.get_dummies(df_categ_pd, columns=[col], prefix=[col], drop_first=True)\n",
    "    elif 4 <= unique_count <= 10:\n",
    "        df_categ_pd = pd.get_dummies(df_categ_pd, columns=[col], prefix=[col])\n",
    "    elif unique_count > 10:\n",
    "        df_categ_pd[col] = label_encoder.fit_transform(df_categ_pd[col])\n",
    "\n",
    "# Combine numeric and categorical DataFrames\n",
    "df_combined = pd.concat([df_numeric_pd, df_categ_pd], axis=1)\n",
    "\n",
    "# Save combined dataframe\n",
    "joblib.dump(df_combined, TEMP_DIR / 'final_df.pkl')\n",
    "print(f\"Combined numeric and categorical dataframe is saved to {TEMP_DIR}\")\n",
    "\n",
    "# Cleanup\n",
    "del df_numeric_pd, df_categ_pd\n",
    "gc.collect()"
   ]
  },
  {
   "cell_type": "code",
   "execution_count": 37,
   "metadata": {
    "tags": []
   },
   "outputs": [
    {
     "name": "stdout",
     "output_type": "stream",
     "text": [
      "Mem. usage decreased to 390.19 Mb (0.0% reduction)\n"
     ]
    }
   ],
   "source": [
    "def reduce_mem_usage(df, verbose=True):\n",
    "    numerics = ['int16', 'int32', 'int64', 'float16', 'float32', 'float64']\n",
    "    start_mem = df.memory_usage().sum() / 1024**2\n",
    "    for col in df.columns:\n",
    "        col_type = df[col].dtype\n",
    "        if col_type in numerics:\n",
    "            c_min = df[col].min()\n",
    "            c_max = df[col].max()\n",
    "            if str(col_type)[:3] == 'int':\n",
    "                if c_min > np.iinfo(np.int8).min and c_max < np.iinfo(np.int8).max:\n",
    "                    df[col] = df[col].astype(np.int8)\n",
    "                elif c_min > np.iinfo(np.int16).min and c_max < np.iinfo(np.int16).max:\n",
    "                    df[col] = df[col].astype(np.int16)\n",
    "                elif c_min > np.iinfo(np.int32).min and c_max < np.iinfo(np.int32).max:\n",
    "                    df[col] = df[col].astype(np.int32)\n",
    "                elif c_min > np.iinfo(np.int64).min and c_max < np.iinfo(np.int64).max:\n",
    "                    df[col] = df.col.astype(np.int64)\n",
    "            else:\n",
    "                if c_min > np.finfo(np.float16).min and c_max < np.finfo(np.float16).max:\n",
    "                    df[col] = df[col].astype(np.float16)\n",
    "                elif c_min > np.finfo(np.float32).min and c_max < np.finfo(np.float32).max:\n",
    "                    df[col] = df[col].astype(np.float32)\n",
    "                else:\n",
    "                    df[col] = df.col.astype(np.float64)\n",
    "    end_mem = df.memory_usage().sum() / 1024**2\n",
    "    if verbose: print('Mem. usage decreased to {:5.2f} Mb ({:.1f}% reduction)'.format(end_mem, 100 * (start_mem - end_mem) / start_mem))\n",
    "    return df\n",
    "\n",
    "combined_data = reduce_mem_usage(df_combined, verbose=True)\n",
    "\n",
    "# Ensure the 'dataset' column is still present before splitting\n",
    "if 'dataset' not in combined_data.columns:\n",
    "    raise KeyError(\"The 'dataset' column is missing. Ensure it is preserved throughout the processing.\")\n",
    "\n",
    "# Split back into train and test datasets\n",
    "train_data = combined_data[combined_data['dataset'] == 'train'].drop(columns=['dataset'])\n",
    "test_data = combined_data[combined_data['dataset'] == 'test'].drop(columns=['dataset'])\n",
    "\n",
    "# Reset index to make sure they align with the original data\n",
    "train_data = train_data.reset_index(drop=True)\n",
    "test_data = test_data.reset_index(drop=True)"
   ]
  },
  {
   "cell_type": "code",
   "execution_count": 39,
   "metadata": {
    "tags": []
   },
   "outputs": [
    {
     "data": {
      "text/plain": [
       "1940"
      ]
     },
     "execution_count": 39,
     "metadata": {},
     "output_type": "execute_result"
    }
   ],
   "source": [
    "joblib.dump(train_data, TEMP_DIR / 'train_data_pp.pkl') \n",
    "joblib.dump(test_data, TEMP_DIR / 'test_data_pp.pkl') \n",
    "\n",
    "# Cleanup\n",
    "del combined_data, train_data, test_data\n",
    "gc.collect()"
   ]
  },
  {
   "cell_type": "code",
   "execution_count": 43,
   "metadata": {
    "tags": []
   },
   "outputs": [],
   "source": [
    "train_data = joblib.load(TEMP_DIR / 'train_data_pp.pkl') \n",
    "test_data = joblib.load(TEMP_DIR / 'test_data_pp.pkl')"
   ]
  },
  {
   "cell_type": "code",
   "execution_count": 47,
   "metadata": {
    "tags": []
   },
   "outputs": [
    {
     "data": {
      "text/html": [
       "<div>\n",
       "<style scoped>\n",
       "    .dataframe tbody tr th:only-of-type {\n",
       "        vertical-align: middle;\n",
       "    }\n",
       "\n",
       "    .dataframe tbody tr th {\n",
       "        vertical-align: top;\n",
       "    }\n",
       "\n",
       "    .dataframe thead th {\n",
       "        text-align: right;\n",
       "    }\n",
       "</style>\n",
       "<table border=\"1\" class=\"dataframe\">\n",
       "  <thead>\n",
       "    <tr style=\"text-align: right;\">\n",
       "      <th></th>\n",
       "      <th>case_id</th>\n",
       "      <th>MONTH</th>\n",
       "      <th>target</th>\n",
       "      <th>WEEK_NUM</th>\n",
       "      <th>days120_123L</th>\n",
       "      <th>days30_165L</th>\n",
       "      <th>days360_512L</th>\n",
       "      <th>firstquarter_103L</th>\n",
       "      <th>for3years_128L</th>\n",
       "      <th>for3years_504L</th>\n",
       "      <th>...</th>\n",
       "      <th>subjectrole_326M_ab3c25cf_True</th>\n",
       "      <th>subjectrole_326M_daf49a8a_True</th>\n",
       "      <th>subjectrole_326M_fa4f56f1_True</th>\n",
       "      <th>subjectrole_43M_15f04f45_True</th>\n",
       "      <th>subjectrole_43M_71ddaa88_True</th>\n",
       "      <th>subjectrole_43M_Unknown_True</th>\n",
       "      <th>subjectrole_43M_a55475b1_True</th>\n",
       "      <th>subjectrole_43M_ab3c25cf_True</th>\n",
       "      <th>subjectrole_43M_daf49a8a_True</th>\n",
       "      <th>subjectrole_43M_fa4f56f1_True</th>\n",
       "    </tr>\n",
       "  </thead>\n",
       "  <tbody>\n",
       "    <tr>\n",
       "      <th>0</th>\n",
       "      <td>1551538</td>\n",
       "      <td>201909</td>\n",
       "      <td>0</td>\n",
       "      <td>38</td>\n",
       "      <td>6.0</td>\n",
       "      <td>1.0</td>\n",
       "      <td>17.0</td>\n",
       "      <td>6.0</td>\n",
       "      <td>-1.0</td>\n",
       "      <td>-1.0</td>\n",
       "      <td>...</td>\n",
       "      <td>False</td>\n",
       "      <td>False</td>\n",
       "      <td>False</td>\n",
       "      <td>False</td>\n",
       "      <td>False</td>\n",
       "      <td>True</td>\n",
       "      <td>False</td>\n",
       "      <td>False</td>\n",
       "      <td>False</td>\n",
       "      <td>False</td>\n",
       "    </tr>\n",
       "    <tr>\n",
       "      <th>1</th>\n",
       "      <td>1706485</td>\n",
       "      <td>201912</td>\n",
       "      <td>0</td>\n",
       "      <td>51</td>\n",
       "      <td>2.0</td>\n",
       "      <td>0.0</td>\n",
       "      <td>6.0</td>\n",
       "      <td>9.0</td>\n",
       "      <td>-1.0</td>\n",
       "      <td>-1.0</td>\n",
       "      <td>...</td>\n",
       "      <td>False</td>\n",
       "      <td>False</td>\n",
       "      <td>False</td>\n",
       "      <td>False</td>\n",
       "      <td>False</td>\n",
       "      <td>True</td>\n",
       "      <td>False</td>\n",
       "      <td>False</td>\n",
       "      <td>False</td>\n",
       "      <td>False</td>\n",
       "    </tr>\n",
       "    <tr>\n",
       "      <th>2</th>\n",
       "      <td>1903472</td>\n",
       "      <td>202008</td>\n",
       "      <td>0</td>\n",
       "      <td>86</td>\n",
       "      <td>0.0</td>\n",
       "      <td>0.0</td>\n",
       "      <td>0.0</td>\n",
       "      <td>0.0</td>\n",
       "      <td>0.0</td>\n",
       "      <td>1.0</td>\n",
       "      <td>...</td>\n",
       "      <td>True</td>\n",
       "      <td>False</td>\n",
       "      <td>False</td>\n",
       "      <td>False</td>\n",
       "      <td>False</td>\n",
       "      <td>False</td>\n",
       "      <td>False</td>\n",
       "      <td>False</td>\n",
       "      <td>True</td>\n",
       "      <td>False</td>\n",
       "    </tr>\n",
       "    <tr>\n",
       "      <th>3</th>\n",
       "      <td>885626</td>\n",
       "      <td>201912</td>\n",
       "      <td>0</td>\n",
       "      <td>47</td>\n",
       "      <td>-1.0</td>\n",
       "      <td>-1.0</td>\n",
       "      <td>-1.0</td>\n",
       "      <td>-1.0</td>\n",
       "      <td>-1.0</td>\n",
       "      <td>-1.0</td>\n",
       "      <td>...</td>\n",
       "      <td>False</td>\n",
       "      <td>False</td>\n",
       "      <td>False</td>\n",
       "      <td>False</td>\n",
       "      <td>False</td>\n",
       "      <td>True</td>\n",
       "      <td>False</td>\n",
       "      <td>False</td>\n",
       "      <td>False</td>\n",
       "      <td>False</td>\n",
       "    </tr>\n",
       "    <tr>\n",
       "      <th>4</th>\n",
       "      <td>599904</td>\n",
       "      <td>201901</td>\n",
       "      <td>0</td>\n",
       "      <td>0</td>\n",
       "      <td>-1.0</td>\n",
       "      <td>-1.0</td>\n",
       "      <td>-1.0</td>\n",
       "      <td>-1.0</td>\n",
       "      <td>-1.0</td>\n",
       "      <td>-1.0</td>\n",
       "      <td>...</td>\n",
       "      <td>False</td>\n",
       "      <td>False</td>\n",
       "      <td>False</td>\n",
       "      <td>False</td>\n",
       "      <td>False</td>\n",
       "      <td>True</td>\n",
       "      <td>False</td>\n",
       "      <td>False</td>\n",
       "      <td>False</td>\n",
       "      <td>False</td>\n",
       "    </tr>\n",
       "  </tbody>\n",
       "</table>\n",
       "<p>5 rows × 142 columns</p>\n",
       "</div>"
      ],
      "text/plain": [
       "   case_id   MONTH  target  WEEK_NUM  days120_123L  days30_165L  days360_512L  \\\n",
       "0  1551538  201909       0        38           6.0          1.0          17.0   \n",
       "1  1706485  201912       0        51           2.0          0.0           6.0   \n",
       "2  1903472  202008       0        86           0.0          0.0           0.0   \n",
       "3   885626  201912       0        47          -1.0         -1.0          -1.0   \n",
       "4   599904  201901       0         0          -1.0         -1.0          -1.0   \n",
       "\n",
       "   firstquarter_103L  for3years_128L  for3years_504L  ...  \\\n",
       "0                6.0            -1.0            -1.0  ...   \n",
       "1                9.0            -1.0            -1.0  ...   \n",
       "2                0.0             0.0             1.0  ...   \n",
       "3               -1.0            -1.0            -1.0  ...   \n",
       "4               -1.0            -1.0            -1.0  ...   \n",
       "\n",
       "   subjectrole_326M_ab3c25cf_True  subjectrole_326M_daf49a8a_True  \\\n",
       "0                           False                           False   \n",
       "1                           False                           False   \n",
       "2                            True                           False   \n",
       "3                           False                           False   \n",
       "4                           False                           False   \n",
       "\n",
       "   subjectrole_326M_fa4f56f1_True  subjectrole_43M_15f04f45_True  \\\n",
       "0                           False                          False   \n",
       "1                           False                          False   \n",
       "2                           False                          False   \n",
       "3                           False                          False   \n",
       "4                           False                          False   \n",
       "\n",
       "   subjectrole_43M_71ddaa88_True  subjectrole_43M_Unknown_True  \\\n",
       "0                          False                          True   \n",
       "1                          False                          True   \n",
       "2                          False                         False   \n",
       "3                          False                          True   \n",
       "4                          False                          True   \n",
       "\n",
       "   subjectrole_43M_a55475b1_True  subjectrole_43M_ab3c25cf_True  \\\n",
       "0                          False                          False   \n",
       "1                          False                          False   \n",
       "2                          False                          False   \n",
       "3                          False                          False   \n",
       "4                          False                          False   \n",
       "\n",
       "   subjectrole_43M_daf49a8a_True  subjectrole_43M_fa4f56f1_True  \n",
       "0                          False                          False  \n",
       "1                          False                          False  \n",
       "2                           True                          False  \n",
       "3                          False                          False  \n",
       "4                          False                          False  \n",
       "\n",
       "[5 rows x 142 columns]"
      ]
     },
     "execution_count": 47,
     "metadata": {},
     "output_type": "execute_result"
    }
   ],
   "source": [
    "train_data.head()"
   ]
  },
  {
   "cell_type": "code",
   "execution_count": 49,
   "metadata": {
    "tags": []
   },
   "outputs": [
    {
     "data": {
      "text/html": [
       "<div>\n",
       "<style scoped>\n",
       "    .dataframe tbody tr th:only-of-type {\n",
       "        vertical-align: middle;\n",
       "    }\n",
       "\n",
       "    .dataframe tbody tr th {\n",
       "        vertical-align: top;\n",
       "    }\n",
       "\n",
       "    .dataframe thead th {\n",
       "        text-align: right;\n",
       "    }\n",
       "</style>\n",
       "<table border=\"1\" class=\"dataframe\">\n",
       "  <thead>\n",
       "    <tr style=\"text-align: right;\">\n",
       "      <th></th>\n",
       "      <th>case_id</th>\n",
       "      <th>MONTH</th>\n",
       "      <th>target</th>\n",
       "      <th>WEEK_NUM</th>\n",
       "      <th>days120_123L</th>\n",
       "      <th>days30_165L</th>\n",
       "      <th>days360_512L</th>\n",
       "      <th>firstquarter_103L</th>\n",
       "      <th>for3years_128L</th>\n",
       "      <th>for3years_504L</th>\n",
       "      <th>...</th>\n",
       "      <th>subjectrole_326M_ab3c25cf_True</th>\n",
       "      <th>subjectrole_326M_daf49a8a_True</th>\n",
       "      <th>subjectrole_326M_fa4f56f1_True</th>\n",
       "      <th>subjectrole_43M_15f04f45_True</th>\n",
       "      <th>subjectrole_43M_71ddaa88_True</th>\n",
       "      <th>subjectrole_43M_Unknown_True</th>\n",
       "      <th>subjectrole_43M_a55475b1_True</th>\n",
       "      <th>subjectrole_43M_ab3c25cf_True</th>\n",
       "      <th>subjectrole_43M_daf49a8a_True</th>\n",
       "      <th>subjectrole_43M_fa4f56f1_True</th>\n",
       "    </tr>\n",
       "  </thead>\n",
       "  <tbody>\n",
       "    <tr>\n",
       "      <th>0</th>\n",
       "      <td>57549</td>\n",
       "      <td>202201</td>\n",
       "      <td>-1</td>\n",
       "      <td>100</td>\n",
       "      <td>-1.0</td>\n",
       "      <td>-1.0</td>\n",
       "      <td>-1.0</td>\n",
       "      <td>-1.0</td>\n",
       "      <td>-1.0</td>\n",
       "      <td>-1.0</td>\n",
       "      <td>...</td>\n",
       "      <td>False</td>\n",
       "      <td>False</td>\n",
       "      <td>False</td>\n",
       "      <td>False</td>\n",
       "      <td>False</td>\n",
       "      <td>True</td>\n",
       "      <td>False</td>\n",
       "      <td>False</td>\n",
       "      <td>False</td>\n",
       "      <td>False</td>\n",
       "    </tr>\n",
       "    <tr>\n",
       "      <th>1</th>\n",
       "      <td>57631</td>\n",
       "      <td>202201</td>\n",
       "      <td>-1</td>\n",
       "      <td>100</td>\n",
       "      <td>-1.0</td>\n",
       "      <td>-1.0</td>\n",
       "      <td>-1.0</td>\n",
       "      <td>-1.0</td>\n",
       "      <td>-1.0</td>\n",
       "      <td>-1.0</td>\n",
       "      <td>...</td>\n",
       "      <td>False</td>\n",
       "      <td>False</td>\n",
       "      <td>False</td>\n",
       "      <td>False</td>\n",
       "      <td>False</td>\n",
       "      <td>True</td>\n",
       "      <td>False</td>\n",
       "      <td>False</td>\n",
       "      <td>False</td>\n",
       "      <td>False</td>\n",
       "    </tr>\n",
       "    <tr>\n",
       "      <th>2</th>\n",
       "      <td>57630</td>\n",
       "      <td>202201</td>\n",
       "      <td>-1</td>\n",
       "      <td>100</td>\n",
       "      <td>-1.0</td>\n",
       "      <td>-1.0</td>\n",
       "      <td>-1.0</td>\n",
       "      <td>-1.0</td>\n",
       "      <td>-1.0</td>\n",
       "      <td>-1.0</td>\n",
       "      <td>...</td>\n",
       "      <td>False</td>\n",
       "      <td>False</td>\n",
       "      <td>False</td>\n",
       "      <td>False</td>\n",
       "      <td>False</td>\n",
       "      <td>True</td>\n",
       "      <td>False</td>\n",
       "      <td>False</td>\n",
       "      <td>False</td>\n",
       "      <td>False</td>\n",
       "    </tr>\n",
       "    <tr>\n",
       "      <th>3</th>\n",
       "      <td>57569</td>\n",
       "      <td>202201</td>\n",
       "      <td>-1</td>\n",
       "      <td>100</td>\n",
       "      <td>-1.0</td>\n",
       "      <td>-1.0</td>\n",
       "      <td>-1.0</td>\n",
       "      <td>-1.0</td>\n",
       "      <td>-1.0</td>\n",
       "      <td>-1.0</td>\n",
       "      <td>...</td>\n",
       "      <td>False</td>\n",
       "      <td>False</td>\n",
       "      <td>False</td>\n",
       "      <td>False</td>\n",
       "      <td>False</td>\n",
       "      <td>True</td>\n",
       "      <td>False</td>\n",
       "      <td>False</td>\n",
       "      <td>False</td>\n",
       "      <td>False</td>\n",
       "    </tr>\n",
       "    <tr>\n",
       "      <th>4</th>\n",
       "      <td>57633</td>\n",
       "      <td>202201</td>\n",
       "      <td>-1</td>\n",
       "      <td>100</td>\n",
       "      <td>-1.0</td>\n",
       "      <td>-1.0</td>\n",
       "      <td>-1.0</td>\n",
       "      <td>-1.0</td>\n",
       "      <td>-1.0</td>\n",
       "      <td>-1.0</td>\n",
       "      <td>...</td>\n",
       "      <td>False</td>\n",
       "      <td>False</td>\n",
       "      <td>False</td>\n",
       "      <td>False</td>\n",
       "      <td>False</td>\n",
       "      <td>True</td>\n",
       "      <td>False</td>\n",
       "      <td>False</td>\n",
       "      <td>False</td>\n",
       "      <td>False</td>\n",
       "    </tr>\n",
       "  </tbody>\n",
       "</table>\n",
       "<p>5 rows × 142 columns</p>\n",
       "</div>"
      ],
      "text/plain": [
       "   case_id   MONTH  target  WEEK_NUM  days120_123L  days30_165L  days360_512L  \\\n",
       "0    57549  202201      -1       100          -1.0         -1.0          -1.0   \n",
       "1    57631  202201      -1       100          -1.0         -1.0          -1.0   \n",
       "2    57630  202201      -1       100          -1.0         -1.0          -1.0   \n",
       "3    57569  202201      -1       100          -1.0         -1.0          -1.0   \n",
       "4    57633  202201      -1       100          -1.0         -1.0          -1.0   \n",
       "\n",
       "   firstquarter_103L  for3years_128L  for3years_504L  ...  \\\n",
       "0               -1.0            -1.0            -1.0  ...   \n",
       "1               -1.0            -1.0            -1.0  ...   \n",
       "2               -1.0            -1.0            -1.0  ...   \n",
       "3               -1.0            -1.0            -1.0  ...   \n",
       "4               -1.0            -1.0            -1.0  ...   \n",
       "\n",
       "   subjectrole_326M_ab3c25cf_True  subjectrole_326M_daf49a8a_True  \\\n",
       "0                           False                           False   \n",
       "1                           False                           False   \n",
       "2                           False                           False   \n",
       "3                           False                           False   \n",
       "4                           False                           False   \n",
       "\n",
       "   subjectrole_326M_fa4f56f1_True  subjectrole_43M_15f04f45_True  \\\n",
       "0                           False                          False   \n",
       "1                           False                          False   \n",
       "2                           False                          False   \n",
       "3                           False                          False   \n",
       "4                           False                          False   \n",
       "\n",
       "   subjectrole_43M_71ddaa88_True  subjectrole_43M_Unknown_True  \\\n",
       "0                          False                          True   \n",
       "1                          False                          True   \n",
       "2                          False                          True   \n",
       "3                          False                          True   \n",
       "4                          False                          True   \n",
       "\n",
       "   subjectrole_43M_a55475b1_True  subjectrole_43M_ab3c25cf_True  \\\n",
       "0                          False                          False   \n",
       "1                          False                          False   \n",
       "2                          False                          False   \n",
       "3                          False                          False   \n",
       "4                          False                          False   \n",
       "\n",
       "   subjectrole_43M_daf49a8a_True  subjectrole_43M_fa4f56f1_True  \n",
       "0                          False                          False  \n",
       "1                          False                          False  \n",
       "2                          False                          False  \n",
       "3                          False                          False  \n",
       "4                          False                          False  \n",
       "\n",
       "[5 rows x 142 columns]"
      ]
     },
     "execution_count": 49,
     "metadata": {},
     "output_type": "execute_result"
    }
   ],
   "source": [
    "test_data.head()"
   ]
  },
  {
   "cell_type": "code",
   "execution_count": null,
   "metadata": {},
   "outputs": [],
   "source": []
  }
 ],
 "metadata": {
  "kaggle": {
   "accelerator": "none",
   "dataSources": [
    {
     "databundleVersionId": 7921029,
     "sourceId": 50160,
     "sourceType": "competition"
    },
    {
     "sourceId": 178605520,
     "sourceType": "kernelVersion"
    }
   ],
   "dockerImageVersionId": 30698,
   "isGpuEnabled": false,
   "isInternetEnabled": true,
   "language": "python",
   "sourceType": "notebook"
  },
  "kernelspec": {
   "display_name": "Python 3 (ipykernel)",
   "language": "python",
   "name": "python3"
  },
  "language_info": {
   "codemirror_mode": {
    "name": "ipython",
    "version": 3
   },
   "file_extension": ".py",
   "mimetype": "text/x-python",
   "name": "python",
   "nbconvert_exporter": "python",
   "pygments_lexer": "ipython3",
   "version": "3.11.8"
  }
 },
 "nbformat": 4,
 "nbformat_minor": 4
}

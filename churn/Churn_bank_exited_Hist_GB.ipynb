{
  "cells": [
    {
      "cell_type": "code",
      "source": [
        "pip install catboost"
      ],
      "metadata": {
        "colab": {
          "base_uri": "https://localhost:8080/"
        },
        "id": "u7GjiUp5Mglh",
        "outputId": "6ac8eb37-7cdc-446d-f6e1-24573f129e87"
      },
      "id": "u7GjiUp5Mglh",
      "execution_count": 2,
      "outputs": [
        {
          "output_type": "stream",
          "name": "stdout",
          "text": [
            "Collecting catboost\n",
            "  Downloading catboost-1.2.3-cp310-cp310-manylinux2014_x86_64.whl (98.5 MB)\n",
            "\u001b[2K     \u001b[90m━━━━━━━━━━━━━━━━━━━━━━━━━━━━━━━━━━━━━━━━\u001b[0m \u001b[32m98.5/98.5 MB\u001b[0m \u001b[31m6.5 MB/s\u001b[0m eta \u001b[36m0:00:00\u001b[0m\n",
            "\u001b[?25hRequirement already satisfied: graphviz in /usr/local/lib/python3.10/dist-packages (from catboost) (0.20.3)\n",
            "Requirement already satisfied: matplotlib in /usr/local/lib/python3.10/dist-packages (from catboost) (3.7.1)\n",
            "Requirement already satisfied: numpy>=1.16.0 in /usr/local/lib/python3.10/dist-packages (from catboost) (1.25.2)\n",
            "Requirement already satisfied: pandas>=0.24 in /usr/local/lib/python3.10/dist-packages (from catboost) (2.0.3)\n",
            "Requirement already satisfied: scipy in /usr/local/lib/python3.10/dist-packages (from catboost) (1.11.4)\n",
            "Requirement already satisfied: plotly in /usr/local/lib/python3.10/dist-packages (from catboost) (5.15.0)\n",
            "Requirement already satisfied: six in /usr/local/lib/python3.10/dist-packages (from catboost) (1.16.0)\n",
            "Requirement already satisfied: python-dateutil>=2.8.2 in /usr/local/lib/python3.10/dist-packages (from pandas>=0.24->catboost) (2.8.2)\n",
            "Requirement already satisfied: pytz>=2020.1 in /usr/local/lib/python3.10/dist-packages (from pandas>=0.24->catboost) (2023.4)\n",
            "Requirement already satisfied: tzdata>=2022.1 in /usr/local/lib/python3.10/dist-packages (from pandas>=0.24->catboost) (2024.1)\n",
            "Requirement already satisfied: contourpy>=1.0.1 in /usr/local/lib/python3.10/dist-packages (from matplotlib->catboost) (1.2.1)\n",
            "Requirement already satisfied: cycler>=0.10 in /usr/local/lib/python3.10/dist-packages (from matplotlib->catboost) (0.12.1)\n",
            "Requirement already satisfied: fonttools>=4.22.0 in /usr/local/lib/python3.10/dist-packages (from matplotlib->catboost) (4.51.0)\n",
            "Requirement already satisfied: kiwisolver>=1.0.1 in /usr/local/lib/python3.10/dist-packages (from matplotlib->catboost) (1.4.5)\n",
            "Requirement already satisfied: packaging>=20.0 in /usr/local/lib/python3.10/dist-packages (from matplotlib->catboost) (24.0)\n",
            "Requirement already satisfied: pillow>=6.2.0 in /usr/local/lib/python3.10/dist-packages (from matplotlib->catboost) (9.4.0)\n",
            "Requirement already satisfied: pyparsing>=2.3.1 in /usr/local/lib/python3.10/dist-packages (from matplotlib->catboost) (3.1.2)\n",
            "Requirement already satisfied: tenacity>=6.2.0 in /usr/local/lib/python3.10/dist-packages (from plotly->catboost) (8.2.3)\n",
            "Installing collected packages: catboost\n",
            "Successfully installed catboost-1.2.3\n"
          ]
        }
      ]
    },
    {
      "cell_type": "code",
      "execution_count": 3,
      "id": "956632da-4ad8-444d-aed8-c21b2564d0f7",
      "metadata": {
        "id": "956632da-4ad8-444d-aed8-c21b2564d0f7"
      },
      "outputs": [],
      "source": [
        "import pandas as pd\n",
        "import numpy as np\n",
        "import matplotlib.pyplot as plt\n",
        "import seaborn as sns\n",
        "from datetime import datetime\n",
        "from sklearn.preprocessing import StandardScaler, RobustScaler\n",
        "from sklearn.model_selection import (cross_val_predict, train_test_split, GridSearchCV,\n",
        "                                     StratifiedKFold, KFold)\n",
        "from sklearn.ensemble import VotingClassifier, RandomForestClassifier, HistGradientBoostingClassifier\n",
        "from sklearn.metrics import (classification_report, accuracy_score, roc_auc_score, log_loss)\n",
        "from sklearn.neighbors import KNeighborsClassifier\n",
        "from catboost import CatBoostClassifier\n",
        "from imblearn.over_sampling import RandomOverSampler\n",
        "\n",
        "from sklearn.model_selection import KFold\n",
        "from sklearn.ensemble import HistGradientBoostingClassifier\n",
        "from sklearn.model_selection import cross_val_score\n",
        "from sklearn.metrics import classification_report, confusion_matrix\n"
      ]
    },
    {
      "cell_type": "markdown",
      "source": [
        "# Load and preprocess data"
      ],
      "metadata": {
        "id": "cAtDUwQf0PlR"
      },
      "id": "cAtDUwQf0PlR"
    },
    {
      "cell_type": "code",
      "source": [
        "from google.colab import drive\n",
        "drive.mount('/content/drive')"
      ],
      "metadata": {
        "colab": {
          "base_uri": "https://localhost:8080/"
        },
        "id": "-3fJ--s4MoQt",
        "outputId": "1fcd5e7e-9178-414e-eef9-080fb1db4381"
      },
      "id": "-3fJ--s4MoQt",
      "execution_count": 4,
      "outputs": [
        {
          "output_type": "stream",
          "name": "stdout",
          "text": [
            "Mounted at /content/drive\n"
          ]
        }
      ]
    },
    {
      "cell_type": "code",
      "execution_count": 5,
      "id": "1853a1bd-be81-4708-84eb-e485d0b1b9ba",
      "metadata": {
        "id": "1853a1bd-be81-4708-84eb-e485d0b1b9ba"
      },
      "outputs": [],
      "source": [
        "train_file_path = '/content/drive/My Drive/Colab Notebooks/Churn_bank_exited/train.csv'\n",
        "test_file_path = '/content/drive/My Drive/Colab Notebooks/Churn_bank_exited/test.csv'\n",
        "\n",
        "df_train = pd.read_csv(train_file_path)"
      ]
    },
    {
      "cell_type": "code",
      "source": [
        "df_train.head()"
      ],
      "metadata": {
        "colab": {
          "base_uri": "https://localhost:8080/",
          "height": 206
        },
        "id": "Oaru7srpRdag",
        "outputId": "0e88d802-caef-4d80-ca99-42a0bb502a85"
      },
      "id": "Oaru7srpRdag",
      "execution_count": 6,
      "outputs": [
        {
          "output_type": "execute_result",
          "data": {
            "text/plain": [
              "   id  CustomerId         Surname  CreditScore Geography Gender   Age  Tenure  \\\n",
              "0   0    15674932  Okwudilichukwu          668    France   Male  33.0       3   \n",
              "1   1    15749177   Okwudiliolisa          627    France   Male  33.0       1   \n",
              "2   2    15694510           Hsueh          678    France   Male  40.0      10   \n",
              "3   3    15741417             Kao          581    France   Male  34.0       2   \n",
              "4   4    15766172       Chiemenam          716     Spain   Male  33.0       5   \n",
              "\n",
              "     Balance  NumOfProducts  HasCrCard  IsActiveMember  EstimatedSalary  \\\n",
              "0       0.00              2        1.0             0.0        181449.97   \n",
              "1       0.00              2        1.0             1.0         49503.50   \n",
              "2       0.00              2        1.0             0.0        184866.69   \n",
              "3  148882.54              1        1.0             1.0         84560.88   \n",
              "4       0.00              2        1.0             1.0         15068.83   \n",
              "\n",
              "   Exited  \n",
              "0       0  \n",
              "1       0  \n",
              "2       0  \n",
              "3       0  \n",
              "4       0  "
            ],
            "text/html": [
              "\n",
              "  <div id=\"df-4a7b962a-3bec-4964-ae96-f8764e8a01d6\" class=\"colab-df-container\">\n",
              "    <div>\n",
              "<style scoped>\n",
              "    .dataframe tbody tr th:only-of-type {\n",
              "        vertical-align: middle;\n",
              "    }\n",
              "\n",
              "    .dataframe tbody tr th {\n",
              "        vertical-align: top;\n",
              "    }\n",
              "\n",
              "    .dataframe thead th {\n",
              "        text-align: right;\n",
              "    }\n",
              "</style>\n",
              "<table border=\"1\" class=\"dataframe\">\n",
              "  <thead>\n",
              "    <tr style=\"text-align: right;\">\n",
              "      <th></th>\n",
              "      <th>id</th>\n",
              "      <th>CustomerId</th>\n",
              "      <th>Surname</th>\n",
              "      <th>CreditScore</th>\n",
              "      <th>Geography</th>\n",
              "      <th>Gender</th>\n",
              "      <th>Age</th>\n",
              "      <th>Tenure</th>\n",
              "      <th>Balance</th>\n",
              "      <th>NumOfProducts</th>\n",
              "      <th>HasCrCard</th>\n",
              "      <th>IsActiveMember</th>\n",
              "      <th>EstimatedSalary</th>\n",
              "      <th>Exited</th>\n",
              "    </tr>\n",
              "  </thead>\n",
              "  <tbody>\n",
              "    <tr>\n",
              "      <th>0</th>\n",
              "      <td>0</td>\n",
              "      <td>15674932</td>\n",
              "      <td>Okwudilichukwu</td>\n",
              "      <td>668</td>\n",
              "      <td>France</td>\n",
              "      <td>Male</td>\n",
              "      <td>33.0</td>\n",
              "      <td>3</td>\n",
              "      <td>0.00</td>\n",
              "      <td>2</td>\n",
              "      <td>1.0</td>\n",
              "      <td>0.0</td>\n",
              "      <td>181449.97</td>\n",
              "      <td>0</td>\n",
              "    </tr>\n",
              "    <tr>\n",
              "      <th>1</th>\n",
              "      <td>1</td>\n",
              "      <td>15749177</td>\n",
              "      <td>Okwudiliolisa</td>\n",
              "      <td>627</td>\n",
              "      <td>France</td>\n",
              "      <td>Male</td>\n",
              "      <td>33.0</td>\n",
              "      <td>1</td>\n",
              "      <td>0.00</td>\n",
              "      <td>2</td>\n",
              "      <td>1.0</td>\n",
              "      <td>1.0</td>\n",
              "      <td>49503.50</td>\n",
              "      <td>0</td>\n",
              "    </tr>\n",
              "    <tr>\n",
              "      <th>2</th>\n",
              "      <td>2</td>\n",
              "      <td>15694510</td>\n",
              "      <td>Hsueh</td>\n",
              "      <td>678</td>\n",
              "      <td>France</td>\n",
              "      <td>Male</td>\n",
              "      <td>40.0</td>\n",
              "      <td>10</td>\n",
              "      <td>0.00</td>\n",
              "      <td>2</td>\n",
              "      <td>1.0</td>\n",
              "      <td>0.0</td>\n",
              "      <td>184866.69</td>\n",
              "      <td>0</td>\n",
              "    </tr>\n",
              "    <tr>\n",
              "      <th>3</th>\n",
              "      <td>3</td>\n",
              "      <td>15741417</td>\n",
              "      <td>Kao</td>\n",
              "      <td>581</td>\n",
              "      <td>France</td>\n",
              "      <td>Male</td>\n",
              "      <td>34.0</td>\n",
              "      <td>2</td>\n",
              "      <td>148882.54</td>\n",
              "      <td>1</td>\n",
              "      <td>1.0</td>\n",
              "      <td>1.0</td>\n",
              "      <td>84560.88</td>\n",
              "      <td>0</td>\n",
              "    </tr>\n",
              "    <tr>\n",
              "      <th>4</th>\n",
              "      <td>4</td>\n",
              "      <td>15766172</td>\n",
              "      <td>Chiemenam</td>\n",
              "      <td>716</td>\n",
              "      <td>Spain</td>\n",
              "      <td>Male</td>\n",
              "      <td>33.0</td>\n",
              "      <td>5</td>\n",
              "      <td>0.00</td>\n",
              "      <td>2</td>\n",
              "      <td>1.0</td>\n",
              "      <td>1.0</td>\n",
              "      <td>15068.83</td>\n",
              "      <td>0</td>\n",
              "    </tr>\n",
              "  </tbody>\n",
              "</table>\n",
              "</div>\n",
              "    <div class=\"colab-df-buttons\">\n",
              "\n",
              "  <div class=\"colab-df-container\">\n",
              "    <button class=\"colab-df-convert\" onclick=\"convertToInteractive('df-4a7b962a-3bec-4964-ae96-f8764e8a01d6')\"\n",
              "            title=\"Convert this dataframe to an interactive table.\"\n",
              "            style=\"display:none;\">\n",
              "\n",
              "  <svg xmlns=\"http://www.w3.org/2000/svg\" height=\"24px\" viewBox=\"0 -960 960 960\">\n",
              "    <path d=\"M120-120v-720h720v720H120Zm60-500h600v-160H180v160Zm220 220h160v-160H400v160Zm0 220h160v-160H400v160ZM180-400h160v-160H180v160Zm440 0h160v-160H620v160ZM180-180h160v-160H180v160Zm440 0h160v-160H620v160Z\"/>\n",
              "  </svg>\n",
              "    </button>\n",
              "\n",
              "  <style>\n",
              "    .colab-df-container {\n",
              "      display:flex;\n",
              "      gap: 12px;\n",
              "    }\n",
              "\n",
              "    .colab-df-convert {\n",
              "      background-color: #E8F0FE;\n",
              "      border: none;\n",
              "      border-radius: 50%;\n",
              "      cursor: pointer;\n",
              "      display: none;\n",
              "      fill: #1967D2;\n",
              "      height: 32px;\n",
              "      padding: 0 0 0 0;\n",
              "      width: 32px;\n",
              "    }\n",
              "\n",
              "    .colab-df-convert:hover {\n",
              "      background-color: #E2EBFA;\n",
              "      box-shadow: 0px 1px 2px rgba(60, 64, 67, 0.3), 0px 1px 3px 1px rgba(60, 64, 67, 0.15);\n",
              "      fill: #174EA6;\n",
              "    }\n",
              "\n",
              "    .colab-df-buttons div {\n",
              "      margin-bottom: 4px;\n",
              "    }\n",
              "\n",
              "    [theme=dark] .colab-df-convert {\n",
              "      background-color: #3B4455;\n",
              "      fill: #D2E3FC;\n",
              "    }\n",
              "\n",
              "    [theme=dark] .colab-df-convert:hover {\n",
              "      background-color: #434B5C;\n",
              "      box-shadow: 0px 1px 3px 1px rgba(0, 0, 0, 0.15);\n",
              "      filter: drop-shadow(0px 1px 2px rgba(0, 0, 0, 0.3));\n",
              "      fill: #FFFFFF;\n",
              "    }\n",
              "  </style>\n",
              "\n",
              "    <script>\n",
              "      const buttonEl =\n",
              "        document.querySelector('#df-4a7b962a-3bec-4964-ae96-f8764e8a01d6 button.colab-df-convert');\n",
              "      buttonEl.style.display =\n",
              "        google.colab.kernel.accessAllowed ? 'block' : 'none';\n",
              "\n",
              "      async function convertToInteractive(key) {\n",
              "        const element = document.querySelector('#df-4a7b962a-3bec-4964-ae96-f8764e8a01d6');\n",
              "        const dataTable =\n",
              "          await google.colab.kernel.invokeFunction('convertToInteractive',\n",
              "                                                    [key], {});\n",
              "        if (!dataTable) return;\n",
              "\n",
              "        const docLinkHtml = 'Like what you see? Visit the ' +\n",
              "          '<a target=\"_blank\" href=https://colab.research.google.com/notebooks/data_table.ipynb>data table notebook</a>'\n",
              "          + ' to learn more about interactive tables.';\n",
              "        element.innerHTML = '';\n",
              "        dataTable['output_type'] = 'display_data';\n",
              "        await google.colab.output.renderOutput(dataTable, element);\n",
              "        const docLink = document.createElement('div');\n",
              "        docLink.innerHTML = docLinkHtml;\n",
              "        element.appendChild(docLink);\n",
              "      }\n",
              "    </script>\n",
              "  </div>\n",
              "\n",
              "\n",
              "<div id=\"df-7f129900-f961-4e50-83d9-21bc1f982b1a\">\n",
              "  <button class=\"colab-df-quickchart\" onclick=\"quickchart('df-7f129900-f961-4e50-83d9-21bc1f982b1a')\"\n",
              "            title=\"Suggest charts\"\n",
              "            style=\"display:none;\">\n",
              "\n",
              "<svg xmlns=\"http://www.w3.org/2000/svg\" height=\"24px\"viewBox=\"0 0 24 24\"\n",
              "     width=\"24px\">\n",
              "    <g>\n",
              "        <path d=\"M19 3H5c-1.1 0-2 .9-2 2v14c0 1.1.9 2 2 2h14c1.1 0 2-.9 2-2V5c0-1.1-.9-2-2-2zM9 17H7v-7h2v7zm4 0h-2V7h2v10zm4 0h-2v-4h2v4z\"/>\n",
              "    </g>\n",
              "</svg>\n",
              "  </button>\n",
              "\n",
              "<style>\n",
              "  .colab-df-quickchart {\n",
              "      --bg-color: #E8F0FE;\n",
              "      --fill-color: #1967D2;\n",
              "      --hover-bg-color: #E2EBFA;\n",
              "      --hover-fill-color: #174EA6;\n",
              "      --disabled-fill-color: #AAA;\n",
              "      --disabled-bg-color: #DDD;\n",
              "  }\n",
              "\n",
              "  [theme=dark] .colab-df-quickchart {\n",
              "      --bg-color: #3B4455;\n",
              "      --fill-color: #D2E3FC;\n",
              "      --hover-bg-color: #434B5C;\n",
              "      --hover-fill-color: #FFFFFF;\n",
              "      --disabled-bg-color: #3B4455;\n",
              "      --disabled-fill-color: #666;\n",
              "  }\n",
              "\n",
              "  .colab-df-quickchart {\n",
              "    background-color: var(--bg-color);\n",
              "    border: none;\n",
              "    border-radius: 50%;\n",
              "    cursor: pointer;\n",
              "    display: none;\n",
              "    fill: var(--fill-color);\n",
              "    height: 32px;\n",
              "    padding: 0;\n",
              "    width: 32px;\n",
              "  }\n",
              "\n",
              "  .colab-df-quickchart:hover {\n",
              "    background-color: var(--hover-bg-color);\n",
              "    box-shadow: 0 1px 2px rgba(60, 64, 67, 0.3), 0 1px 3px 1px rgba(60, 64, 67, 0.15);\n",
              "    fill: var(--button-hover-fill-color);\n",
              "  }\n",
              "\n",
              "  .colab-df-quickchart-complete:disabled,\n",
              "  .colab-df-quickchart-complete:disabled:hover {\n",
              "    background-color: var(--disabled-bg-color);\n",
              "    fill: var(--disabled-fill-color);\n",
              "    box-shadow: none;\n",
              "  }\n",
              "\n",
              "  .colab-df-spinner {\n",
              "    border: 2px solid var(--fill-color);\n",
              "    border-color: transparent;\n",
              "    border-bottom-color: var(--fill-color);\n",
              "    animation:\n",
              "      spin 1s steps(1) infinite;\n",
              "  }\n",
              "\n",
              "  @keyframes spin {\n",
              "    0% {\n",
              "      border-color: transparent;\n",
              "      border-bottom-color: var(--fill-color);\n",
              "      border-left-color: var(--fill-color);\n",
              "    }\n",
              "    20% {\n",
              "      border-color: transparent;\n",
              "      border-left-color: var(--fill-color);\n",
              "      border-top-color: var(--fill-color);\n",
              "    }\n",
              "    30% {\n",
              "      border-color: transparent;\n",
              "      border-left-color: var(--fill-color);\n",
              "      border-top-color: var(--fill-color);\n",
              "      border-right-color: var(--fill-color);\n",
              "    }\n",
              "    40% {\n",
              "      border-color: transparent;\n",
              "      border-right-color: var(--fill-color);\n",
              "      border-top-color: var(--fill-color);\n",
              "    }\n",
              "    60% {\n",
              "      border-color: transparent;\n",
              "      border-right-color: var(--fill-color);\n",
              "    }\n",
              "    80% {\n",
              "      border-color: transparent;\n",
              "      border-right-color: var(--fill-color);\n",
              "      border-bottom-color: var(--fill-color);\n",
              "    }\n",
              "    90% {\n",
              "      border-color: transparent;\n",
              "      border-bottom-color: var(--fill-color);\n",
              "    }\n",
              "  }\n",
              "</style>\n",
              "\n",
              "  <script>\n",
              "    async function quickchart(key) {\n",
              "      const quickchartButtonEl =\n",
              "        document.querySelector('#' + key + ' button');\n",
              "      quickchartButtonEl.disabled = true;  // To prevent multiple clicks.\n",
              "      quickchartButtonEl.classList.add('colab-df-spinner');\n",
              "      try {\n",
              "        const charts = await google.colab.kernel.invokeFunction(\n",
              "            'suggestCharts', [key], {});\n",
              "      } catch (error) {\n",
              "        console.error('Error during call to suggestCharts:', error);\n",
              "      }\n",
              "      quickchartButtonEl.classList.remove('colab-df-spinner');\n",
              "      quickchartButtonEl.classList.add('colab-df-quickchart-complete');\n",
              "    }\n",
              "    (() => {\n",
              "      let quickchartButtonEl =\n",
              "        document.querySelector('#df-7f129900-f961-4e50-83d9-21bc1f982b1a button');\n",
              "      quickchartButtonEl.style.display =\n",
              "        google.colab.kernel.accessAllowed ? 'block' : 'none';\n",
              "    })();\n",
              "  </script>\n",
              "</div>\n",
              "    </div>\n",
              "  </div>\n"
            ],
            "application/vnd.google.colaboratory.intrinsic+json": {
              "type": "dataframe",
              "variable_name": "df_train"
            }
          },
          "metadata": {},
          "execution_count": 6
        }
      ]
    },
    {
      "cell_type": "code",
      "source": [
        "# lets see the distribution of teh features\n",
        "df_train.hist(bins=20, figsize=(15, 10))\n",
        "plt.suptitle(\"Distribution of All Columns\", y=0.95)\n",
        "plt.show()\n"
      ],
      "metadata": {
        "colab": {
          "base_uri": "https://localhost:8080/",
          "height": 900
        },
        "id": "_vw23S0RnVlw",
        "outputId": "5beef920-9bd1-499a-be76-d70f267fa08c"
      },
      "id": "_vw23S0RnVlw",
      "execution_count": 7,
      "outputs": [
        {
          "output_type": "display_data",
          "data": {
            "text/plain": [
              "<Figure size 1500x1000 with 12 Axes>"
            ],
            "image/png": "[encoded data removed]"
          },
          "metadata": {}
        }
      ]
    },
    {
      "cell_type": "markdown",
      "source": [
        "## detecting outliers"
      ],
      "metadata": {
        "id": "RpdEWVA484kN"
      },
      "id": "RpdEWVA484kN"
    },
    {
      "cell_type": "code",
      "source": [
        "def detect_outliers_zscore(df, columns, threshold=3):\n",
        "    \"\"\"\n",
        "    Detect and count outliers in specified columns of a DataFrame using Z-score.\n",
        "    \"\"\"\n",
        "    outliers_count = {}\n",
        "\n",
        "    for column in columns:\n",
        "        # Calculate Z-scores for each data point in the column\n",
        "        z_scores = np.abs((df[column] - df[column].mean()) / df[column].std())\n",
        "\n",
        "        # Identify outliers based on the threshold\n",
        "        outliers_mask = z_scores > threshold\n",
        "\n",
        "        # Count the number of outliers\n",
        "        num_outliers = outliers_mask.sum()\n",
        "        outliers_count[column] = num_outliers\n",
        "\n",
        "    return outliers_count\n",
        "\n",
        "# Specify the columns for which you want to detect outliers\n",
        "columns_to_detect_outliers =  ['CreditScore', 'Balance', 'EstimatedSalary']\n",
        "\n",
        "# Call the function to detect and count outliers in the specified columns\n",
        "outliers_count = detect_outliers_zscore(df_train, columns_to_detect_outliers)\n",
        "\n",
        "# Print the count of outliers for each column\n",
        "for column, count in outliers_count.items():\n",
        "    print(f\"Number of outliers in {column}: {count}\")"
      ],
      "metadata": {
        "colab": {
          "base_uri": "https://localhost:8080/"
        },
        "id": "8rFyCZInsUN8",
        "outputId": "c043f358-e143-4118-b3f6-21a85f55eae2"
      },
      "id": "8rFyCZInsUN8",
      "execution_count": 8,
      "outputs": [
        {
          "output_type": "stream",
          "name": "stdout",
          "text": [
            "Number of outliers in CreditScore: 146\n",
            "Number of outliers in Balance: 3\n",
            "Number of outliers in EstimatedSalary: 0\n"
          ]
        }
      ]
    },
    {
      "cell_type": "code",
      "source": [
        "# defining the column to be preceed\n",
        "columns_to_replace_outliers = ['CreditScore']\n",
        "\n",
        "# Function to replace outliers with median\n",
        "def replace_outliers_with_median(df, columns):\n",
        "    df_cleaned = df.copy()\n",
        "\n",
        "    for column in columns:\n",
        "        # Calculate Z-scores for each data point in the column\n",
        "        z_scores = (df_cleaned[column] - df_cleaned[column].median()) / (df_cleaned[column] - df_cleaned[column].median()).abs().mean()\n",
        "\n",
        "        # Identify outliers\n",
        "        outliers_mask = z_scores > 3\n",
        "\n",
        "        # Replace outliers with the median\n",
        "        df_cleaned.loc[outliers_mask, column] = df_cleaned[column].median()\n",
        "\n",
        "    return df_cleaned\n",
        "\n",
        "# Call the function to replace outliers with the median\n",
        "df_median_replaced = replace_outliers_with_median(df_train, columns_to_replace_outliers)\n"
      ],
      "metadata": {
        "id": "ghMmWiBDtod0"
      },
      "id": "ghMmWiBDtod0",
      "execution_count": 9,
      "outputs": []
    },
    {
      "cell_type": "code",
      "source": [
        "fig, axs = plt.subplots(nrows=1, ncols=2, figsize=(15, 5))\n",
        "\n",
        "df_median_replaced['CreditScore'].hist(ax=axs[0])\n",
        "axs[0].set_title(\"CreditScore - no outliers\")\n",
        "\n",
        "df_train['CreditScore'].hist(bins=20, figsize=(10, 6), ax=axs[1])\n",
        "axs[1].set_title(\"CreditScore - before processing outliers\")\n",
        "\n",
        "plt.show()"
      ],
      "metadata": {
        "colab": {
          "base_uri": "https://localhost:8080/",
          "height": 545
        },
        "id": "VijDrrBxsG_E",
        "outputId": "f9e2725a-77d3-49dc-9a50-03f5e4fd8c60"
      },
      "id": "VijDrrBxsG_E",
      "execution_count": 31,
      "outputs": [
        {
          "output_type": "display_data",
          "data": {
            "text/plain": [
              "<Figure size 1000x600 with 2 Axes>"
            ],
            "image/png": "[encoded data removed]"
          },
          "metadata": {}
        }
      ]
    },
    {
      "cell_type": "markdown",
      "source": [
        "## define preprocess steps:"
      ],
      "metadata": {
        "id": "nmqjdVjg9Jjw"
      },
      "id": "nmqjdVjg9Jjw"
    },
    {
      "cell_type": "markdown",
      "source": [
        "- drop duplicates\n",
        "- set categ for genders, countries\n",
        "- create new features as Bal_Tenure, Bal_Age, Estimsal_Age, Age_Bins\n",
        "- drop unnecessary columns as 'id', 'CustomerId', 'Surname'\n",
        "- scaling data, becouse the range of the data is very different"
      ],
      "metadata": {
        "id": "9JtAhceD6WMl"
      },
      "id": "9JtAhceD6WMl"
    },
    {
      "cell_type": "code",
      "execution_count": 11,
      "id": "49794dbd-0b68-44ce-9992-603cec334540",
      "metadata": {
        "id": "49794dbd-0b68-44ce-9992-603cec334540"
      },
      "outputs": [],
      "source": [
        "def preprocess_data(df):\n",
        "    df = df.drop_duplicates()\n",
        "    df['Gender'] = df['Gender'].map({'Male': 0, 'Female': 1}).astype('int8')\n",
        "    df['Geography'] = df['Geography'].map({'France': 0, 'Germany': 1, 'Spain': 2}).astype('int8')\n",
        "    df['Bal_Tenure'] = df['Balance'] * df['Tenure']\n",
        "    df['Bal_Age'] = df['Balance'] * df['Age']\n",
        "    df['Estimsal_Age'] = df['EstimatedSalary'] * df['Age']\n",
        "    df[\"Age_Bins\"] = pd.qcut(df[\"Age\"], 16, np.arange(0, 16, 1, dtype=int))\n",
        "    # df['Ten_NumOfProd'] = df['NumOfProducts']*df['Tenure']\n",
        "    df.drop(['id', 'CustomerId', 'Surname'], inplace=True, axis=1)\n",
        "    # df.fillna(-1, inplace=True)\n",
        "    scaler = RobustScaler()\n",
        "    df_scaled = scaler.fit_transform(df)\n",
        "    df_scaled = pd.DataFrame(df_scaled, columns=df.columns)  # Convert back to DataFrame\n",
        "    return df_scaled"
      ]
    },
    {
      "cell_type": "code",
      "execution_count": 12,
      "id": "675ba441-b6bd-4457-8ce3-4ad335abec07",
      "metadata": {
        "id": "675ba441-b6bd-4457-8ce3-4ad335abec07",
        "colab": {
          "base_uri": "https://localhost:8080/"
        },
        "outputId": "9a2c316d-8e2b-477b-9460-1f91bbe8fb3b"
      },
      "outputs": [
        {
          "output_type": "stream",
          "name": "stdout",
          "text": [
            "<class 'pandas.core.frame.DataFrame'>\n",
            "RangeIndex: 165034 entries, 0 to 165033\n",
            "Data columns (total 15 columns):\n",
            " #   Column           Non-Null Count   Dtype  \n",
            "---  ------           --------------   -----  \n",
            " 0   CreditScore      165034 non-null  float64\n",
            " 1   Geography        165034 non-null  float64\n",
            " 2   Gender           165034 non-null  float64\n",
            " 3   Age              165034 non-null  float64\n",
            " 4   Tenure           165034 non-null  float64\n",
            " 5   Balance          165034 non-null  float64\n",
            " 6   NumOfProducts    165034 non-null  float64\n",
            " 7   HasCrCard        165034 non-null  float64\n",
            " 8   IsActiveMember   165034 non-null  float64\n",
            " 9   EstimatedSalary  165034 non-null  float64\n",
            " 10  Exited           165034 non-null  float64\n",
            " 11  Bal_Tenure       165034 non-null  float64\n",
            " 12  Bal_Age          165034 non-null  float64\n",
            " 13  Estimsal_Age     165034 non-null  float64\n",
            " 14  Age_Bins         165034 non-null  float64\n",
            "dtypes: float64(15)\n",
            "memory usage: 18.9 MB\n"
          ]
        }
      ],
      "source": [
        "df_train_pp = preprocess_data(df_median_replaced)\n",
        "df_train_pp.info()"
      ]
    },
    {
      "cell_type": "markdown",
      "source": [
        "Trying to look out if data distribution is balanced one"
      ],
      "metadata": {
        "id": "jB657W9e7WKF"
      },
      "id": "jB657W9e7WKF"
    },
    {
      "cell_type": "code",
      "execution_count": 33,
      "id": "1422f24f-2d66-4f47-a356-6fb6378fd6e9",
      "metadata": {
        "colab": {
          "base_uri": "https://localhost:8080/",
          "height": 234
        },
        "id": "1422f24f-2d66-4f47-a356-6fb6378fd6e9",
        "outputId": "8c3647e8-3b7c-495d-8570-96b93aea40d2"
      },
      "outputs": [
        {
          "output_type": "display_data",
          "data": {
            "text/plain": [
              "<Figure size 300x200 with 1 Axes>"
            ],
            "image/png": "[encoded data removed]"
          },
          "metadata": {}
        }
      ],
      "source": [
        "fig, ax = plt.subplots(figsize=(3, 2))\n",
        "sns.histplot(df_train_pp['Exited'], kde=True)\n",
        "plt.show()"
      ]
    },
    {
      "cell_type": "markdown",
      "source": [
        "## balancing data, oversample method"
      ],
      "metadata": {
        "id": "cd6XyVz69SQ1"
      },
      "id": "cd6XyVz69SQ1"
    },
    {
      "cell_type": "markdown",
      "source": [
        "The data is not balanced. Class '1' (exited clients) is much smaller than '0' (not exited clients). This will affect efficiency of the model and forecasts."
      ],
      "metadata": {
        "id": "4oM5Wt8f7lUk"
      },
      "id": "4oM5Wt8f7lUk"
    },
    {
      "cell_type": "code",
      "execution_count": 14,
      "id": "e660c476-7fe5-485e-bb99-034fe3eae7e7",
      "metadata": {
        "colab": {
          "base_uri": "https://localhost:8080/"
        },
        "id": "e660c476-7fe5-485e-bb99-034fe3eae7e7",
        "outputId": "7303357d-4a36-4940-dd9f-4b58d8a22dd1"
      },
      "outputs": [
        {
          "output_type": "execute_result",
          "data": {
            "text/plain": [
              "((260226, 14), (260226,), (165034,), (165034, 14))"
            ]
          },
          "metadata": {},
          "execution_count": 14
        }
      ],
      "source": [
        "from imblearn.over_sampling import RandomOverSampler\n",
        "\n",
        "y = df_train_pp['Exited']\n",
        "X = df_train_pp.drop('Exited', axis=1)\n",
        "\n",
        "ros = RandomOverSampler(sampling_strategy=1)\n",
        "X_res_over, y_res_over = ros.fit_resample(X, y)\n",
        "X_res_over.shape, y_res_over.shape, y.shape, X.shape"
      ]
    },
    {
      "cell_type": "markdown",
      "source": [
        "now the classes are wqually distributed"
      ],
      "metadata": {
        "id": "DMRHtZ8D9lPL"
      },
      "id": "DMRHtZ8D9lPL"
    },
    {
      "cell_type": "code",
      "execution_count": 15,
      "id": "594b2784-1abb-42fb-a5d1-7b4407699e9d",
      "metadata": {
        "colab": {
          "base_uri": "https://localhost:8080/",
          "height": 234
        },
        "id": "594b2784-1abb-42fb-a5d1-7b4407699e9d",
        "outputId": "e7a92bb7-aafb-48ca-bfa9-41baabc1b33c"
      },
      "outputs": [
        {
          "output_type": "display_data",
          "data": {
            "text/plain": [
              "<Figure size 300x200 with 1 Axes>"
            ],
            "image/png": "[encoded data removed]"
          },
          "metadata": {}
        }
      ],
      "source": [
        "fig, ax = plt.subplots(figsize=(3, 2))\n",
        "sns.histplot(y_res_over, kde=True)\n",
        "plt.show()"
      ]
    },
    {
      "cell_type": "markdown",
      "id": "9f9dedf1-eaf7-48de-a63b-a840849708d1",
      "metadata": {
        "id": "9f9dedf1-eaf7-48de-a63b-a840849708d1"
      },
      "source": [
        "# Train step"
      ]
    },
    {
      "cell_type": "code",
      "execution_count": 16,
      "id": "51cde8db-dd20-4966-9b94-41565cc18561",
      "metadata": {
        "colab": {
          "base_uri": "https://localhost:8080/"
        },
        "id": "51cde8db-dd20-4966-9b94-41565cc18561",
        "outputId": "c998cd3c-4998-4c81-ceac-baa1b7587618"
      },
      "outputs": [
        {
          "output_type": "execute_result",
          "data": {
            "text/plain": [
              "((208180, 14), (52046, 14), (208180,), (52046,))"
            ]
          },
          "metadata": {},
          "execution_count": 16
        }
      ],
      "source": [
        "# useoversampled data\n",
        "y = y_res_over\n",
        "X = X_res_over\n",
        "\n",
        "X_train, X_test, y_train, y_test = train_test_split(X, y, test_size=0.2, random_state=42)\n",
        "X_train.shape, X_test.shape, y_train.shape, y_test.shape"
      ]
    },
    {
      "cell_type": "markdown",
      "id": "9f74dfed-6b0d-4993-b13d-3da64924c0e9",
      "metadata": {
        "id": "9f74dfed-6b0d-4993-b13d-3da64924c0e9"
      },
      "source": [
        "##  Histogram Gradient Boosting Classifier"
      ]
    },
    {
      "cell_type": "code",
      "execution_count": 17,
      "id": "31d53c97-cf22-44d6-8f3a-d1a0bb0955b2",
      "metadata": {
        "colab": {
          "base_uri": "https://localhost:8080/"
        },
        "id": "31d53c97-cf22-44d6-8f3a-d1a0bb0955b2",
        "outputId": "9899b8a6-a545-491e-c2ca-39bd9abbd80c"
      },
      "outputs": [
        {
          "output_type": "stream",
          "name": "stdout",
          "text": [
            "CV roc_auc score of Hist GB (mean value) is 0.9117\n",
            "2024-04-12 07:59:49\n"
          ]
        }
      ],
      "source": [
        "# initiate  HistGradientBoostingClassifier model\n",
        "\n",
        "Hist_GB = HistGradientBoostingClassifier(max_iter=700, learning_rate=0.1, min_samples_leaf=20, max_depth=6, random_state=42)\n",
        "\n",
        "# Create KFold for cross-validation with 5 folds\n",
        "kf = KFold(n_splits=5, shuffle=True, random_state=42)\n",
        "\n",
        "# Perform cross-validation and compute ROC AUC scores\n",
        "Hist_GB_cross_val = cross_val_score(Hist_GB, X_train, y_train, cv=kf, scoring='roc_auc', n_jobs=-1)\n",
        "\n",
        "# Print the average cross-validated ROC AUC score\n",
        "print(f\"CV roc_auc score of Hist GB (mean value) is {round(Hist_GB_cross_val.mean(), 4)}\")\n",
        "\n",
        "print(datetime.now().strftime('%Y-%m-%d %H:%M:%S'))"
      ]
    },
    {
      "cell_type": "markdown",
      "source": [
        "CV score of Hist GB is 0.9117 (mean value)"
      ],
      "metadata": {
        "id": "D4T7uFjBVpfg"
      },
      "id": "D4T7uFjBVpfg"
    },
    {
      "cell_type": "markdown",
      "source": [
        "## Train Hist_GB model"
      ],
      "metadata": {
        "id": "YJXHd3TAA73d"
      },
      "id": "YJXHd3TAA73d"
    },
    {
      "cell_type": "code",
      "source": [
        "Hist_GB.fit(X_train, y_train)"
      ],
      "metadata": {
        "colab": {
          "base_uri": "https://localhost:8080/",
          "height": 74
        },
        "id": "YR742DTcAurl",
        "outputId": "f318d2a7-5c0b-45ee-e311-17a55580b423"
      },
      "id": "YR742DTcAurl",
      "execution_count": 18,
      "outputs": [
        {
          "output_type": "execute_result",
          "data": {
            "text/plain": [
              "HistGradientBoostingClassifier(max_depth=6, max_iter=700, random_state=42)"
            ],
            "text/html": [
              "<style>#sk-container-id-1 {color: black;background-color: white;}#sk-container-id-1 pre{padding: 0;}#sk-container-id-1 div.sk-toggleable {background-color: white;}#sk-container-id-1 label.sk-toggleable__label {cursor: pointer;display: block;width: 100%;margin-bottom: 0;padding: 0.3em;box-sizing: border-box;text-align: center;}#sk-container-id-1 label.sk-toggleable__label-arrow:before {content: \"▸\";float: left;margin-right: 0.25em;color: #696969;}#sk-container-id-1 label.sk-toggleable__label-arrow:hover:before {color: black;}#sk-container-id-1 div.sk-estimator:hover label.sk-toggleable__label-arrow:before {color: black;}#sk-container-id-1 div.sk-toggleable__content {max-height: 0;max-width: 0;overflow: hidden;text-align: left;background-color: #f0f8ff;}#sk-container-id-1 div.sk-toggleable__content pre {margin: 0.2em;color: black;border-radius: 0.25em;background-color: #f0f8ff;}#sk-container-id-1 input.sk-toggleable__control:checked~div.sk-toggleable__content {max-height: 200px;max-width: 100%;overflow: auto;}#sk-container-id-1 input.sk-toggleable__control:checked~label.sk-toggleable__label-arrow:before {content: \"▾\";}#sk-container-id-1 div.sk-estimator input.sk-toggleable__control:checked~label.sk-toggleable__label {background-color: #d4ebff;}#sk-container-id-1 div.sk-label input.sk-toggleable__control:checked~label.sk-toggleable__label {background-color: #d4ebff;}#sk-container-id-1 input.sk-hidden--visually {border: 0;clip: rect(1px 1px 1px 1px);clip: rect(1px, 1px, 1px, 1px);height: 1px;margin: -1px;overflow: hidden;padding: 0;position: absolute;width: 1px;}#sk-container-id-1 div.sk-estimator {font-family: monospace;background-color: #f0f8ff;border: 1px dotted black;border-radius: 0.25em;box-sizing: border-box;margin-bottom: 0.5em;}#sk-container-id-1 div.sk-estimator:hover {background-color: #d4ebff;}#sk-container-id-1 div.sk-parallel-item::after {content: \"\";width: 100%;border-bottom: 1px solid gray;flex-grow: 1;}#sk-container-id-1 div.sk-label:hover label.sk-toggleable__label {background-color: #d4ebff;}#sk-container-id-1 div.sk-serial::before {content: \"\";position: absolute;border-left: 1px solid gray;box-sizing: border-box;top: 0;bottom: 0;left: 50%;z-index: 0;}#sk-container-id-1 div.sk-serial {display: flex;flex-direction: column;align-items: center;background-color: white;padding-right: 0.2em;padding-left: 0.2em;position: relative;}#sk-container-id-1 div.sk-item {position: relative;z-index: 1;}#sk-container-id-1 div.sk-parallel {display: flex;align-items: stretch;justify-content: center;background-color: white;position: relative;}#sk-container-id-1 div.sk-item::before, #sk-container-id-1 div.sk-parallel-item::before {content: \"\";position: absolute;border-left: 1px solid gray;box-sizing: border-box;top: 0;bottom: 0;left: 50%;z-index: -1;}#sk-container-id-1 div.sk-parallel-item {display: flex;flex-direction: column;z-index: 1;position: relative;background-color: white;}#sk-container-id-1 div.sk-parallel-item:first-child::after {align-self: flex-end;width: 50%;}#sk-container-id-1 div.sk-parallel-item:last-child::after {align-self: flex-start;width: 50%;}#sk-container-id-1 div.sk-parallel-item:only-child::after {width: 0;}#sk-container-id-1 div.sk-dashed-wrapped {border: 1px dashed gray;margin: 0 0.4em 0.5em 0.4em;box-sizing: border-box;padding-bottom: 0.4em;background-color: white;}#sk-container-id-1 div.sk-label label {font-family: monospace;font-weight: bold;display: inline-block;line-height: 1.2em;}#sk-container-id-1 div.sk-label-container {text-align: center;}#sk-container-id-1 div.sk-container {/* jupyter's `normalize.less` sets `[hidden] { display: none; }` but bootstrap.min.css set `[hidden] { display: none !important; }` so we also need the `!important` here to be able to override the default hidden behavior on the sphinx rendered scikit-learn.org. See: https://github.com/scikit-learn/scikit-learn/issues/21755 */display: inline-block !important;position: relative;}#sk-container-id-1 div.sk-text-repr-fallback {display: none;}</style><div id=\"sk-container-id-1\" class=\"sk-top-container\"><div class=\"sk-text-repr-fallback\"><pre>HistGradientBoostingClassifier(max_depth=6, max_iter=700, random_state=42)</pre><b>In a Jupyter environment, please rerun this cell to show the HTML representation or trust the notebook. <br />On GitHub, the HTML representation is unable to render, please try loading this page with nbviewer.org.</b></div><div class=\"sk-container\" hidden><div class=\"sk-item\"><div class=\"sk-estimator sk-toggleable\"><input class=\"sk-toggleable__control sk-hidden--visually\" id=\"sk-estimator-id-1\" type=\"checkbox\" checked><label for=\"sk-estimator-id-1\" class=\"sk-toggleable__label sk-toggleable__label-arrow\">HistGradientBoostingClassifier</label><div class=\"sk-toggleable__content\"><pre>HistGradientBoostingClassifier(max_depth=6, max_iter=700, random_state=42)</pre></div></div></div></div></div>"
            ]
          },
          "metadata": {},
          "execution_count": 18
        }
      ]
    },
    {
      "cell_type": "markdown",
      "source": [
        "## Evaluate the model"
      ],
      "metadata": {
        "id": "ysjwySvbCfSL"
      },
      "id": "ysjwySvbCfSL"
    },
    {
      "cell_type": "code",
      "source": [
        "# lables on the test set\n",
        "y_pred = Hist_GB.predict(X_test)\n",
        "\n",
        "# Classification Report (Precision, Recall, F1-Score)\n",
        "print(\"\\nClassification Report:\")\n",
        "print(classification_report(y_test, y_pred))\n",
        "\n",
        "# Confusion Matrix\n",
        "print(\"Confusion Matrix:\")\n",
        "print(confusion_matrix(y_test, y_pred))\n",
        "\n",
        "print(datetime.now().strftime('%Y-%m-%d %H:%M:%S'))"
      ],
      "metadata": {
        "colab": {
          "base_uri": "https://localhost:8080/"
        },
        "id": "jDOghForCHlo",
        "outputId": "6e4371ae-8322-4505-91e7-d684716b1a12"
      },
      "id": "jDOghForCHlo",
      "execution_count": 19,
      "outputs": [
        {
          "output_type": "stream",
          "name": "stdout",
          "text": [
            "\n",
            "Classification Report:\n",
            "              precision    recall  f1-score   support\n",
            "\n",
            "         0.0       0.83      0.83      0.83     26008\n",
            "         1.0       0.83      0.83      0.83     26038\n",
            "\n",
            "    accuracy                           0.83     52046\n",
            "   macro avg       0.83      0.83      0.83     52046\n",
            "weighted avg       0.83      0.83      0.83     52046\n",
            "\n",
            "Confusion Matrix:\n",
            "[[21678  4330]\n",
            " [ 4341 21697]]\n"
          ]
        }
      ]
    },
    {
      "cell_type": "markdown",
      "source": [
        "    True Negatives (TN): 21,678 were correctly predicted as class 0\n",
        "    False Positives (FP): 4,330 were incorrectly predicted as class 1 when they were actually class 0\n",
        "    False Negatives (FN): 4,341 were incorrectly predicted as class 0 when they were actually class 1\n",
        "    True Positives (TP): 21,697 were correctly predicted as class 1\n",
        "\n",
        "    The model shows a good balance between precision and recall for both classes\n",
        "\n",
        "    Depending on the specific business task and the costs of false positives vs. false negatives, we might want to adjust\n",
        "    the decision threshold or explore model tuning to optimize for one metric over another."
      ],
      "metadata": {
        "id": "9iRZGFBqV0im"
      },
      "id": "9iRZGFBqV0im"
    },
    {
      "cell_type": "markdown",
      "id": "b4f6ab89-9e24-469e-b394-65e828dc0b89",
      "metadata": {
        "id": "b4f6ab89-9e24-469e-b394-65e828dc0b89"
      },
      "source": [
        "# Testing step"
      ]
    },
    {
      "cell_type": "code",
      "source": [
        "# load test data\n",
        "df_test = pd.read_csv(test_file_path)"
      ],
      "metadata": {
        "id": "-RcZfFXX-Js1"
      },
      "id": "-RcZfFXX-Js1",
      "execution_count": 20,
      "outputs": []
    },
    {
      "cell_type": "code",
      "source": [
        "# transform test data the same way as we transform train data\n",
        "df_test_pp = preprocess_data(df_test)"
      ],
      "metadata": {
        "id": "f-e2LiF5aUQG"
      },
      "id": "f-e2LiF5aUQG",
      "execution_count": 21,
      "outputs": []
    },
    {
      "cell_type": "code",
      "source": [
        "X_test = df_test_pp\n",
        "y_pred_proba_test = Hist_GB.predict_proba(X_test)[:, 1]"
      ],
      "metadata": {
        "id": "ilF1tNg0ikLA"
      },
      "id": "ilF1tNg0ikLA",
      "execution_count": 22,
      "outputs": []
    },
    {
      "cell_type": "code",
      "source": [
        "# predict probabilities for the test set\n",
        "X_test = df_test_pp\n",
        "y_pred_proba_test = Hist_GB.predict_proba(X_test)[:, 1]"
      ],
      "metadata": {
        "id": "L5nnWxPSckeA"
      },
      "id": "L5nnWxPSckeA",
      "execution_count": 23,
      "outputs": []
    },
    {
      "cell_type": "markdown",
      "source": [
        "# submission"
      ],
      "metadata": {
        "id": "ro8nTGBuCPe0"
      },
      "id": "ro8nTGBuCPe0"
    },
    {
      "cell_type": "code",
      "execution_count": 34,
      "id": "cd21386d-306d-4d21-8e3a-eef722cddd4c",
      "metadata": {
        "colab": {
          "base_uri": "https://localhost:8080/"
        },
        "id": "cd21386d-306d-4d21-8e3a-eef722cddd4c",
        "outputId": "84e7d36e-db0a-4b51-c364-cc17d93bf008"
      },
      "outputs": [
        {
          "output_type": "stream",
          "name": "stdout",
          "text": [
            "       id  Exited\n",
            "0  165034     0.5\n",
            "1  165035     0.5\n",
            "2  165036     0.5\n",
            "3  165037     0.5\n",
            "4  165038     0.5\n",
            "(110023, 2)\n"
          ]
        }
      ],
      "source": [
        "# load sample data\n",
        "sample_file_path = '/content/drive/My Drive/Colab Notebooks/Churn_bank_exited/sample_submission.csv'\n",
        "sample = pd.read_csv(sample_file_path)\n",
        "\n",
        "# Вивести перші рядки та розмір\n",
        "print(sample.head())\n",
        "print(sample.shape)"
      ]
    },
    {
      "cell_type": "code",
      "execution_count": 35,
      "id": "d7cc1b61-12df-4c08-94ef-36b250f42b29",
      "metadata": {
        "id": "d7cc1b61-12df-4c08-94ef-36b250f42b29",
        "colab": {
          "base_uri": "https://localhost:8080/"
        },
        "outputId": "5d625132-8c57-4399-9a06-cd55333f5282"
      },
      "outputs": [
        {
          "output_type": "stream",
          "name": "stdout",
          "text": [
            "2024-04-12 09:30:00\n"
          ]
        },
        {
          "output_type": "execute_result",
          "data": {
            "text/plain": [
              "0         0.090544\n",
              "1         0.940633\n",
              "2         0.065238\n",
              "3         0.510215\n",
              "4         0.642493\n",
              "            ...   \n",
              "110018    0.199590\n",
              "110019    0.414230\n",
              "110020    0.094493\n",
              "110021    0.407585\n",
              "110022    0.429853\n",
              "Name: Exited, Length: 110023, dtype: float64"
            ]
          },
          "metadata": {},
          "execution_count": 35
        }
      ],
      "source": [
        "# Assuming y_pred_proba_test is a pandas Series or NumPy array with your predictions\n",
        "sample['Exited'] = y_pred_proba_test\n",
        "\n",
        "# Зберегти DataFrame у CSV файл\n",
        "sample.to_csv('/content/drive/MyDrive/sample_subm_churn_bank_HistGB.csv', index=False)\n",
        "\n",
        "print(datetime.now().strftime('%Y-%m-%d %H:%M:%S'))\n",
        "\n",
        "sample['Exited']"
      ]
    },
    {
      "cell_type": "markdown",
      "source": [
        "![image.png](data:image/png;base64,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)"
      ],
      "metadata": {
        "id": "jHRCvN9ukUJ8"
      },
      "id": "jHRCvN9ukUJ8"
    },
    {
      "cell_type": "markdown",
      "source": [
        "**Data set taken from Kaggle**\n",
        "\n",
        "https://www.kaggle.com/competitions/playground-series-s4e1/overview\n",
        "\n",
        "my best result **AUC 0.88604**\n",
        "\n",
        "\n",
        "1 place on board with **AUC 0.905**"
      ],
      "metadata": {
        "id": "w-IQU3XzkXBh"
      },
      "id": "w-IQU3XzkXBh"
    }
  ],
  "metadata": {
    "kernelspec": {
      "display_name": "Python 3 (ipykernel)",
      "language": "python",
      "name": "python3"
    },
    "language_info": {
      "codemirror_mode": {
        "name": "ipython",
        "version": 3
      },
      "file_extension": ".py",
      "mimetype": "text/x-python",
      "name": "python",
      "nbconvert_exporter": "python",
      "pygments_lexer": "ipython3",
      "version": "3.9.13"
    },
    "colab": {
      "provenance": []
    }
  },
  "nbformat": 4,
  "nbformat_minor": 5
}
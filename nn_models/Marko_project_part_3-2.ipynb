{
 "cells": [
  {
   "cell_type": "markdown",
   "id": "97473bb8",
   "metadata": {},
   "source": [
    "### Natalia Marko, project, part 3, production\n",
    "    3. Deployment of the Model in Production\n",
    "    3.1 Create a new model, load the weights.\n",
    "    3.2 Use the new model to calculate labels and accuracy for the validation dataset.\n"
   ]
  },
  {
   "cell_type": "code",
   "execution_count": 35,
   "id": "35776373",
   "metadata": {
    "tags": []
   },
   "outputs": [
    {
     "data": {
      "text/plain": [
       "'cpu'"
      ]
     },
     "execution_count": 35,
     "metadata": {},
     "output_type": "execute_result"
    }
   ],
   "source": [
    "# Continue with regular imports\n",
    "import torch, torchvision\n",
    "import matplotlib.pyplot as plt\n",
    "import torch.nn as nn\n",
    "from torchinfo import summary\n",
    "from torchvision import datasets, transforms\n",
    "import torch\n",
    "import torchvision.models as models\n",
    "from torch.utils.data import DataLoader\n",
    "from torchmetrics import ConfusionMatrix, Precision, Recall, F1Score, Accuracy\n",
    "import matplotlib.pyplot as plt\n",
    "from torchmetrics import \n",
    "\n",
    "# Setup device agnostic code\n",
    "device = \"cuda\" if torch.cuda.is_available() else \"cpu\"\n",
    "device"
   ]
  },
  {
   "cell_type": "code",
   "execution_count": 7,
   "id": "a8467000-7785-405b-900e-84580b86b05b",
   "metadata": {
    "tags": []
   },
   "outputs": [],
   "source": [
    "old_model_weights_path = \"/Users/nataliamarko/Documents/BIG_DATA_LAB_DATA/Image_classification/model_transf_learn_convnet50/Marko_NN_model_transf_learn_convnet50.pt\""
   ]
  },
  {
   "cell_type": "code",
   "execution_count": 19,
   "id": "d5ab8dbc-ab2c-4d3d-957e-f46ae1995dda",
   "metadata": {
    "tags": []
   },
   "outputs": [
    {
     "name": "stdout",
     "output_type": "stream",
     "text": [
      "Layer: conv1.weight, Requires Grad: True\n",
      "Layer: bn1.weight, Requires Grad: True\n",
      "Layer: bn1.bias, Requires Grad: True\n",
      "Layer: layer1.0.conv1.weight, Requires Grad: True\n",
      "Layer: layer1.0.bn1.weight, Requires Grad: True\n",
      "Layer: layer1.0.bn1.bias, Requires Grad: True\n",
      "Layer: layer1.0.conv2.weight, Requires Grad: True\n",
      "Layer: layer1.0.bn2.weight, Requires Grad: True\n",
      "Layer: layer1.0.bn2.bias, Requires Grad: True\n",
      "Layer: layer1.0.conv3.weight, Requires Grad: True\n",
      "Layer: layer1.0.bn3.weight, Requires Grad: True\n",
      "Layer: layer1.0.bn3.bias, Requires Grad: True\n",
      "Layer: layer1.0.downsample.0.weight, Requires Grad: True\n",
      "Layer: layer1.0.downsample.1.weight, Requires Grad: True\n",
      "Layer: layer1.0.downsample.1.bias, Requires Grad: True\n",
      "Layer: layer1.1.conv1.weight, Requires Grad: True\n",
      "Layer: layer1.1.bn1.weight, Requires Grad: True\n",
      "Layer: layer1.1.bn1.bias, Requires Grad: True\n",
      "Layer: layer1.1.conv2.weight, Requires Grad: True\n",
      "Layer: layer1.1.bn2.weight, Requires Grad: True\n",
      "Layer: layer1.1.bn2.bias, Requires Grad: True\n",
      "Layer: layer1.1.conv3.weight, Requires Grad: True\n",
      "Layer: layer1.1.bn3.weight, Requires Grad: True\n",
      "Layer: layer1.1.bn3.bias, Requires Grad: True\n",
      "Layer: layer1.2.conv1.weight, Requires Grad: True\n",
      "Layer: layer1.2.bn1.weight, Requires Grad: True\n",
      "Layer: layer1.2.bn1.bias, Requires Grad: True\n",
      "Layer: layer1.2.conv2.weight, Requires Grad: True\n",
      "Layer: layer1.2.bn2.weight, Requires Grad: True\n",
      "Layer: layer1.2.bn2.bias, Requires Grad: True\n",
      "Layer: layer1.2.conv3.weight, Requires Grad: True\n",
      "Layer: layer1.2.bn3.weight, Requires Grad: True\n",
      "Layer: layer1.2.bn3.bias, Requires Grad: True\n",
      "Layer: layer2.0.conv1.weight, Requires Grad: True\n",
      "Layer: layer2.0.bn1.weight, Requires Grad: True\n",
      "Layer: layer2.0.bn1.bias, Requires Grad: True\n",
      "Layer: layer2.0.conv2.weight, Requires Grad: True\n",
      "Layer: layer2.0.bn2.weight, Requires Grad: True\n",
      "Layer: layer2.0.bn2.bias, Requires Grad: True\n",
      "Layer: layer2.0.conv3.weight, Requires Grad: True\n",
      "Layer: layer2.0.bn3.weight, Requires Grad: True\n",
      "Layer: layer2.0.bn3.bias, Requires Grad: True\n",
      "Layer: layer2.0.downsample.0.weight, Requires Grad: True\n",
      "Layer: layer2.0.downsample.1.weight, Requires Grad: True\n",
      "Layer: layer2.0.downsample.1.bias, Requires Grad: True\n",
      "Layer: layer2.1.conv1.weight, Requires Grad: True\n",
      "Layer: layer2.1.bn1.weight, Requires Grad: True\n",
      "Layer: layer2.1.bn1.bias, Requires Grad: True\n",
      "Layer: layer2.1.conv2.weight, Requires Grad: True\n",
      "Layer: layer2.1.bn2.weight, Requires Grad: True\n",
      "Layer: layer2.1.bn2.bias, Requires Grad: True\n",
      "Layer: layer2.1.conv3.weight, Requires Grad: True\n",
      "Layer: layer2.1.bn3.weight, Requires Grad: True\n",
      "Layer: layer2.1.bn3.bias, Requires Grad: True\n",
      "Layer: layer2.2.conv1.weight, Requires Grad: True\n",
      "Layer: layer2.2.bn1.weight, Requires Grad: True\n",
      "Layer: layer2.2.bn1.bias, Requires Grad: True\n",
      "Layer: layer2.2.conv2.weight, Requires Grad: True\n",
      "Layer: layer2.2.bn2.weight, Requires Grad: True\n",
      "Layer: layer2.2.bn2.bias, Requires Grad: True\n",
      "Layer: layer2.2.conv3.weight, Requires Grad: True\n",
      "Layer: layer2.2.bn3.weight, Requires Grad: True\n",
      "Layer: layer2.2.bn3.bias, Requires Grad: True\n",
      "Layer: layer2.3.conv1.weight, Requires Grad: True\n",
      "Layer: layer2.3.bn1.weight, Requires Grad: True\n",
      "Layer: layer2.3.bn1.bias, Requires Grad: True\n",
      "Layer: layer2.3.conv2.weight, Requires Grad: True\n",
      "Layer: layer2.3.bn2.weight, Requires Grad: True\n",
      "Layer: layer2.3.bn2.bias, Requires Grad: True\n",
      "Layer: layer2.3.conv3.weight, Requires Grad: True\n",
      "Layer: layer2.3.bn3.weight, Requires Grad: True\n",
      "Layer: layer2.3.bn3.bias, Requires Grad: True\n",
      "Layer: layer3.0.conv1.weight, Requires Grad: True\n",
      "Layer: layer3.0.bn1.weight, Requires Grad: True\n",
      "Layer: layer3.0.bn1.bias, Requires Grad: True\n",
      "Layer: layer3.0.conv2.weight, Requires Grad: True\n",
      "Layer: layer3.0.bn2.weight, Requires Grad: True\n",
      "Layer: layer3.0.bn2.bias, Requires Grad: True\n",
      "Layer: layer3.0.conv3.weight, Requires Grad: True\n",
      "Layer: layer3.0.bn3.weight, Requires Grad: True\n",
      "Layer: layer3.0.bn3.bias, Requires Grad: True\n",
      "Layer: layer3.0.downsample.0.weight, Requires Grad: True\n",
      "Layer: layer3.0.downsample.1.weight, Requires Grad: True\n",
      "Layer: layer3.0.downsample.1.bias, Requires Grad: True\n",
      "Layer: layer3.1.conv1.weight, Requires Grad: True\n",
      "Layer: layer3.1.bn1.weight, Requires Grad: True\n",
      "Layer: layer3.1.bn1.bias, Requires Grad: True\n",
      "Layer: layer3.1.conv2.weight, Requires Grad: True\n",
      "Layer: layer3.1.bn2.weight, Requires Grad: True\n",
      "Layer: layer3.1.bn2.bias, Requires Grad: True\n",
      "Layer: layer3.1.conv3.weight, Requires Grad: True\n",
      "Layer: layer3.1.bn3.weight, Requires Grad: True\n",
      "Layer: layer3.1.bn3.bias, Requires Grad: True\n",
      "Layer: layer3.2.conv1.weight, Requires Grad: True\n",
      "Layer: layer3.2.bn1.weight, Requires Grad: True\n",
      "Layer: layer3.2.bn1.bias, Requires Grad: True\n",
      "Layer: layer3.2.conv2.weight, Requires Grad: True\n",
      "Layer: layer3.2.bn2.weight, Requires Grad: True\n",
      "Layer: layer3.2.bn2.bias, Requires Grad: True\n",
      "Layer: layer3.2.conv3.weight, Requires Grad: True\n",
      "Layer: layer3.2.bn3.weight, Requires Grad: True\n",
      "Layer: layer3.2.bn3.bias, Requires Grad: True\n",
      "Layer: layer3.3.conv1.weight, Requires Grad: True\n",
      "Layer: layer3.3.bn1.weight, Requires Grad: True\n",
      "Layer: layer3.3.bn1.bias, Requires Grad: True\n",
      "Layer: layer3.3.conv2.weight, Requires Grad: True\n",
      "Layer: layer3.3.bn2.weight, Requires Grad: True\n",
      "Layer: layer3.3.bn2.bias, Requires Grad: True\n",
      "Layer: layer3.3.conv3.weight, Requires Grad: True\n",
      "Layer: layer3.3.bn3.weight, Requires Grad: True\n",
      "Layer: layer3.3.bn3.bias, Requires Grad: True\n",
      "Layer: layer3.4.conv1.weight, Requires Grad: True\n",
      "Layer: layer3.4.bn1.weight, Requires Grad: True\n",
      "Layer: layer3.4.bn1.bias, Requires Grad: True\n",
      "Layer: layer3.4.conv2.weight, Requires Grad: True\n",
      "Layer: layer3.4.bn2.weight, Requires Grad: True\n",
      "Layer: layer3.4.bn2.bias, Requires Grad: True\n",
      "Layer: layer3.4.conv3.weight, Requires Grad: True\n",
      "Layer: layer3.4.bn3.weight, Requires Grad: True\n",
      "Layer: layer3.4.bn3.bias, Requires Grad: True\n",
      "Layer: layer3.5.conv1.weight, Requires Grad: True\n",
      "Layer: layer3.5.bn1.weight, Requires Grad: True\n",
      "Layer: layer3.5.bn1.bias, Requires Grad: True\n",
      "Layer: layer3.5.conv2.weight, Requires Grad: True\n",
      "Layer: layer3.5.bn2.weight, Requires Grad: True\n",
      "Layer: layer3.5.bn2.bias, Requires Grad: True\n",
      "Layer: layer3.5.conv3.weight, Requires Grad: True\n",
      "Layer: layer3.5.bn3.weight, Requires Grad: True\n",
      "Layer: layer3.5.bn3.bias, Requires Grad: True\n",
      "Layer: layer4.0.conv1.weight, Requires Grad: True\n",
      "Layer: layer4.0.bn1.weight, Requires Grad: True\n",
      "Layer: layer4.0.bn1.bias, Requires Grad: True\n",
      "Layer: layer4.0.conv2.weight, Requires Grad: True\n",
      "Layer: layer4.0.bn2.weight, Requires Grad: True\n",
      "Layer: layer4.0.bn2.bias, Requires Grad: True\n",
      "Layer: layer4.0.conv3.weight, Requires Grad: True\n",
      "Layer: layer4.0.bn3.weight, Requires Grad: True\n",
      "Layer: layer4.0.bn3.bias, Requires Grad: True\n",
      "Layer: layer4.0.downsample.0.weight, Requires Grad: True\n",
      "Layer: layer4.0.downsample.1.weight, Requires Grad: True\n",
      "Layer: layer4.0.downsample.1.bias, Requires Grad: True\n",
      "Layer: layer4.1.conv1.weight, Requires Grad: True\n",
      "Layer: layer4.1.bn1.weight, Requires Grad: True\n",
      "Layer: layer4.1.bn1.bias, Requires Grad: True\n",
      "Layer: layer4.1.conv2.weight, Requires Grad: True\n",
      "Layer: layer4.1.bn2.weight, Requires Grad: True\n",
      "Layer: layer4.1.bn2.bias, Requires Grad: True\n",
      "Layer: layer4.1.conv3.weight, Requires Grad: True\n",
      "Layer: layer4.1.bn3.weight, Requires Grad: True\n",
      "Layer: layer4.1.bn3.bias, Requires Grad: True\n",
      "Layer: layer4.2.conv1.weight, Requires Grad: True\n",
      "Layer: layer4.2.bn1.weight, Requires Grad: True\n",
      "Layer: layer4.2.bn1.bias, Requires Grad: True\n",
      "Layer: layer4.2.conv2.weight, Requires Grad: True\n",
      "Layer: layer4.2.bn2.weight, Requires Grad: True\n",
      "Layer: layer4.2.bn2.bias, Requires Grad: True\n",
      "Layer: layer4.2.conv3.weight, Requires Grad: True\n",
      "Layer: layer4.2.bn3.weight, Requires Grad: True\n",
      "Layer: layer4.2.bn3.bias, Requires Grad: True\n",
      "Layer: fc.weight, Requires Grad: True\n",
      "Layer: fc.bias, Requires Grad: True\n"
     ]
    }
   ],
   "source": [
    "device = torch.device('cuda' if torch.cuda.is_available() else 'cpu')\n",
    "\n",
    "# Define the new model with the same architecture\n",
    "new_model = models.resnet50(weights=None).to(device)\n",
    "\n",
    "# Replace the classifier with the same architecture used during training\n",
    "new_model.fc = torch.nn.Linear(in_features=2048, out_features=2, bias=True).to(device)\n",
    "\n",
    "# Load the saved state_dict\n",
    "state_dict = torch.load(old_model_weights_path, map_location=device)\n",
    "new_model.load_state_dict(state_dict)\n",
    "\n",
    "# Verify the layers\n",
    "for name, param in new_model.named_parameters():\n",
    "    print(f\"Layer: {name}, Requires Grad: {param.requires_grad}\")"
   ]
  },
  {
   "cell_type": "markdown",
   "id": "9c0ea27f-781d-4ef4-a63a-3e1488e5170d",
   "metadata": {},
   "source": [
    "# Use the new model to calculate labels for the validation dataset."
   ]
  },
  {
   "cell_type": "code",
   "execution_count": 23,
   "id": "16c63203-d82f-4fb0-95c6-3bc031894b00",
   "metadata": {},
   "outputs": [],
   "source": [
    "# Set the path to the data directory\n",
    "data_path = '/Users/nataliamarko/Documents/BIG_DATA_LAB_DATA/Image_classification/'\n",
    "image_folder_path = '/Users/nataliamarko/Documents/BIG_DATA_LAB_DATA/Image_classification/plates'\n",
    "\n",
    "# Write transform for image\n",
    "transform = transforms.Compose([\n",
    "    transforms.CenterCrop(256),\n",
    "    transforms.ToTensor()\n",
    "])\n",
    "# Load the dataset for validation(hidden)\n",
    "\n",
    "valid_data = torchvision.datasets.ImageFolder(root=image_folder_path + '/hidden', transform=transform)\n",
    "\n",
    "BATCH_SIZE = 1\n",
    "NUM_WORKERS = 3\n",
    "\n",
    "valid_dataloader = DataLoader(valid_data,\n",
    "                             batch_size=BATCH_SIZE,\n",
    "                             shuffle=False,\n",
    "                             num_workers=NUM_WORKERS,\n",
    "                             pin_memory=True)"
   ]
  },
  {
   "cell_type": "markdown",
   "id": "505078c1-4828-4f94-9e71-b465cddee36f",
   "metadata": {
    "tags": []
   },
   "source": [
    "# Make predictions"
   ]
  },
  {
   "cell_type": "code",
   "execution_count": 25,
   "id": "01a7dd85-568b-4896-b6b2-6edd2acc6b5d",
   "metadata": {},
   "outputs": [
    {
     "data": {
      "application/vnd.jupyter.widget-view+json": {
       "model_id": "022f7bb68f3c4ceb89bfa72204ef4475",
       "version_major": 2,
       "version_minor": 0
      },
      "text/plain": [
       "Making predictions:   0%|          | 0/10 [00:00<?, ?it/s]"
      ]
     },
     "metadata": {},
     "output_type": "display_data"
    }
   ],
   "source": [
    "# Import tqdm for progress bar\n",
    "from tqdm.auto import tqdm\n",
    "\n",
    "y_preds = []\n",
    "new_model.eval()\n",
    "with torch.inference_mode():\n",
    "    for X, y in tqdm(valid_dataloader, desc=\"Making predictions\"):\n",
    "        # Send data and targets to target device\n",
    "        X, y = X.to(device), y.to(device)\n",
    "        # Do the forward pass\n",
    "        y_logit = new_model(X)\n",
    "        # Turn predictions from logits -> prediction probabilities -> predictions labels\n",
    "        y_pred = torch.softmax(y_logit, dim=1).argmax(dim=1)\n",
    "        # Put predictions on CPU for evaluation\n",
    "        y_preds.append(y_pred.cpu())\n",
    "# Concatenate list of predictions into a tensor\n",
    "y_pred_tensor = torch.cat(y_preds)"
   ]
  },
  {
   "cell_type": "markdown",
   "id": "a375a09f-b0f7-4fee-8561-3f10cfe965a1",
   "metadata": {},
   "source": [
    "# Evaluate the model plotting confusion matrix"
   ]
  },
  {
   "cell_type": "code",
   "execution_count": 27,
   "id": "102e372e-1079-4acb-a879-8f806606d495",
   "metadata": {},
   "outputs": [
    {
     "data": {
      "image/png": "[encoded data removed]",
      "text/plain": [
       "<Figure size 600x600 with 1 Axes>"
      ]
     },
     "metadata": {},
     "output_type": "display_data"
    }
   ],
   "source": [
    "# Get class names as a list\n",
    "class_names = ['clean', 'dirty']\n",
    "\n",
    "target_tensor = torch.tensor(valid_data.targets, dtype=torch.long)\n",
    "if y_pred_tensor.shape != target_tensor.shape:\n",
    "    raise RuntimeError(\"Predictions and targets must have the same shape.\")\n",
    "\n",
    "# 2. Setup confusion matrix instance and compare predictions to targets\n",
    "confmat = ConfusionMatrix(num_classes=len(class_names), task='binary')\n",
    "confmat_tensor = confmat(preds=y_pred_tensor, \n",
    "                         target=target_tensor)\n",
    "\n",
    "# 3. Plot the confusion matrix\n",
    "fig, ax = plot_confusion_matrix(\n",
    "    conf_mat=confmat_tensor.numpy(),  # Convert tensor to NumPy array\n",
    "    class_names=class_names,\n",
    "    figsize=(6, 6)\n",
    ")\n",
    "\n",
    "# Add title and labels to the plot\n",
    "ax.set_title('Confusion Matrix')\n",
    "ax.set_xlabel('Predicted label')\n",
    "ax.set_ylabel('True label')\n",
    "\n",
    "# Display the plot\n",
    "plt.show()"
   ]
  },
  {
   "cell_type": "markdown",
   "id": "68f9b801-fabf-4b9c-b72f-dcc5255434fc",
   "metadata": {},
   "source": [
    "# evaluate the model by metrics  Precision, Recall, F1Score, Accuracy"
   ]
  },
  {
   "cell_type": "code",
   "execution_count": 29,
   "id": "84b76634-6faa-46e0-97fc-d5e2874db2d8",
   "metadata": {},
   "outputs": [
    {
     "name": "stdout",
     "output_type": "stream",
     "text": [
      "Accuracy: 0.9\n",
      "Precision: 0.8333\n",
      "Recall: 1.0\n",
      "F1 score: 0.9091\n"
     ]
    }
   ],
   "source": [
    "target_tensor = torch.tensor(valid_data.targets, dtype=torch.long)\n",
    "precision = Precision(num_classes=2, average='binary', task='binary')\n",
    "recall = Recall(num_classes=2, average='binary', task='binary')\n",
    "f1 = F1Score(num_classes=2, average='binary', task='binary')\n",
    "accuracy = Accuracy(num_classes=2, average='binary', task='binary')\n",
    "\n",
    "precision_val = precision(y_pred_tensor, target_tensor)\n",
    "recall_val = recall(y_pred_tensor, target_tensor)\n",
    "f1_val = f1(y_pred_tensor, target_tensor)\n",
    "accuracy_val = accuracy(y_pred_tensor, target_tensor)\n",
    "\n",
    "print(\"Accuracy:\", round(accuracy_val.item(), 4))\n",
    "print(\"Precision:\", round(precision_val.item(), 4))\n",
    "print(\"Recall:\", round(recall_val.item(), 4))\n",
    "print(\"F1 score:\", round(f1_val.item(), 4))"
   ]
  },
  {
   "cell_type": "markdown",
   "id": "b167c46b-9e7d-43b4-87cf-0da38cbc8149",
   "metadata": {},
   "source": [
    "### I DID IT :)"
   ]
  },
  {
   "cell_type": "code",
   "execution_count": null,
   "id": "d000170c-d330-4f7b-85b8-06d2f83f9b37",
   "metadata": {},
   "outputs": [],
   "source": []
  }
 ],
 "metadata": {
  "kernelspec": {
   "display_name": "Python 3 (ipykernel)",
   "language": "python",
   "name": "python3"
  },
  "language_info": {
   "codemirror_mode": {
    "name": "ipython",
    "version": 3
   },
   "file_extension": ".py",
   "mimetype": "text/x-python",
   "name": "python",
   "nbconvert_exporter": "python",
   "pygments_lexer": "ipython3",
   "version": "3.11.8"
  }
 },
 "nbformat": 4,
 "nbformat_minor": 5
}

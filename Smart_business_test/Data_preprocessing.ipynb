{
 "cells": [
  {
   "cell_type": "markdown",
   "id": "68ef070e-df5d-4d8c-84ef-bbd34307f95e",
   "metadata": {
    "tags": []
   },
   "source": [
    "# Task 1: Demand Forecasting\n",
    "\n",
    "Objective: Develop a demand forecasting system for a short-term period (14 days) starting 7 days after the last date in the data, for all product groups.\n",
    "\n",
    "Description:\n",
    "\n",
    "Using the provided transaction data, create two forecasting models:\n",
    "- A machine learning model.\n",
    "- A classical time series forecasting model.\n",
    "\n",
    "Provide well-reasoned comments on the choice of methods and approaches, explaining why you chose them.\n",
    "\n",
    "Expected Outcome:\n",
    "\n",
    "A file with the code (.py or .ipynb) that includes two forecasting models, explanations for the choice of methods, and the ability to calculate the forecast for the future period (scoring)."
   ]
  },
  {
   "cell_type": "markdown",
   "id": "0185fc56-f328-4a1c-baf2-6757b7474513",
   "metadata": {},
   "source": [
    "For forecasting product demand, the most relevant data are from the orders and products files. Therefore, we will focus on the following files:\n",
    "\n",
    "- order_items.csv\n",
    "- orders.csv\n",
    "- products.csv"
   ]
  },
  {
   "cell_type": "code",
   "execution_count": 3,
   "id": "5d7d8f39-cde1-4126-ac6b-55b4e4debe09",
   "metadata": {
    "tags": []
   },
   "outputs": [],
   "source": [
    "import pandas as pd\n",
    "import numpy as np\n",
    "import matplotlib.pyplot as plt\n",
    "import warnings\n",
    "warnings.filterwarnings(\"ignore\", category=FutureWarning)"
   ]
  },
  {
   "cell_type": "markdown",
   "id": "2606e456-a28f-4902-bb37-8e120cd2a308",
   "metadata": {
    "tags": []
   },
   "source": [
    "# Step 1. Data Loading and Preprocessing"
   ]
  },
  {
   "cell_type": "code",
   "execution_count": 5,
   "id": "840cd7e1-f6ce-441b-9acb-2227b90d795d",
   "metadata": {
    "tags": []
   },
   "outputs": [],
   "source": [
    "order_items = pd.read_csv('/Users/nataliamarko/Documents/jobs_applications/test_Smart_business/S_Data/order_items.csv')\n",
    "orders = pd.read_csv('/Users/nataliamarko/Documents/jobs_applications/test_Smart_business/S_Data/orders.csv')\n",
    "products = pd.read_csv('/Users/nataliamarko/Documents/jobs_applications/test_Smart_business/S_Data/products.csv')\n",
    "product_category_name_translation = pd.read_csv('/Users/nataliamarko/Documents/jobs_applications/test_Smart_business/S_Data/product_category_name_translation.csv')"
   ]
  },
  {
   "cell_type": "code",
   "execution_count": 6,
   "id": "68c40910-97c4-4543-b152-fe25f0fccf5e",
   "metadata": {
    "tags": []
   },
   "outputs": [
    {
     "data": {
      "text/html": [
       "<div>\n",
       "<style scoped>\n",
       "    .dataframe tbody tr th:only-of-type {\n",
       "        vertical-align: middle;\n",
       "    }\n",
       "\n",
       "    .dataframe tbody tr th {\n",
       "        vertical-align: top;\n",
       "    }\n",
       "\n",
       "    .dataframe thead th {\n",
       "        text-align: right;\n",
       "    }\n",
       "</style>\n",
       "<table border=\"1\" class=\"dataframe\">\n",
       "  <thead>\n",
       "    <tr style=\"text-align: right;\">\n",
       "      <th></th>\n",
       "      <th>order_id</th>\n",
       "      <th>order_item_id</th>\n",
       "      <th>product_id</th>\n",
       "      <th>seller_id</th>\n",
       "      <th>shipping_limit_date</th>\n",
       "      <th>price</th>\n",
       "      <th>freight_value</th>\n",
       "    </tr>\n",
       "  </thead>\n",
       "  <tbody>\n",
       "    <tr>\n",
       "      <th>0</th>\n",
       "      <td>00010242fe8c5a6d1ba2dd792cb16214</td>\n",
       "      <td>1</td>\n",
       "      <td>4244733e06e7ecb4970a6e2683c13e61</td>\n",
       "      <td>48436dade18ac8b2bce089ec2a041202</td>\n",
       "      <td>2017-09-19 09:45:35</td>\n",
       "      <td>58.9</td>\n",
       "      <td>13.29</td>\n",
       "    </tr>\n",
       "    <tr>\n",
       "      <th>1</th>\n",
       "      <td>00018f77f2f0320c557190d7a144bdd3</td>\n",
       "      <td>1</td>\n",
       "      <td>e5f2d52b802189ee658865ca93d83a8f</td>\n",
       "      <td>dd7ddc04e1b6c2c614352b383efe2d36</td>\n",
       "      <td>2017-05-03 11:05:13</td>\n",
       "      <td>239.9</td>\n",
       "      <td>19.93</td>\n",
       "    </tr>\n",
       "  </tbody>\n",
       "</table>\n",
       "</div>"
      ],
      "text/plain": [
       "                           order_id  order_item_id  \\\n",
       "0  00010242fe8c5a6d1ba2dd792cb16214              1   \n",
       "1  00018f77f2f0320c557190d7a144bdd3              1   \n",
       "\n",
       "                         product_id                         seller_id  \\\n",
       "0  4244733e06e7ecb4970a6e2683c13e61  48436dade18ac8b2bce089ec2a041202   \n",
       "1  e5f2d52b802189ee658865ca93d83a8f  dd7ddc04e1b6c2c614352b383efe2d36   \n",
       "\n",
       "   shipping_limit_date  price  freight_value  \n",
       "0  2017-09-19 09:45:35   58.9          13.29  \n",
       "1  2017-05-03 11:05:13  239.9          19.93  "
      ]
     },
     "execution_count": 6,
     "metadata": {},
     "output_type": "execute_result"
    }
   ],
   "source": [
    "order_items.head(2)"
   ]
  },
  {
   "cell_type": "code",
   "execution_count": 7,
   "id": "0c2e48da-4f78-4d91-8899-c46c527e9890",
   "metadata": {
    "tags": []
   },
   "outputs": [
    {
     "data": {
      "text/html": [
       "<div>\n",
       "<style scoped>\n",
       "    .dataframe tbody tr th:only-of-type {\n",
       "        vertical-align: middle;\n",
       "    }\n",
       "\n",
       "    .dataframe tbody tr th {\n",
       "        vertical-align: top;\n",
       "    }\n",
       "\n",
       "    .dataframe thead th {\n",
       "        text-align: right;\n",
       "    }\n",
       "</style>\n",
       "<table border=\"1\" class=\"dataframe\">\n",
       "  <thead>\n",
       "    <tr style=\"text-align: right;\">\n",
       "      <th></th>\n",
       "      <th>order_id</th>\n",
       "      <th>customer_id</th>\n",
       "      <th>order_status</th>\n",
       "      <th>order_purchase_timestamp</th>\n",
       "      <th>order_approved_at</th>\n",
       "      <th>order_delivered_carrier_date</th>\n",
       "      <th>order_delivered_customer_date</th>\n",
       "      <th>order_estimated_delivery_date</th>\n",
       "    </tr>\n",
       "  </thead>\n",
       "  <tbody>\n",
       "    <tr>\n",
       "      <th>0</th>\n",
       "      <td>e481f51cbdc54678b7cc49136f2d6af7</td>\n",
       "      <td>9ef432eb6251297304e76186b10a928d</td>\n",
       "      <td>delivered</td>\n",
       "      <td>2017-10-02 10:56:33</td>\n",
       "      <td>2017-10-02 11:07:15</td>\n",
       "      <td>2017-10-04 19:55:00</td>\n",
       "      <td>2017-10-10 21:25:13</td>\n",
       "      <td>2017-10-18 00:00:00</td>\n",
       "    </tr>\n",
       "    <tr>\n",
       "      <th>1</th>\n",
       "      <td>53cdb2fc8bc7dce0b6741e2150273451</td>\n",
       "      <td>b0830fb4747a6c6d20dea0b8c802d7ef</td>\n",
       "      <td>delivered</td>\n",
       "      <td>2018-07-24 20:41:37</td>\n",
       "      <td>2018-07-26 03:24:27</td>\n",
       "      <td>2018-07-26 14:31:00</td>\n",
       "      <td>2018-08-07 15:27:45</td>\n",
       "      <td>2018-08-13 00:00:00</td>\n",
       "    </tr>\n",
       "  </tbody>\n",
       "</table>\n",
       "</div>"
      ],
      "text/plain": [
       "                           order_id                       customer_id  \\\n",
       "0  e481f51cbdc54678b7cc49136f2d6af7  9ef432eb6251297304e76186b10a928d   \n",
       "1  53cdb2fc8bc7dce0b6741e2150273451  b0830fb4747a6c6d20dea0b8c802d7ef   \n",
       "\n",
       "  order_status order_purchase_timestamp    order_approved_at  \\\n",
       "0    delivered      2017-10-02 10:56:33  2017-10-02 11:07:15   \n",
       "1    delivered      2018-07-24 20:41:37  2018-07-26 03:24:27   \n",
       "\n",
       "  order_delivered_carrier_date order_delivered_customer_date  \\\n",
       "0          2017-10-04 19:55:00           2017-10-10 21:25:13   \n",
       "1          2018-07-26 14:31:00           2018-08-07 15:27:45   \n",
       "\n",
       "  order_estimated_delivery_date  \n",
       "0           2017-10-18 00:00:00  \n",
       "1           2018-08-13 00:00:00  "
      ]
     },
     "execution_count": 7,
     "metadata": {},
     "output_type": "execute_result"
    }
   ],
   "source": [
    "orders.head(2)"
   ]
  },
  {
   "cell_type": "code",
   "execution_count": 8,
   "id": "6c0617a6-83d4-4869-aeba-d3a44a9d2740",
   "metadata": {
    "tags": []
   },
   "outputs": [
    {
     "data": {
      "text/plain": [
       "array(['delivered', 'invoiced', 'shipped', 'processing', 'unavailable',\n",
       "       'canceled', 'created', 'approved'], dtype=object)"
      ]
     },
     "execution_count": 8,
     "metadata": {},
     "output_type": "execute_result"
    }
   ],
   "source": [
    "orders['order_status'].unique()"
   ]
  },
  {
   "cell_type": "code",
   "execution_count": 9,
   "id": "1c03a211-138e-44e9-86f1-07bb7596f76f",
   "metadata": {
    "tags": []
   },
   "outputs": [
    {
     "name": "stdout",
     "output_type": "stream",
     "text": [
      "99441\n",
      "609\n",
      "% unavailable_orders from all orders 0.61\n"
     ]
    }
   ],
   "source": [
    "all_orders = orders.shape[0]\n",
    "unavailable_orders = (orders['order_status'] == 'unavailable').sum()\n",
    "print(all_orders)\n",
    "print(unavailable_orders)\n",
    "print('% unavailable_orders from all orders', round(100*unavailable_orders/all_orders, 2))"
   ]
  },
  {
   "cell_type": "code",
   "execution_count": 10,
   "id": "cecfd1bb-b62f-45ce-8338-f6e9cb0a7d98",
   "metadata": {
    "tags": []
   },
   "outputs": [
    {
     "data": {
      "text/html": [
       "<div>\n",
       "<style scoped>\n",
       "    .dataframe tbody tr th:only-of-type {\n",
       "        vertical-align: middle;\n",
       "    }\n",
       "\n",
       "    .dataframe tbody tr th {\n",
       "        vertical-align: top;\n",
       "    }\n",
       "\n",
       "    .dataframe thead th {\n",
       "        text-align: right;\n",
       "    }\n",
       "</style>\n",
       "<table border=\"1\" class=\"dataframe\">\n",
       "  <thead>\n",
       "    <tr style=\"text-align: right;\">\n",
       "      <th></th>\n",
       "      <th>product_id</th>\n",
       "      <th>product_category_name</th>\n",
       "      <th>product_name_lenght</th>\n",
       "      <th>product_description_lenght</th>\n",
       "      <th>product_photos_qty</th>\n",
       "      <th>product_weight_g</th>\n",
       "      <th>product_length_cm</th>\n",
       "      <th>product_height_cm</th>\n",
       "      <th>product_width_cm</th>\n",
       "    </tr>\n",
       "  </thead>\n",
       "  <tbody>\n",
       "    <tr>\n",
       "      <th>0</th>\n",
       "      <td>1e9e8ef04dbcff4541ed26657ea517e5</td>\n",
       "      <td>perfumaria</td>\n",
       "      <td>40.0</td>\n",
       "      <td>287.0</td>\n",
       "      <td>1.0</td>\n",
       "      <td>225.0</td>\n",
       "      <td>16.0</td>\n",
       "      <td>10.0</td>\n",
       "      <td>14.0</td>\n",
       "    </tr>\n",
       "    <tr>\n",
       "      <th>1</th>\n",
       "      <td>3aa071139cb16b67ca9e5dea641aaa2f</td>\n",
       "      <td>artes</td>\n",
       "      <td>44.0</td>\n",
       "      <td>276.0</td>\n",
       "      <td>1.0</td>\n",
       "      <td>1000.0</td>\n",
       "      <td>30.0</td>\n",
       "      <td>18.0</td>\n",
       "      <td>20.0</td>\n",
       "    </tr>\n",
       "  </tbody>\n",
       "</table>\n",
       "</div>"
      ],
      "text/plain": [
       "                         product_id product_category_name  \\\n",
       "0  1e9e8ef04dbcff4541ed26657ea517e5            perfumaria   \n",
       "1  3aa071139cb16b67ca9e5dea641aaa2f                 artes   \n",
       "\n",
       "   product_name_lenght  product_description_lenght  product_photos_qty  \\\n",
       "0                 40.0                       287.0                 1.0   \n",
       "1                 44.0                       276.0                 1.0   \n",
       "\n",
       "   product_weight_g  product_length_cm  product_height_cm  product_width_cm  \n",
       "0             225.0               16.0               10.0              14.0  \n",
       "1            1000.0               30.0               18.0              20.0  "
      ]
     },
     "execution_count": 10,
     "metadata": {},
     "output_type": "execute_result"
    }
   ],
   "source": [
    "products.head(2)"
   ]
  },
  {
   "cell_type": "code",
   "execution_count": 11,
   "id": "20a319d9-2f5a-4736-a652-cd5419d4ca71",
   "metadata": {
    "tags": []
   },
   "outputs": [
    {
     "data": {
      "text/html": [
       "<div>\n",
       "<style scoped>\n",
       "    .dataframe tbody tr th:only-of-type {\n",
       "        vertical-align: middle;\n",
       "    }\n",
       "\n",
       "    .dataframe tbody tr th {\n",
       "        vertical-align: top;\n",
       "    }\n",
       "\n",
       "    .dataframe thead th {\n",
       "        text-align: right;\n",
       "    }\n",
       "</style>\n",
       "<table border=\"1\" class=\"dataframe\">\n",
       "  <thead>\n",
       "    <tr style=\"text-align: right;\">\n",
       "      <th></th>\n",
       "      <th>product_category_name</th>\n",
       "      <th>product_category_name_english</th>\n",
       "    </tr>\n",
       "  </thead>\n",
       "  <tbody>\n",
       "    <tr>\n",
       "      <th>0</th>\n",
       "      <td>beleza_saude</td>\n",
       "      <td>health_beauty</td>\n",
       "    </tr>\n",
       "    <tr>\n",
       "      <th>1</th>\n",
       "      <td>informatica_acessorios</td>\n",
       "      <td>computers_accessories</td>\n",
       "    </tr>\n",
       "  </tbody>\n",
       "</table>\n",
       "</div>"
      ],
      "text/plain": [
       "    product_category_name product_category_name_english\n",
       "0            beleza_saude                 health_beauty\n",
       "1  informatica_acessorios         computers_accessories"
      ]
     },
     "execution_count": 11,
     "metadata": {},
     "output_type": "execute_result"
    }
   ],
   "source": [
    "product_category_name_translation.head(2)"
   ]
  },
  {
   "cell_type": "markdown",
   "id": "953c7cfe-72f7-45be-aa97-1d7bb2347094",
   "metadata": {},
   "source": [
    "## Merging data"
   ]
  },
  {
   "cell_type": "code",
   "execution_count": 13,
   "id": "d5befa27-d07f-4cf8-ac09-f6bd3398364c",
   "metadata": {
    "tags": []
   },
   "outputs": [
    {
     "data": {
      "text/plain": [
       "(112650, 22)"
      ]
     },
     "execution_count": 13,
     "metadata": {},
     "output_type": "execute_result"
    }
   ],
   "source": [
    "order_data = pd.merge(order_items, orders, on='order_id')\n",
    "order_data = pd.merge(order_data, products, on='product_id')\n",
    "order_data['order_purchase_timestamp'] = pd.to_datetime(order_data['order_purchase_timestamp'])\n",
    "order_data.head()\n",
    "order_data.shape"
   ]
  },
  {
   "cell_type": "code",
   "execution_count": 14,
   "id": "2e8c1aa1-787f-4a20-a722-186f0c6b2489",
   "metadata": {
    "tags": []
   },
   "outputs": [
    {
     "data": {
      "text/html": [
       "<div>\n",
       "<style scoped>\n",
       "    .dataframe tbody tr th:only-of-type {\n",
       "        vertical-align: middle;\n",
       "    }\n",
       "\n",
       "    .dataframe tbody tr th {\n",
       "        vertical-align: top;\n",
       "    }\n",
       "\n",
       "    .dataframe thead th {\n",
       "        text-align: right;\n",
       "    }\n",
       "</style>\n",
       "<table border=\"1\" class=\"dataframe\">\n",
       "  <thead>\n",
       "    <tr style=\"text-align: right;\">\n",
       "      <th></th>\n",
       "      <th>order_id</th>\n",
       "      <th>order_item_id</th>\n",
       "      <th>product_id</th>\n",
       "      <th>seller_id</th>\n",
       "      <th>shipping_limit_date</th>\n",
       "      <th>price</th>\n",
       "      <th>freight_value</th>\n",
       "      <th>customer_id</th>\n",
       "      <th>order_status</th>\n",
       "      <th>order_purchase_timestamp</th>\n",
       "      <th>...</th>\n",
       "      <th>order_estimated_delivery_date</th>\n",
       "      <th>product_category_name</th>\n",
       "      <th>product_name_lenght</th>\n",
       "      <th>product_description_lenght</th>\n",
       "      <th>product_photos_qty</th>\n",
       "      <th>product_weight_g</th>\n",
       "      <th>product_length_cm</th>\n",
       "      <th>product_height_cm</th>\n",
       "      <th>product_width_cm</th>\n",
       "      <th>product_category_name_english</th>\n",
       "    </tr>\n",
       "  </thead>\n",
       "  <tbody>\n",
       "    <tr>\n",
       "      <th>0</th>\n",
       "      <td>00010242fe8c5a6d1ba2dd792cb16214</td>\n",
       "      <td>1</td>\n",
       "      <td>4244733e06e7ecb4970a6e2683c13e61</td>\n",
       "      <td>48436dade18ac8b2bce089ec2a041202</td>\n",
       "      <td>2017-09-19 09:45:35</td>\n",
       "      <td>58.9</td>\n",
       "      <td>13.29</td>\n",
       "      <td>3ce436f183e68e07877b285a838db11a</td>\n",
       "      <td>delivered</td>\n",
       "      <td>2017-09-13 08:59:02</td>\n",
       "      <td>...</td>\n",
       "      <td>2017-09-29 00:00:00</td>\n",
       "      <td>cool_stuff</td>\n",
       "      <td>58.0</td>\n",
       "      <td>598.0</td>\n",
       "      <td>4.0</td>\n",
       "      <td>650.0</td>\n",
       "      <td>28.0</td>\n",
       "      <td>9.0</td>\n",
       "      <td>14.0</td>\n",
       "      <td>cool_stuff</td>\n",
       "    </tr>\n",
       "    <tr>\n",
       "      <th>1</th>\n",
       "      <td>130898c0987d1801452a8ed92a670612</td>\n",
       "      <td>1</td>\n",
       "      <td>4244733e06e7ecb4970a6e2683c13e61</td>\n",
       "      <td>48436dade18ac8b2bce089ec2a041202</td>\n",
       "      <td>2017-07-05 02:44:11</td>\n",
       "      <td>55.9</td>\n",
       "      <td>17.96</td>\n",
       "      <td>e6eecc5a77de221464d1c4eaff0a9b64</td>\n",
       "      <td>delivered</td>\n",
       "      <td>2017-06-28 11:52:20</td>\n",
       "      <td>...</td>\n",
       "      <td>2017-07-26 00:00:00</td>\n",
       "      <td>cool_stuff</td>\n",
       "      <td>58.0</td>\n",
       "      <td>598.0</td>\n",
       "      <td>4.0</td>\n",
       "      <td>650.0</td>\n",
       "      <td>28.0</td>\n",
       "      <td>9.0</td>\n",
       "      <td>14.0</td>\n",
       "      <td>cool_stuff</td>\n",
       "    </tr>\n",
       "  </tbody>\n",
       "</table>\n",
       "<p>2 rows × 23 columns</p>\n",
       "</div>"
      ],
      "text/plain": [
       "                           order_id  order_item_id  \\\n",
       "0  00010242fe8c5a6d1ba2dd792cb16214              1   \n",
       "1  130898c0987d1801452a8ed92a670612              1   \n",
       "\n",
       "                         product_id                         seller_id  \\\n",
       "0  4244733e06e7ecb4970a6e2683c13e61  48436dade18ac8b2bce089ec2a041202   \n",
       "1  4244733e06e7ecb4970a6e2683c13e61  48436dade18ac8b2bce089ec2a041202   \n",
       "\n",
       "   shipping_limit_date  price  freight_value  \\\n",
       "0  2017-09-19 09:45:35   58.9          13.29   \n",
       "1  2017-07-05 02:44:11   55.9          17.96   \n",
       "\n",
       "                        customer_id order_status order_purchase_timestamp  \\\n",
       "0  3ce436f183e68e07877b285a838db11a    delivered      2017-09-13 08:59:02   \n",
       "1  e6eecc5a77de221464d1c4eaff0a9b64    delivered      2017-06-28 11:52:20   \n",
       "\n",
       "   ... order_estimated_delivery_date product_category_name  \\\n",
       "0  ...           2017-09-29 00:00:00            cool_stuff   \n",
       "1  ...           2017-07-26 00:00:00            cool_stuff   \n",
       "\n",
       "  product_name_lenght product_description_lenght product_photos_qty  \\\n",
       "0                58.0                      598.0                4.0   \n",
       "1                58.0                      598.0                4.0   \n",
       "\n",
       "   product_weight_g  product_length_cm  product_height_cm  product_width_cm  \\\n",
       "0             650.0               28.0                9.0              14.0   \n",
       "1             650.0               28.0                9.0              14.0   \n",
       "\n",
       "   product_category_name_english  \n",
       "0                     cool_stuff  \n",
       "1                     cool_stuff  \n",
       "\n",
       "[2 rows x 23 columns]"
      ]
     },
     "execution_count": 14,
     "metadata": {},
     "output_type": "execute_result"
    }
   ],
   "source": [
    "order_data = pd.merge(order_data, product_category_name_translation, on='product_category_name')\n",
    "order_data.head(2)"
   ]
  },
  {
   "cell_type": "code",
   "execution_count": 15,
   "id": "70c64522-51c6-4aa4-a096-6f53448abad9",
   "metadata": {
    "tags": []
   },
   "outputs": [],
   "source": [
    "order_data.drop(['product_category_name'], axis=1, inplace=True)"
   ]
  },
  {
   "cell_type": "markdown",
   "id": "d44b2391-6388-4359-9386-0ea588b25bab",
   "metadata": {},
   "source": [
    "## Handling missing values"
   ]
  },
  {
   "cell_type": "code",
   "execution_count": 17,
   "id": "762cb2eb-65b2-4af3-8d02-0ed6d8820d54",
   "metadata": {
    "tags": []
   },
   "outputs": [
    {
     "data": {
      "text/plain": [
       "order_id                            0\n",
       "order_item_id                       0\n",
       "product_id                          0\n",
       "seller_id                           0\n",
       "shipping_limit_date                 0\n",
       "price                               0\n",
       "freight_value                       0\n",
       "customer_id                         0\n",
       "order_status                        0\n",
       "order_purchase_timestamp            0\n",
       "order_approved_at                  14\n",
       "order_delivered_carrier_date     1155\n",
       "order_delivered_customer_date    2386\n",
       "order_estimated_delivery_date       0\n",
       "product_name_lenght                 0\n",
       "product_description_lenght          0\n",
       "product_photos_qty                  0\n",
       "product_weight_g                    1\n",
       "product_length_cm                   1\n",
       "product_height_cm                   1\n",
       "product_width_cm                    1\n",
       "product_category_name_english       0\n",
       "dtype: int64"
      ]
     },
     "execution_count": 17,
     "metadata": {},
     "output_type": "execute_result"
    }
   ],
   "source": [
    "order_data.isna().sum()"
   ]
  },
  {
   "cell_type": "markdown",
   "id": "798b143f-d524-4cfe-8c1f-6c401181a345",
   "metadata": {},
   "source": [
    "Filling missing values in order_approved_at with the next day after order_purchase_timestamp"
   ]
  },
  {
   "cell_type": "code",
   "execution_count": 19,
   "id": "78a73d33-a4ce-42ac-9985-756d53fab56c",
   "metadata": {
    "tags": []
   },
   "outputs": [],
   "source": [
    "order_data['order_approved_at'] = order_data.apply(\n",
    "    lambda row: row['order_purchase_timestamp'] + pd.Timedelta(days=1) if pd.isna(row['order_approved_at']) \n",
    "    else row['order_approved_at'], axis=1)"
   ]
  },
  {
   "cell_type": "code",
   "execution_count": 20,
   "id": "33eb892b-9830-4ff1-b9df-d53a87224160",
   "metadata": {
    "tags": []
   },
   "outputs": [],
   "source": [
    "from sklearn.impute import SimpleImputer\n",
    "\n",
    "imputer = SimpleImputer(strategy='mean')\n",
    "order_data[['product_weight_g', \n",
    "             'product_length_cm', \n",
    "             'product_height_cm', \n",
    "             'product_width_cm']] = imputer.fit_transform(order_data[['product_weight_g',\n",
    "                                                                       'product_length_cm',\n",
    "                                                                       'product_height_cm',\n",
    "                                                                        'product_width_cm'\n",
    "                                                                       ]])\n",
    "                                                                         "
   ]
  },
  {
   "cell_type": "code",
   "execution_count": 21,
   "id": "71ba2a0b-3f03-4fc0-b105-823d2ad68732",
   "metadata": {
    "tags": []
   },
   "outputs": [],
   "source": [
    "order_data['order_delivered_carrier_date'].fillna(order_data['order_estimated_delivery_date'], inplace=True)\n",
    "order_data['order_delivered_customer_date'].fillna(order_data['order_estimated_delivery_date'], inplace=True)\n",
    "order_data['order_purchase_timestamp'] = pd.to_datetime(order_data['order_purchase_timestamp'])\n",
    "order_data['order_approved_at'] = pd.to_datetime(order_data['order_approved_at'])\n",
    "order_data['order_delivered_carrier_date'] = pd.to_datetime(order_data['order_delivered_carrier_date'])\n",
    "order_data['order_delivered_customer_date'] = pd.to_datetime(order_data['order_delivered_customer_date'])"
   ]
  },
  {
   "cell_type": "code",
   "execution_count": 22,
   "id": "bd929d27-4b8c-473f-b0c2-f64f8657bf3c",
   "metadata": {
    "tags": []
   },
   "outputs": [
    {
     "data": {
      "text/plain": [
       "order_id                         0\n",
       "order_item_id                    0\n",
       "product_id                       0\n",
       "seller_id                        0\n",
       "shipping_limit_date              0\n",
       "price                            0\n",
       "freight_value                    0\n",
       "customer_id                      0\n",
       "order_status                     0\n",
       "order_purchase_timestamp         0\n",
       "order_approved_at                0\n",
       "order_delivered_carrier_date     0\n",
       "order_delivered_customer_date    0\n",
       "order_estimated_delivery_date    0\n",
       "product_name_lenght              0\n",
       "product_description_lenght       0\n",
       "product_photos_qty               0\n",
       "product_weight_g                 0\n",
       "product_length_cm                0\n",
       "product_height_cm                0\n",
       "product_width_cm                 0\n",
       "product_category_name_english    0\n",
       "dtype: int64"
      ]
     },
     "execution_count": 22,
     "metadata": {},
     "output_type": "execute_result"
    }
   ],
   "source": [
    "order_data.isna().sum()"
   ]
  },
  {
   "cell_type": "code",
   "execution_count": 23,
   "id": "b75320e0-4d77-4de3-b605-84c54dbe3a3f",
   "metadata": {
    "tags": []
   },
   "outputs": [
    {
     "data": {
      "text/html": [
       "<div>\n",
       "<style scoped>\n",
       "    .dataframe tbody tr th:only-of-type {\n",
       "        vertical-align: middle;\n",
       "    }\n",
       "\n",
       "    .dataframe tbody tr th {\n",
       "        vertical-align: top;\n",
       "    }\n",
       "\n",
       "    .dataframe thead th {\n",
       "        text-align: right;\n",
       "    }\n",
       "</style>\n",
       "<table border=\"1\" class=\"dataframe\">\n",
       "  <thead>\n",
       "    <tr style=\"text-align: right;\">\n",
       "      <th></th>\n",
       "      <th>order_id</th>\n",
       "      <th>order_item_id</th>\n",
       "      <th>product_id</th>\n",
       "      <th>seller_id</th>\n",
       "      <th>shipping_limit_date</th>\n",
       "      <th>price</th>\n",
       "      <th>freight_value</th>\n",
       "      <th>customer_id</th>\n",
       "      <th>order_status</th>\n",
       "      <th>order_purchase_timestamp</th>\n",
       "      <th>...</th>\n",
       "      <th>order_delivered_customer_date</th>\n",
       "      <th>order_estimated_delivery_date</th>\n",
       "      <th>product_name_lenght</th>\n",
       "      <th>product_description_lenght</th>\n",
       "      <th>product_photos_qty</th>\n",
       "      <th>product_weight_g</th>\n",
       "      <th>product_length_cm</th>\n",
       "      <th>product_height_cm</th>\n",
       "      <th>product_width_cm</th>\n",
       "      <th>product_category_name_english</th>\n",
       "    </tr>\n",
       "  </thead>\n",
       "  <tbody>\n",
       "    <tr>\n",
       "      <th>0</th>\n",
       "      <td>00010242fe8c5a6d1ba2dd792cb16214</td>\n",
       "      <td>1</td>\n",
       "      <td>4244733e06e7ecb4970a6e2683c13e61</td>\n",
       "      <td>48436dade18ac8b2bce089ec2a041202</td>\n",
       "      <td>2017-09-19 09:45:35</td>\n",
       "      <td>58.9</td>\n",
       "      <td>13.29</td>\n",
       "      <td>3ce436f183e68e07877b285a838db11a</td>\n",
       "      <td>delivered</td>\n",
       "      <td>2017-09-13 08:59:02</td>\n",
       "      <td>...</td>\n",
       "      <td>2017-09-20 23:43:48</td>\n",
       "      <td>2017-09-29 00:00:00</td>\n",
       "      <td>58.0</td>\n",
       "      <td>598.0</td>\n",
       "      <td>4.0</td>\n",
       "      <td>650.0</td>\n",
       "      <td>28.0</td>\n",
       "      <td>9.0</td>\n",
       "      <td>14.0</td>\n",
       "      <td>cool_stuff</td>\n",
       "    </tr>\n",
       "    <tr>\n",
       "      <th>1</th>\n",
       "      <td>130898c0987d1801452a8ed92a670612</td>\n",
       "      <td>1</td>\n",
       "      <td>4244733e06e7ecb4970a6e2683c13e61</td>\n",
       "      <td>48436dade18ac8b2bce089ec2a041202</td>\n",
       "      <td>2017-07-05 02:44:11</td>\n",
       "      <td>55.9</td>\n",
       "      <td>17.96</td>\n",
       "      <td>e6eecc5a77de221464d1c4eaff0a9b64</td>\n",
       "      <td>delivered</td>\n",
       "      <td>2017-06-28 11:52:20</td>\n",
       "      <td>...</td>\n",
       "      <td>2017-07-13 20:39:29</td>\n",
       "      <td>2017-07-26 00:00:00</td>\n",
       "      <td>58.0</td>\n",
       "      <td>598.0</td>\n",
       "      <td>4.0</td>\n",
       "      <td>650.0</td>\n",
       "      <td>28.0</td>\n",
       "      <td>9.0</td>\n",
       "      <td>14.0</td>\n",
       "      <td>cool_stuff</td>\n",
       "    </tr>\n",
       "  </tbody>\n",
       "</table>\n",
       "<p>2 rows × 22 columns</p>\n",
       "</div>"
      ],
      "text/plain": [
       "                           order_id  order_item_id  \\\n",
       "0  00010242fe8c5a6d1ba2dd792cb16214              1   \n",
       "1  130898c0987d1801452a8ed92a670612              1   \n",
       "\n",
       "                         product_id                         seller_id  \\\n",
       "0  4244733e06e7ecb4970a6e2683c13e61  48436dade18ac8b2bce089ec2a041202   \n",
       "1  4244733e06e7ecb4970a6e2683c13e61  48436dade18ac8b2bce089ec2a041202   \n",
       "\n",
       "   shipping_limit_date  price  freight_value  \\\n",
       "0  2017-09-19 09:45:35   58.9          13.29   \n",
       "1  2017-07-05 02:44:11   55.9          17.96   \n",
       "\n",
       "                        customer_id order_status order_purchase_timestamp  \\\n",
       "0  3ce436f183e68e07877b285a838db11a    delivered      2017-09-13 08:59:02   \n",
       "1  e6eecc5a77de221464d1c4eaff0a9b64    delivered      2017-06-28 11:52:20   \n",
       "\n",
       "   ... order_delivered_customer_date order_estimated_delivery_date  \\\n",
       "0  ...           2017-09-20 23:43:48           2017-09-29 00:00:00   \n",
       "1  ...           2017-07-13 20:39:29           2017-07-26 00:00:00   \n",
       "\n",
       "  product_name_lenght product_description_lenght  product_photos_qty  \\\n",
       "0                58.0                      598.0                 4.0   \n",
       "1                58.0                      598.0                 4.0   \n",
       "\n",
       "   product_weight_g  product_length_cm  product_height_cm  product_width_cm  \\\n",
       "0             650.0               28.0                9.0              14.0   \n",
       "1             650.0               28.0                9.0              14.0   \n",
       "\n",
       "   product_category_name_english  \n",
       "0                     cool_stuff  \n",
       "1                     cool_stuff  \n",
       "\n",
       "[2 rows x 22 columns]"
      ]
     },
     "execution_count": 23,
     "metadata": {},
     "output_type": "execute_result"
    }
   ],
   "source": [
    "order_data.head(2)"
   ]
  },
  {
   "cell_type": "markdown",
   "id": "d3beca7a-152e-49c2-89c3-9011366d347f",
   "metadata": {},
   "source": [
    "## Create features for future the model"
   ]
  },
  {
   "cell_type": "code",
   "execution_count": 25,
   "id": "5819ab24-866c-4e40-a8ed-e8253ededa7d",
   "metadata": {
    "tags": []
   },
   "outputs": [
    {
     "name": "stdout",
     "output_type": "stream",
     "text": [
      "<class 'pandas.core.frame.DataFrame'>\n",
      "RangeIndex: 93369 entries, 0 to 93368\n",
      "Data columns (total 5 columns):\n",
      " #   Column                         Non-Null Count  Dtype  \n",
      "---  ------                         --------------  -----  \n",
      " 0   order_date                     93369 non-null  object \n",
      " 1   product_id                     93369 non-null  object \n",
      " 2   price                          93369 non-null  float64\n",
      " 3   product_category_name_english  93369 non-null  object \n",
      " 4   demand                         93369 non-null  int64  \n",
      "dtypes: float64(1), int64(1), object(3)\n",
      "memory usage: 3.6+ MB\n",
      "None\n"
     ]
    },
    {
     "data": {
      "text/html": [
       "<div>\n",
       "<style scoped>\n",
       "    .dataframe tbody tr th:only-of-type {\n",
       "        vertical-align: middle;\n",
       "    }\n",
       "\n",
       "    .dataframe tbody tr th {\n",
       "        vertical-align: top;\n",
       "    }\n",
       "\n",
       "    .dataframe thead th {\n",
       "        text-align: right;\n",
       "    }\n",
       "</style>\n",
       "<table border=\"1\" class=\"dataframe\">\n",
       "  <thead>\n",
       "    <tr style=\"text-align: right;\">\n",
       "      <th></th>\n",
       "      <th>order_date</th>\n",
       "      <th>product_id</th>\n",
       "      <th>price</th>\n",
       "      <th>product_category_name_english</th>\n",
       "      <th>demand</th>\n",
       "    </tr>\n",
       "  </thead>\n",
       "  <tbody>\n",
       "    <tr>\n",
       "      <th>0</th>\n",
       "      <td>2016-09-04</td>\n",
       "      <td>c1488892604e4ba5cff5b4eb4d595400</td>\n",
       "      <td>39.99</td>\n",
       "      <td>furniture_decor</td>\n",
       "      <td>1</td>\n",
       "    </tr>\n",
       "    <tr>\n",
       "      <th>1</th>\n",
       "      <td>2016-09-04</td>\n",
       "      <td>f293394c72c9b5fafd7023301fc21fc2</td>\n",
       "      <td>32.90</td>\n",
       "      <td>furniture_decor</td>\n",
       "      <td>1</td>\n",
       "    </tr>\n",
       "  </tbody>\n",
       "</table>\n",
       "</div>"
      ],
      "text/plain": [
       "   order_date                        product_id  price  \\\n",
       "0  2016-09-04  c1488892604e4ba5cff5b4eb4d595400  39.99   \n",
       "1  2016-09-04  f293394c72c9b5fafd7023301fc21fc2  32.90   \n",
       "\n",
       "  product_category_name_english  demand  \n",
       "0               furniture_decor       1  \n",
       "1               furniture_decor       1  "
      ]
     },
     "execution_count": 25,
     "metadata": {},
     "output_type": "execute_result"
    }
   ],
   "source": [
    "order_data['order_date'] = order_data['order_purchase_timestamp'].dt.date\n",
    "demand_data = order_data.groupby(['order_date', 'product_id', 'price', 'product_category_name_english']).agg({'order_item_id': 'count'}).reset_index()\n",
    "demand_data.rename(columns={'order_item_id': 'demand'}, inplace=True)\n",
    "print(demand_data.info())\n",
    "demand_data.head(2)"
   ]
  },
  {
   "cell_type": "markdown",
   "id": "6e71b3bf-581b-4d98-a50b-3f674ed556f2",
   "metadata": {},
   "source": [
    "## Sorting by 'product_id', 'order_date'\n",
    "\n",
    "ensures that the lag features correctly align with the historical sales data for each product. Without sorting, the shifts could mix up data from different products or out-of-order dates, leading to incorrect lag values."
   ]
  },
  {
   "cell_type": "code",
   "execution_count": 27,
   "id": "c9fdfe9c-08df-45ca-b524-ea9186f2b583",
   "metadata": {
    "tags": []
   },
   "outputs": [
    {
     "data": {
      "text/html": [
       "<div>\n",
       "<style scoped>\n",
       "    .dataframe tbody tr th:only-of-type {\n",
       "        vertical-align: middle;\n",
       "    }\n",
       "\n",
       "    .dataframe tbody tr th {\n",
       "        vertical-align: top;\n",
       "    }\n",
       "\n",
       "    .dataframe thead th {\n",
       "        text-align: right;\n",
       "    }\n",
       "</style>\n",
       "<table border=\"1\" class=\"dataframe\">\n",
       "  <thead>\n",
       "    <tr style=\"text-align: right;\">\n",
       "      <th></th>\n",
       "      <th>order_date</th>\n",
       "      <th>product_id</th>\n",
       "      <th>price</th>\n",
       "      <th>categ</th>\n",
       "      <th>demand</th>\n",
       "    </tr>\n",
       "  </thead>\n",
       "  <tbody>\n",
       "    <tr>\n",
       "      <th>73417</th>\n",
       "      <td>2018-05-20</td>\n",
       "      <td>00066f42aeeb9f3007548bb9d3f33c38</td>\n",
       "      <td>101.65</td>\n",
       "      <td>perfumery</td>\n",
       "      <td>1</td>\n",
       "    </tr>\n",
       "    <tr>\n",
       "      <th>39804</th>\n",
       "      <td>2017-12-12</td>\n",
       "      <td>00088930e925c41fd95ebfe695fd2655</td>\n",
       "      <td>129.90</td>\n",
       "      <td>auto</td>\n",
       "      <td>1</td>\n",
       "    </tr>\n",
       "    <tr>\n",
       "      <th>41376</th>\n",
       "      <td>2017-12-21</td>\n",
       "      <td>0009406fd7479715e4bef61dd91f2462</td>\n",
       "      <td>229.00</td>\n",
       "      <td>bed_bath_table</td>\n",
       "      <td>1</td>\n",
       "    </tr>\n",
       "    <tr>\n",
       "      <th>87117</th>\n",
       "      <td>2018-08-01</td>\n",
       "      <td>000b8f95fcb9e0096488278317764d19</td>\n",
       "      <td>58.90</td>\n",
       "      <td>housewares</td>\n",
       "      <td>1</td>\n",
       "    </tr>\n",
       "    <tr>\n",
       "      <th>89810</th>\n",
       "      <td>2018-08-10</td>\n",
       "      <td>000b8f95fcb9e0096488278317764d19</td>\n",
       "      <td>58.90</td>\n",
       "      <td>housewares</td>\n",
       "      <td>1</td>\n",
       "    </tr>\n",
       "    <tr>\n",
       "      <th>62558</th>\n",
       "      <td>2018-04-03</td>\n",
       "      <td>000d9be29b5207b54e86aa1b1ac54872</td>\n",
       "      <td>199.00</td>\n",
       "      <td>watches_gifts</td>\n",
       "      <td>1</td>\n",
       "    </tr>\n",
       "    <tr>\n",
       "      <th>40239</th>\n",
       "      <td>2017-12-14</td>\n",
       "      <td>0011c512eb256aa0dbbb544d8dffcf6e</td>\n",
       "      <td>52.00</td>\n",
       "      <td>auto</td>\n",
       "      <td>1</td>\n",
       "    </tr>\n",
       "    <tr>\n",
       "      <th>24248</th>\n",
       "      <td>2017-09-17</td>\n",
       "      <td>00126f27c813603687e6ce486d909d01</td>\n",
       "      <td>249.00</td>\n",
       "      <td>cool_stuff</td>\n",
       "      <td>2</td>\n",
       "    </tr>\n",
       "    <tr>\n",
       "      <th>30041</th>\n",
       "      <td>2017-10-28</td>\n",
       "      <td>001795ec6f1b187d37335e1c4704762e</td>\n",
       "      <td>38.90</td>\n",
       "      <td>consoles_games</td>\n",
       "      <td>1</td>\n",
       "    </tr>\n",
       "    <tr>\n",
       "      <th>35358</th>\n",
       "      <td>2017-11-25</td>\n",
       "      <td>001795ec6f1b187d37335e1c4704762e</td>\n",
       "      <td>38.90</td>\n",
       "      <td>consoles_games</td>\n",
       "      <td>1</td>\n",
       "    </tr>\n",
       "  </tbody>\n",
       "</table>\n",
       "</div>"
      ],
      "text/plain": [
       "       order_date                        product_id   price           categ  \\\n",
       "73417  2018-05-20  00066f42aeeb9f3007548bb9d3f33c38  101.65       perfumery   \n",
       "39804  2017-12-12  00088930e925c41fd95ebfe695fd2655  129.90            auto   \n",
       "41376  2017-12-21  0009406fd7479715e4bef61dd91f2462  229.00  bed_bath_table   \n",
       "87117  2018-08-01  000b8f95fcb9e0096488278317764d19   58.90      housewares   \n",
       "89810  2018-08-10  000b8f95fcb9e0096488278317764d19   58.90      housewares   \n",
       "62558  2018-04-03  000d9be29b5207b54e86aa1b1ac54872  199.00   watches_gifts   \n",
       "40239  2017-12-14  0011c512eb256aa0dbbb544d8dffcf6e   52.00            auto   \n",
       "24248  2017-09-17  00126f27c813603687e6ce486d909d01  249.00      cool_stuff   \n",
       "30041  2017-10-28  001795ec6f1b187d37335e1c4704762e   38.90  consoles_games   \n",
       "35358  2017-11-25  001795ec6f1b187d37335e1c4704762e   38.90  consoles_games   \n",
       "\n",
       "       demand  \n",
       "73417       1  \n",
       "39804       1  \n",
       "41376       1  \n",
       "87117       1  \n",
       "89810       1  \n",
       "62558       1  \n",
       "40239       1  \n",
       "24248       2  \n",
       "30041       1  \n",
       "35358       1  "
      ]
     },
     "execution_count": 27,
     "metadata": {},
     "output_type": "execute_result"
    }
   ],
   "source": [
    "# Sort data by date for each product\n",
    "demand_data = demand_data.sort_values(by=['product_id', 'order_date'])\n",
    "demand_data.rename(columns={'product_category_name_english': 'categ'}, inplace=True)\n",
    "demand_data.head(10)"
   ]
  },
  {
   "cell_type": "markdown",
   "id": "58b473b3-f2d1-40a9-9344-0e269457633c",
   "metadata": {},
   "source": [
    "## Savw the data"
   ]
  },
  {
   "cell_type": "code",
   "execution_count": 33,
   "id": "105b0403-2516-4cbf-a3a0-0b82b5d818ba",
   "metadata": {
    "tags": []
   },
   "outputs": [],
   "source": [
    "demand_data.to_csv('/Users/nataliamarko/Documents/jobs_applications/test_Smart_business/S_Data/demand_data_pp.csv', index=False)"
   ]
  },
  {
   "cell_type": "code",
   "execution_count": 29,
   "id": "37901fa0-4ffd-4de0-8ab9-18d452883953",
   "metadata": {
    "tags": []
   },
   "outputs": [
    {
     "data": {
      "image/png": "[encoded data removed]",
      "text/plain": [
       "<Figure size 640x480 with 1 Axes>"
      ]
     },
     "metadata": {},
     "output_type": "display_data"
    }
   ],
   "source": [
    "# Plot for all demand\n",
    "plt.bar(demand_data['order_date'], demand_data['demand'])\n",
    "plt.xlabel('Time')\n",
    "plt.ylabel('Total Demand')\n",
    "plt.title('Total Demand through Time')\n",
    "plt.xticks(rotation=45) \n",
    "plt.show()"
   ]
  },
  {
   "cell_type": "markdown",
   "id": "785d4dae-e3a0-4306-8d42-0dc32dc05b19",
   "metadata": {},
   "source": [
    "The plot shows the distribution of the 'demand', varying from 0 to approximately 25. This confirms that the demand has high variability, with many peaks and troughs. Such variability can be caused by seasonality, holidays, promotions, or other factors."
   ]
  },
  {
   "cell_type": "code",
   "execution_count": null,
   "id": "08b051ac-7102-4f99-8912-3b360d005da2",
   "metadata": {},
   "outputs": [],
   "source": []
  }
 ],
 "metadata": {
  "kernelspec": {
   "display_name": "Python 3 (ipykernel)",
   "language": "python",
   "name": "python3"
  },
  "language_info": {
   "codemirror_mode": {
    "name": "ipython",
    "version": 3
   },
   "file_extension": ".py",
   "mimetype": "text/x-python",
   "name": "python",
   "nbconvert_exporter": "python",
   "pygments_lexer": "ipython3",
   "version": "3.11.8"
  }
 },
 "nbformat": 4,
 "nbformat_minor": 5
}
